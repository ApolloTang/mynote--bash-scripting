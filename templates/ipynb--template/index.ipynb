{
 "cells": [
  {
   "cell_type": "markdown",
   "metadata": {},
   "source": [
    "# Using Jupyter magic command to run bash"
   ]
  },
  {
   "cell_type": "code",
   "execution_count": 6,
   "metadata": {},
   "outputs": [
    {
     "name": "stdout",
     "output_type": "stream",
     "text": [
      "\u001b[01;34m.\u001b[0m\n",
      "├── \u001b[01;32mfoo.sh\u001b[0m\n",
      "├── \u001b[00mindex.ipynb\u001b[0m\n",
      "└── \u001b[01;34mtmp\u001b[0m\n",
      "    ├── \u001b[00ma0.txt\u001b[0m\n",
      "    └── \u001b[00ma1.txt\u001b[0m\n",
      "\n",
      "2 directories, 4 files\n",
      "tmp\n"
     ]
    }
   ],
   "source": [
    "%%bash\n",
    "# setup playground\n",
    "\n",
    "sh -c \"[[ -d ./tmp ]] && { rm -r ./tmp; mkdir ./tmp;} || { mkdir -p ./tmp; }\"\n",
    "# The above oneliner removes the previous ./tmp/ and its content, then creates a new one with the same name\n",
    "# It is modified after:\n",
    "# stackoverflow.com/questions/73557323/bash-one-liner-check-if-a-directory-exists-if-so-delete-it-then-create-it-an\n",
    "\n",
    "\n",
    "touch ./tmp/a{0..1}.txt # create some sample file in ./tmp/ folder\n",
    "\n",
    "cat << \"EOF\" > .gitignore  # gitignore ./tmp folder\n",
    "tmp\n",
    "EOF\n",
    "\n",
    "# varify created files \n",
    "tree .\n",
    "cat .gitignore\n",
    "\n",
    "touch foo.sh && chmod 744 $_  # create script file and make it executable"
   ]
  },
  {
   "cell_type": "code",
   "execution_count": 7,
   "metadata": {},
   "outputs": [
    {
     "name": "stdout",
     "output_type": "stream",
     "text": [
      "Overwriting foo.sh\n"
     ]
    }
   ],
   "source": [
    "%%file foo.sh\n",
    "#!/usr/bin/env sh\n",
    "\n",
    "echo **"
   ]
  },
  {
   "cell_type": "code",
   "execution_count": 8,
   "metadata": {},
   "outputs": [
    {
     "name": "stdout",
     "output_type": "stream",
     "text": [
      "foo.sh index.ipynb tmp\n"
     ]
    }
   ],
   "source": [
    "%%bash \n",
    "./foo.sh"
   ]
  },
  {
   "cell_type": "code",
   "execution_count": null,
   "metadata": {},
   "outputs": [],
   "source": []
  }
 ],
 "metadata": {
  "kernelspec": {
   "display_name": "Python 3 (ipykernel)",
   "language": "python",
   "name": "python3"
  },
  "language_info": {
   "codemirror_mode": {
    "name": "ipython",
    "version": 3
   },
   "file_extension": ".py",
   "mimetype": "text/x-python",
   "name": "python",
   "nbconvert_exporter": "python",
   "pygments_lexer": "ipython3",
   "version": "3.12.3"
  },
  "vscode": {
   "interpreter": {
    "hash": "397704579725e15f5c7cb49fe5f0341eb7531c82d19f2c29d197e8b64ab5776b"
   }
  }
 },
 "nbformat": 4,
 "nbformat_minor": 4
}
