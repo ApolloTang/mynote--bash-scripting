{
 "cells": [
  {
   "cell_type": "markdown",
   "id": "3aa909d1",
   "metadata": {},
   "source": [
    "## Behaviour of space character in string\n",
    "\n",
    "When passing a string to a command, Bash see the space as argument deliminator:"
   ]
  },
  {
   "cell_type": "code",
   "execution_count": 1,
   "id": "21777985",
   "metadata": {},
   "outputs": [
    {
     "name": "stdout",
     "output_type": "stream",
     "text": [
      "asterisk string-interpolation-with-double-quote.ipynb is a special character\n"
     ]
    }
   ],
   "source": [
    "String_With_Asterisk=\"asterisk * is a special character\"\n",
    "echo $String_With_Asterisk"
   ]
  },
  {
   "cell_type": "markdown",
   "id": "bff7d693",
   "metadata": {},
   "source": [
    "Above is equivalent to:"
   ]
  },
  {
   "cell_type": "code",
   "execution_count": 2,
   "id": "c45d9e81",
   "metadata": {
    "scrolled": true
   },
   "outputs": [
    {
     "name": "stdout",
     "output_type": "stream",
     "text": [
      "asterisk string-interpolation-with-double-quote.ipynb is a special character\n"
     ]
    }
   ],
   "source": [
    "echo asterisk * is a special character"
   ]
  },
  {
   "cell_type": "markdown",
   "id": "aea7f0d7",
   "metadata": {},
   "source": [
    "In above, notice that the asterisk undergoes shell expansion.\n",
    "\n",
    "The behaviour is different when asterisk not surround by space:"
   ]
  },
  {
   "cell_type": "code",
   "execution_count": 3,
   "id": "6732fe9a",
   "metadata": {},
   "outputs": [
    {
     "name": "stdout",
     "output_type": "stream",
     "text": [
      "asterisk*is a special character\n"
     ]
    }
   ],
   "source": [
    "String_With_Asterisk2=\"asterisk*is a special character\"\n",
    "echo $String_With_Asterisk2"
   ]
  },
  {
   "cell_type": "markdown",
   "id": "22c30ab0",
   "metadata": {},
   "source": [
    "Above is equivalent to:"
   ]
  },
  {
   "cell_type": "code",
   "execution_count": 4,
   "id": "29e69d24",
   "metadata": {},
   "outputs": [
    {
     "name": "stdout",
     "output_type": "stream",
     "text": [
      "asterisk*is a special character\n"
     ]
    }
   ],
   "source": [
    "echo asterisk*is a special character"
   ]
  }
 ],
 "metadata": {
  "kernelspec": {
   "display_name": "Bash",
   "language": "bash",
   "name": "bash"
  },
  "language_info": {
   "codemirror_mode": "shell",
   "file_extension": ".sh",
   "mimetype": "text/x-sh",
   "name": "bash"
  }
 },
 "nbformat": 4,
 "nbformat_minor": 5
}
