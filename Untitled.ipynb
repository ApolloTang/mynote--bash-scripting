{
 "cells": [
  {
   "cell_type": "code",
   "execution_count": null,
   "id": "106e56df",
   "metadata": {},
   "outputs": [],
   "source": [
    "function show_fruits(){\n",
    "    echo \"${2-1}\"\n",
    "}\n",
    "show_fruits 3  3\n",
    "show_fruits 3  4"
   ]
  }
 ],
 "metadata": {
  "kernelspec": {
   "display_name": "Bash",
   "language": "bash",
   "name": "bash"
  },
  "language_info": {
   "codemirror_mode": "shell",
   "file_extension": ".sh",
   "mimetype": "text/x-sh",
   "name": "bash"
  }
 },
 "nbformat": 4,
 "nbformat_minor": 5
}
