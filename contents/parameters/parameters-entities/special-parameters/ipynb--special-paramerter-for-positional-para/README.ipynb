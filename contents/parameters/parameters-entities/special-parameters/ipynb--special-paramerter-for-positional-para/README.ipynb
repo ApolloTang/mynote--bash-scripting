{
 "cells": [
  {
   "cell_type": "code",
   "execution_count": 26,
   "metadata": {},
   "outputs": [],
   "source": [
    "%%bash \n",
    "touch echo-arguments.sh && chmod 744 $_ \n",
    "touch no-quoting.sh && chmod 744 $_ \n",
    "touch with-quoting.sh && chmod 744 $_ "
   ]
  },
  {
   "cell_type": "code",
   "execution_count": 27,
   "metadata": {},
   "outputs": [
    {
     "name": "stdout",
     "output_type": "stream",
     "text": [
      "Overwriting echo-arguments.sh\n"
     ]
    }
   ],
   "source": [
    "%%file echo-arguments.sh\n",
    "#!/usr/bin/env sh\n",
    "\n",
    "echo \"Arg 1: $1\"\n",
    "echo \"Arg 2: $2\"\n",
    "echo \"Arg 3: $3\""
   ]
  },
  {
   "cell_type": "code",
   "execution_count": 32,
   "metadata": {},
   "outputs": [
    {
     "name": "stdout",
     "output_type": "stream",
     "text": [
      "Overwriting no-quoting.sh\n"
     ]
    }
   ],
   "source": [
    "%%file no-quoting.sh\n",
    "#!/usr/bin/env sh\n",
    "\n",
    "echo 'executing ./echo-arguments.sh $* :'\n",
    "./echo-arguments.sh $* \n",
    "\n",
    "echo 'executing ./echo-arguments.sh $@ :'\n",
    "./echo-arguments.sh $@ "
   ]
  },
  {
   "cell_type": "code",
   "execution_count": 33,
   "metadata": {},
   "outputs": [
    {
     "name": "stdout",
     "output_type": "stream",
     "text": [
      "executing ./echo-arguments.sh $* :\n",
      "Arg 1: one\n",
      "Arg 2: two-1\n",
      "Arg 3: two-2\n",
      "executing ./echo-arguments.sh $@ :\n",
      "Arg 1: one\n",
      "Arg 2: two-1\n",
      "Arg 3: two-2\n"
     ]
    }
   ],
   "source": [
    "%%bash \n",
    "./no-quoting.sh one 'two-1 two-2' three"
   ]
  },
  {
   "cell_type": "code",
   "execution_count": 35,
   "metadata": {},
   "outputs": [
    {
     "name": "stdout",
     "output_type": "stream",
     "text": [
      "Overwriting with-quoting.sh\n"
     ]
    }
   ],
   "source": [
    "%%file with-quoting.sh\n",
    "#!/usr/bin/env sh\n",
    "\n",
    "echo 'executing ./echo-arguments.sh \"$*\" :'\n",
    "./echo-arguments.sh \"$*\"\n",
    "\n",
    "echo 'executing ./echo-arguments.sh \"$@\" :'\n",
    "./echo-arguments.sh \"$@\""
   ]
  },
  {
   "cell_type": "code",
   "execution_count": 36,
   "metadata": {},
   "outputs": [
    {
     "name": "stdout",
     "output_type": "stream",
     "text": [
      "executing ./echo-arguments.sh \"$*\" :\n",
      "Arg 1: one two-1 two-2 three\n",
      "Arg 2: \n",
      "Arg 3: \n",
      "executing ./echo-arguments.sh \"$@\" :\n",
      "Arg 1: one\n",
      "Arg 2: two-1 two-2\n",
      "Arg 3: three\n"
     ]
    }
   ],
   "source": [
    "%%bash \n",
    "./with-quoting.sh one 'two-1 two-2' three"
   ]
  },
  {
   "cell_type": "code",
   "execution_count": null,
   "metadata": {},
   "outputs": [],
   "source": []
  }
 ],
 "metadata": {
  "kernelspec": {
   "display_name": "Python 3 (ipykernel)",
   "language": "python",
   "name": "python3"
  },
  "language_info": {
   "codemirror_mode": {
    "name": "ipython",
    "version": 3
   },
   "file_extension": ".py",
   "mimetype": "text/x-python",
   "name": "python",
   "nbconvert_exporter": "python",
   "pygments_lexer": "ipython3",
   "version": "3.12.3"
  },
  "vscode": {
   "interpreter": {
    "hash": "98a363e5a94e1876d8eaa864fe3462155204ee734a8db7d30a96a3323445511c"
   }
  }
 },
 "nbformat": 4,
 "nbformat_minor": 4
}
