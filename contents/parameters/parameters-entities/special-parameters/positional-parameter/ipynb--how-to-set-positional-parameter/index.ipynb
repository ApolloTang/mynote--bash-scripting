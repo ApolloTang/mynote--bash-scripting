{
 "cells": [
  {
   "cell_type": "code",
   "execution_count": 2,
   "id": "b4687bed-655e-42eb-86f0-7546d786b823",
   "metadata": {},
   "outputs": [],
   "source": [
    "%%bash\n",
    "# setup playground\n",
    "\n",
    "touch foo.sh && chmod 744 $_  # create script file and make it executable"
   ]
  },
  {
   "cell_type": "code",
   "execution_count": 12,
   "id": "963bc0f1-6152-4917-b983-4c813ed0180f",
   "metadata": {},
   "outputs": [
    {
     "name": "stdout",
     "output_type": "stream",
     "text": [
      "Overwriting foo.sh\n"
     ]
    }
   ],
   "source": [
    "%%file foo.sh\n",
    "#!/usr/bin/env sh\n",
    "echo $@\n",
    "set -- 1 2 3\n",
    "echo $@"
   ]
  },
  {
   "cell_type": "code",
   "execution_count": 13,
   "id": "61a13ae4-2369-4e25-9686-d2157ba3733f",
   "metadata": {},
   "outputs": [
    {
     "name": "stdout",
     "output_type": "stream",
     "text": [
      "a b c d e f\n",
      "1 2 3\n"
     ]
    }
   ],
   "source": [
    "%%bash \n",
    "./foo.sh a b c d e f"
   ]
  },
  {
   "cell_type": "code",
   "execution_count": null,
   "id": "2d455ac4-a53f-4d8f-b99d-b16ad70ee411",
   "metadata": {},
   "outputs": [],
   "source": []
  }
 ],
 "metadata": {
  "kernelspec": {
   "display_name": "Python 3 (ipykernel)",
   "language": "python",
   "name": "python3"
  },
  "language_info": {
   "codemirror_mode": {
    "name": "ipython",
    "version": 3
   },
   "file_extension": ".py",
   "mimetype": "text/x-python",
   "name": "python",
   "nbconvert_exporter": "python",
   "pygments_lexer": "ipython3",
   "version": "3.12.3"
  }
 },
 "nbformat": 4,
 "nbformat_minor": 5
}
