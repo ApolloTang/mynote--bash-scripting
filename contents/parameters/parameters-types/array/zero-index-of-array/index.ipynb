{
 "cells": [
  {
   "cell_type": "markdown",
   "id": "bdb9e94b",
   "metadata": {},
   "source": [
    "This note talks about the zeroth element and using square bracket array subscript notation directly on non array parameter"
   ]
  },
  {
   "cell_type": "markdown",
   "id": "42b583bd",
   "metadata": {},
   "source": [
    "Referring to the zeroth element of an array is synonymous with referring to the array name without a subscript."
   ]
  },
  {
   "cell_type": "code",
   "execution_count": 35,
   "id": "c1f9da8c",
   "metadata": {
    "vscode": {
     "languageId": "shellscript"
    }
   },
   "outputs": [
    {
     "name": "stdout",
     "output_type": "stream",
     "text": [
      "zeroth element\n"
     ]
    }
   ],
   "source": [
    "myarray=(\"zeroth element\" \"first element\" \"second element\" \"third element\")\n",
    "echo \"$myarray\""
   ]
  },
  {
   "cell_type": "markdown",
   "id": "d8f89776",
   "metadata": {},
   "source": [
    "Subsccript zero can be use to reference a regular (non-special) parameter:"
   ]
  },
  {
   "cell_type": "code",
   "execution_count": 36,
   "id": "4b2a6516",
   "metadata": {
    "vscode": {
     "languageId": "shellscript"
    }
   },
   "outputs": [
    {
     "name": "stdout",
     "output_type": "stream",
     "text": [
      "the value of x is: hi \n",
      "the value of x[0] is: hi \n"
     ]
    }
   ],
   "source": [
    "x=hi                                       # x is a regular (non-special) parameter\n",
    "printf \"the value of x is: %s \\n\" \"$x\"\n",
    "printf \"the value of x[0] is: %s \\n\" \"${x[0]}\" "
   ]
  },
  {
   "cell_type": "markdown",
   "id": "220e1e35",
   "metadata": {},
   "source": [
    "However, referenced using non zero subscript is invalid:"
   ]
  },
  {
   "cell_type": "code",
   "execution_count": 37,
   "id": "ea972e44",
   "metadata": {
    "vscode": {
     "languageId": "shellscript"
    }
   },
   "outputs": [
    {
     "name": "stdout",
     "output_type": "stream",
     "text": [
      "the value of x is: bye \n",
      "the value of x[0] is: bye \n",
      "the value of x[1] is:  \n"
     ]
    }
   ],
   "source": [
    "x=bye # x is a regular parameter \n",
    "printf \"the value of x is: %s \\n\" \"$x\"\n",
    "printf \"the value of x[0] is: %s \\n\" \"${x[0]}\" \n",
    "printf \"the value of x[1] is: %s \\n\" \"${x[1]}\" # invalid\n"
   ]
  },
  {
   "cell_type": "markdown",
   "id": "db17b5bd",
   "metadata": {},
   "source": [
    "You can use the zero subscript on some speicial parameters: "
   ]
  },
  {
   "cell_type": "code",
   "execution_count": 38,
   "id": "8d08bb1c",
   "metadata": {
    "vscode": {
     "languageId": "shellscript"
    }
   },
   "outputs": [
    {
     "name": "stdout",
     "output_type": "stream",
     "text": [
      "the value of x is: apple \n",
      "$_ is the last argument of previous command executed in the foreground, it has value of: apple \n",
      "${_[0]} is the last argument of previous command executed in the foreground, it has value of: apple \n",
      "In the above you must use ${...}, $_[0] does not work, it will result in: apple[0]\n"
     ]
    }
   ],
   "source": [
    "x=apple\n",
    "printf \"the value of x is: %s \\n\" \"$x\"\n",
    "printf \"\\$_ is the last argument of previous command executed in the foreground, it has value of: %s \\n\" \"$_\"\n",
    "printf \"\\${_[0]} is the last argument of previous command executed in the foreground, it has value of: %s \\n\"  \"${_[0]}\"\n",
    "printf \"In the above you must use \\${...}, \\$_[0] does not work, it will result in: %s\\n\" \"$_[0]\""
   ]
  },
  {
   "cell_type": "markdown",
   "id": "364ae049",
   "metadata": {},
   "source": [
    "You cannot use the square bracket array subscript notation directly on the special `$@` or `$*` parameters like you would with a regular array\n",
    "\n",
    "```bash\n",
    "echo ${@[1]} - Invalid syntax\n",
    "echo ${*[1]} - Invalid syntax\n",
    "```"
   ]
  }
 ],
 "metadata": {
  "kernelspec": {
   "display_name": "Bash",
   "language": "bash",
   "name": "bash"
  },
  "language_info": {
   "codemirror_mode": "shell",
   "file_extension": ".sh",
   "mimetype": "text/x-sh",
   "name": "bash"
  }
 },
 "nbformat": 4,
 "nbformat_minor": 5
}
