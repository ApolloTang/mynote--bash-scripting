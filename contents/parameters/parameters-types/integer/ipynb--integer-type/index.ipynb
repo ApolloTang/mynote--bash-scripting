{
 "cells": [
  {
   "cell_type": "markdown",
   "id": "fb4f9a38-055f-484c-b6e0-343a2f77de3a",
   "metadata": {},
   "source": [
    "# Integer type in bash"
   ]
  },
  {
   "cell_type": "code",
   "execution_count": 31,
   "id": "61be235f-55dc-48e7-8ce3-23faa96ffca9",
   "metadata": {},
   "outputs": [
    {
     "name": "stdout",
     "output_type": "stream",
     "text": [
      "5\n"
     ]
    }
   ],
   "source": [
    "myNum2='2'\n",
    "myNum3='3'\n",
    "((result=myNum2+myNum3))   # arithmetic evaluation\n",
    "gprintf \"%s\\n\" $result "
   ]
  },
  {
   "cell_type": "markdown",
   "id": "aac3d3d4-6bdb-48bf-bbbf-d7e7438699df",
   "metadata": {},
   "source": [
    "## Arithmetic operation with mixed type variable"
   ]
  },
  {
   "cell_type": "code",
   "execution_count": 32,
   "id": "f49dc283-6b2e-4660-9e4c-d4977c1ef9aa",
   "metadata": {},
   "outputs": [
    {
     "name": "stdout",
     "output_type": "stream",
     "text": [
      "4\n",
      "0\n"
     ]
    }
   ],
   "source": [
    "myNum2='2'\n",
    "myString3='three'\n",
    "((resultMixType=myNum2+myNum2+myString3))\n",
    "gprintf \"%s\\n\" $resultMixType \n",
    "\n",
    "((valueOfmyString3=myString3))\n",
    "gprintf \"%s\\n\" $valueOfmyString3 "
   ]
  },
  {
   "cell_type": "markdown",
   "id": "b5265240-5f6c-4909-9d24-0a8a7b14fc3f",
   "metadata": {},
   "source": [
    "## Using `declare -i`"
   ]
  },
  {
   "cell_type": "code",
   "execution_count": 13,
   "id": "3bf793df-d79e-40ee-9a99-0ed904dc049f",
   "metadata": {},
   "outputs": [
    {
     "name": "stdout",
     "output_type": "stream",
     "text": [
      "52\n"
     ]
    }
   ],
   "source": [
    "a=5; a+=2; echo \"$a\"; unset a"
   ]
  },
  {
   "cell_type": "code",
   "execution_count": 14,
   "id": "e1063eb9-a6ee-4fee-97e0-5960b071e683",
   "metadata": {},
   "outputs": [
    {
     "name": "stdout",
     "output_type": "stream",
     "text": [
      "7\n"
     ]
    }
   ],
   "source": [
    "a=5; ((a+=2)); echo \"$a\"; unset a"
   ]
  },
  {
   "cell_type": "code",
   "execution_count": 17,
   "id": "a127c93c-7533-4c2c-ab87-0e5c376db92f",
   "metadata": {},
   "outputs": [
    {
     "name": "stdout",
     "output_type": "stream",
     "text": [
      "7\n"
     ]
    }
   ],
   "source": [
    "declare -i a=5; a+=2; echo \"$a\"; unset a"
   ]
  },
  {
   "cell_type": "markdown",
   "id": "24058375-503e-45de-ab7c-6c4f3f96052d",
   "metadata": {},
   "source": [
    "## Reasign an integer declared varible with string"
   ]
  },
  {
   "cell_type": "code",
   "execution_count": 34,
   "id": "01f69068-ff0e-4ae9-8475-ada2650869f7",
   "metadata": {},
   "outputs": [
    {
     "name": "stdout",
     "output_type": "stream",
     "text": [
      "0\n"
     ]
    }
   ],
   "source": [
    "declare -i a=5; a=five; echo \"$a\"; unset a"
   ]
  }
 ],
 "metadata": {
  "kernelspec": {
   "display_name": "Bash",
   "language": "bash",
   "name": "bash"
  },
  "language_info": {
   "codemirror_mode": "shell",
   "file_extension": ".sh",
   "mimetype": "text/x-sh",
   "name": "bash"
  }
 },
 "nbformat": 4,
 "nbformat_minor": 5
}
