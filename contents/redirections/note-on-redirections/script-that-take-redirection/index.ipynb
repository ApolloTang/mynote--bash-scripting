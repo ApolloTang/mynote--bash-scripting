{
 "cells": [
  {
   "cell_type": "code",
   "execution_count": 35,
   "id": "42d4d92f-6e2f-4d4a-90ad-7e30bb20e7f8",
   "metadata": {},
   "outputs": [
    {
     "name": "stdout",
     "output_type": "stream",
     "text": [
      "Exception reporting mode: Minimal\n"
     ]
    }
   ],
   "source": [
    "# minimal output from pythons https://stackoverflow.com/a/78281950/3136861\n",
    "%xmode Minimal  "
   ]
  },
  {
   "cell_type": "code",
   "execution_count": 36,
   "id": "b71127f7-a0b6-4b6f-b5af-e8035c4ced13",
   "metadata": {},
   "outputs": [],
   "source": [
    "%%bash\n",
    "# setup playground\n",
    "touch myscript.sh && chmod 744 $_  # create script file and make it executable\n",
    "echo -e '  hello\\world   \\n  goodbye\\word' > data.txt"
   ]
  },
  {
   "cell_type": "markdown",
   "id": "f9101197-45e2-4e3f-acad-458c78aa1563",
   "metadata": {},
   "source": [
    "# Script that take redirection from stdin (fd 0)"
   ]
  },
  {
   "cell_type": "code",
   "execution_count": 37,
   "id": "9538ab78-0127-43ba-86e3-2d58380a1a86",
   "metadata": {},
   "outputs": [
    {
     "name": "stdout",
     "output_type": "stream",
     "text": [
      "Overwriting myscript.sh\n"
     ]
    }
   ],
   "source": [
    "%%file myscript.sh\n",
    "#!/bin/bash\n",
    "\n",
    "while IFS= read -r line; do\n",
    "  echo \"$line\"\n",
    "done"
   ]
  },
  {
   "cell_type": "code",
   "execution_count": 38,
   "id": "c4e03e5f-351d-4452-9ffb-9e973429b3ce",
   "metadata": {},
   "outputs": [
    {
     "name": "stdout",
     "output_type": "stream",
     "text": [
      "  hello\\world   \n",
      "  goodbye\\word\n"
     ]
    }
   ],
   "source": [
    "%%bash\n",
    "./myscript.sh < data.txt"
   ]
  },
  {
   "cell_type": "markdown",
   "id": "d1677c8b-e5f5-48f0-b018-08ba493fbfdf",
   "metadata": {},
   "source": [
    "Let's explain the while's condition :\n",
    "```\n",
    "IFS= read -r line\n",
    "```\n",
    "\n",
    "- The `read` command returns true (exit status 0) if it successfully reads a line.\n",
    "- When the `read` command reaches the end of the input (EOF), it returns false (non-zero exit status), and the while loop terminates.\n",
    "- The -r option prevents backslashes `\\` from being treated as escape characters, meaning backslashes will be read literally.\n",
    "- We assign IFS to an empty string, `IFS=`. This ensures each line read by the `read` command will not undergo word expansion. This will, therefore, preserve whitespace from each line in the file read. Word expansion is undesirable because it will trim the leading and trailing whitespace. It will also condense multiple white space characters into a single space. "
   ]
  },
  {
   "cell_type": "markdown",
   "id": "d2602bff-63ab-48b8-aaea-b6b3c44ce98e",
   "metadata": {},
   "source": [
    "This also work with pipe or interactive input from the terminal. In scenarios where stdin comes from the terminal or a pipe, the while loop still terminates when read encounters an end-of-input condition, which can occur even without a typical \"end-of-file\" (EOF) like in a file."
   ]
  },
  {
   "cell_type": "markdown",
   "id": "4fceb583-e19c-4885-9eb0-7efd6f9ce0d9",
   "metadata": {},
   "source": [
    "## Pipe from Another Command"
   ]
  },
  {
   "cell_type": "code",
   "execution_count": 39,
   "id": "5c4da897-948e-45dc-b849-cf0227708e5e",
   "metadata": {},
   "outputs": [
    {
     "name": "stdout",
     "output_type": "stream",
     "text": [
      "  hello\\world   \n",
      "  goodbye\\word\n"
     ]
    }
   ],
   "source": [
    "%%bash\n",
    "echo -e '  hello\\world   \\n  goodbye\\word' | ./myscript.sh"
   ]
  },
  {
   "cell_type": "markdown",
   "id": "34c1e3ef-a726-41c6-8a60-f027e1893bb3",
   "metadata": {},
   "source": [
    "Even though it's not reading from a traditional file, the pipe still provides a finite stream of data. Once all data is passed through the pipe, it sends an EOF to indicate the end of the stream."
   ]
  },
  {
   "cell_type": "markdown",
   "id": "3499e620-e70a-4df1-b98a-1e522e07ec57",
   "metadata": {},
   "source": [
    "## Interactive Input from the Terminal\n",
    "\n",
    "When stdin is the terminal (i.e., the user types input manually), the `read` command reads lines until the user signals the end of the input (when the user presses Ctrl+D on an empty line to send an EOF signal to the terminal).\n",
    "\n",
    "This EOF signal allows the `read` command to return false, terminating the while loop.\n",
    "\n",
    "We cannot demo user interaction on Jupyter Notebook,  so I have pasted what happened in the terminal below:\n",
    "```\n",
    "$ ./myscript.sh\n",
    "   hello\\world\n",
    "   hello\\world\n",
    "    goodbye\\   world\n",
    "    goodbye\\   world\n",
    "```\n",
    "Note that each line is repeated: the first is what you type, and the second is the result of the `echo` command in the script."
   ]
  },
  {
   "cell_type": "code",
   "execution_count": null,
   "id": "8fe27aea-65a6-4b26-a25c-dfa0c047fcaf",
   "metadata": {},
   "outputs": [],
   "source": []
  }
 ],
 "metadata": {
  "kernelspec": {
   "display_name": "Python 3 (ipykernel)",
   "language": "python",
   "name": "python3"
  },
  "language_info": {
   "codemirror_mode": {
    "name": "ipython",
    "version": 3
   },
   "file_extension": ".py",
   "mimetype": "text/x-python",
   "name": "python",
   "nbconvert_exporter": "python",
   "pygments_lexer": "ipython3",
   "version": "3.12.3"
  }
 },
 "nbformat": 4,
 "nbformat_minor": 5
}
