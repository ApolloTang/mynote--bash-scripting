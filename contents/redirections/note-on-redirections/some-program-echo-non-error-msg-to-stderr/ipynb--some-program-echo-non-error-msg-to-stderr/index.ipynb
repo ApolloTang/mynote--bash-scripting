{
 "cells": [
  {
   "cell_type": "markdown",
   "metadata": {},
   "source": [
    "# Some output of successful execution is redirected to stderr\n",
    "\n",
    "Here is a command that prints java's version:"
   ]
  },
  {
   "cell_type": "code",
   "execution_count": 1,
   "metadata": {},
   "outputs": [
    {
     "name": "stderr",
     "output_type": "stream",
     "text": [
      "java version \"1.8.0_131\"\n",
      "Java(TM) SE Runtime Environment (build 1.8.0_131-b11)\n",
      "Java HotSpot(TM) 64-Bit Server VM (build 25.131-b11, mixed mode)\n"
     ]
    }
   ],
   "source": [
    "%%bash\n",
    "java -version"
   ]
  },
  {
   "cell_type": "markdown",
   "metadata": {},
   "source": [
    "Let's try to save the output of command `java -version` to a file:"
   ]
  },
  {
   "cell_type": "code",
   "execution_count": 2,
   "metadata": {
    "scrolled": true
   },
   "outputs": [
    {
     "name": "stderr",
     "output_type": "stream",
     "text": [
      "java version \"1.8.0_131\"\n",
      "Java(TM) SE Runtime Environment (build 1.8.0_131-b11)\n",
      "Java HotSpot(TM) 64-Bit Server VM (build 25.131-b11, mixed mode)\n"
     ]
    }
   ],
   "source": [
    "%%bash\n",
    "java -version > java_version-attempt1.txt"
   ]
  },
  {
   "cell_type": "markdown",
   "metadata": {},
   "source": [
    "The output of the command `java—version` is displayed on the terminal. We expected that it should not be displayed but saved to the file. Let's see the content of output file:"
   ]
  },
  {
   "cell_type": "code",
   "execution_count": 3,
   "metadata": {},
   "outputs": [],
   "source": [
    "%%bash\n",
    "cat ./java_version-attempt1.txt  "
   ]
  },
  {
   "cell_type": "markdown",
   "metadata": {},
   "source": [
    "The content of the output file `java_version-attempt1.txt` is empty because the output of command `java—version` has been programmed to direct to stderr.\n",
    "\n",
    "We can show that this is the case by saving the error to a file:"
   ]
  },
  {
   "cell_type": "code",
   "execution_count": 4,
   "metadata": {},
   "outputs": [],
   "source": [
    "%%bash\n",
    "java -version 2> java_version-attempt2.txt"
   ]
  },
  {
   "cell_type": "markdown",
   "metadata": {},
   "source": [
    "This time the version is not diplay on the terminal but save to the file:"
   ]
  },
  {
   "cell_type": "code",
   "execution_count": 5,
   "metadata": {},
   "outputs": [
    {
     "name": "stdout",
     "output_type": "stream",
     "text": [
      "java version \"1.8.0_131\"\n",
      "Java(TM) SE Runtime Environment (build 1.8.0_131-b11)\n",
      "Java HotSpot(TM) 64-Bit Server VM (build 25.131-b11, mixed mode)\n"
     ]
    }
   ],
   "source": [
    "%%bash\n",
    "cat ./java_version-attempt2.txt"
   ]
  },
  {
   "cell_type": "markdown",
   "metadata": {},
   "source": [
    "## Redirect success output and error to the same file"
   ]
  },
  {
   "cell_type": "code",
   "execution_count": 6,
   "metadata": {},
   "outputs": [],
   "source": [
    "%%bash\n",
    "java -version 1>java_version-attempt3.txt 2>java_version-attempt3.txt"
   ]
  },
  {
   "cell_type": "code",
   "execution_count": 7,
   "metadata": {},
   "outputs": [
    {
     "name": "stdout",
     "output_type": "stream",
     "text": [
      "java version \"1.8.0_131\"\n",
      "Java(TM) SE Runtime Environment (build 1.8.0_131-b11)\n",
      "Java HotSpot(TM) 64-Bit Server VM (build 25.131-b11, mixed mode)\n"
     ]
    }
   ],
   "source": [
    "%%bash\n",
    "cat ./java_version-attempt3.txt"
   ]
  },
  {
   "cell_type": "markdown",
   "metadata": {},
   "source": [
    "## Error output to the file where success output is store"
   ]
  },
  {
   "cell_type": "code",
   "execution_count": 8,
   "metadata": {},
   "outputs": [],
   "source": [
    "%%bash\n",
    "java -version 1>java_version-attempt4.txt 2>&1"
   ]
  },
  {
   "cell_type": "code",
   "execution_count": 9,
   "metadata": {},
   "outputs": [
    {
     "name": "stdout",
     "output_type": "stream",
     "text": [
      "java version \"1.8.0_131\"\n",
      "Java(TM) SE Runtime Environment (build 1.8.0_131-b11)\n",
      "Java HotSpot(TM) 64-Bit Server VM (build 25.131-b11, mixed mode)\n"
     ]
    }
   ],
   "source": [
    "%%bash\n",
    "cat ./java_version-attempt4.txt"
   ]
  },
  {
   "cell_type": "markdown",
   "metadata": {},
   "source": [
    "## Short hand for redirect success output and error to the same file "
   ]
  },
  {
   "cell_type": "code",
   "execution_count": 10,
   "metadata": {},
   "outputs": [],
   "source": [
    "%%bash\n",
    "java -version &>java_version-attempt5.txt"
   ]
  },
  {
   "cell_type": "code",
   "execution_count": 11,
   "metadata": {},
   "outputs": [
    {
     "name": "stdout",
     "output_type": "stream",
     "text": [
      "java version \"1.8.0_131\"\n",
      "Java(TM) SE Runtime Environment (build 1.8.0_131-b11)\n",
      "Java HotSpot(TM) 64-Bit Server VM (build 25.131-b11, mixed mode)\n"
     ]
    }
   ],
   "source": [
    "%%bash\n",
    "cat ./java_version-attempt5.txt"
   ]
  },
  {
   "cell_type": "code",
   "execution_count": null,
   "metadata": {},
   "outputs": [],
   "source": []
  }
 ],
 "metadata": {
  "kernelspec": {
   "display_name": "Python 3 (ipykernel)",
   "language": "python",
   "name": "python3"
  },
  "language_info": {
   "codemirror_mode": {
    "name": "ipython",
    "version": 3
   },
   "file_extension": ".py",
   "mimetype": "text/x-python",
   "name": "python",
   "nbconvert_exporter": "python",
   "pygments_lexer": "ipython3",
   "version": "3.12.3"
  },
  "vscode": {
   "interpreter": {
    "hash": "98a363e5a94e1876d8eaa864fe3462155204ee734a8db7d30a96a3323445511c"
   }
  }
 },
 "nbformat": 4,
 "nbformat_minor": 4
}
