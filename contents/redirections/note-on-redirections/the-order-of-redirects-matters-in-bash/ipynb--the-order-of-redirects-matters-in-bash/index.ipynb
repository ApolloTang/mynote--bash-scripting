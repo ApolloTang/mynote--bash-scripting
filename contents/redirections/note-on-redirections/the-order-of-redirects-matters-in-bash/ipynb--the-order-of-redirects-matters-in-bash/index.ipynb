{
 "cells": [
  {
   "cell_type": "code",
   "execution_count": 1,
   "id": "0aa5efdd-d321-45d6-8a66-383d593c02cc",
   "metadata": {},
   "outputs": [
    {
     "name": "stdout",
     "output_type": "stream",
     "text": [
      "Exception reporting mode: Minimal\n"
     ]
    }
   ],
   "source": [
    "# minimal output from pythons https://stackoverflow.com/a/78281950/3136861\n",
    "%xmode Minimal  "
   ]
  },
  {
   "cell_type": "code",
   "execution_count": 2,
   "id": "f1897aa8-499a-4318-abdf-46d8b833b6db",
   "metadata": {},
   "outputs": [],
   "source": [
    "%%bash\n",
    "# setup playground\n",
    "\n",
    "touch myscript.sh && chmod 744 $_  # create script file and make it executable\n",
    "\n",
    "sh -c \"[[ -d ./study1 ]] && { rm -r ./study1; mkdir ./study1;} || { mkdir -p ./study1; }\"\n",
    "sh -c \"[[ -d ./study2 ]] && { rm -r ./study2; mkdir ./study2;} || { mkdir -p ./study2; }\""
   ]
  },
  {
   "cell_type": "code",
   "execution_count": 3,
   "id": "1afaa701-e71a-49d9-8ba3-aa9cfab23043",
   "metadata": {},
   "outputs": [
    {
     "name": "stdout",
     "output_type": "stream",
     "text": [
      "Overwriting myscript.sh\n"
     ]
    }
   ],
   "source": [
    "%%file myscript.sh\n",
    "#!/usr/bin/env sh\n",
    "\n",
    "echo 'some message'       # Goes to stdout by default\n",
    "echo 'error message' >&2  # Redirects to stderr explicitly"
   ]
  },
  {
   "cell_type": "markdown",
   "id": "eccc09f0-1b3a-44bf-9d42-845da647229d",
   "metadata": {},
   "source": [
    "## Study1"
   ]
  },
  {
   "cell_type": "code",
   "execution_count": 16,
   "id": "5878a798-8b38-42cd-8fbc-f37624a5bf37",
   "metadata": {},
   "outputs": [],
   "source": [
    "%%bash\n",
    "cd study1\n",
    "../myscript.sh >file.txt 2>&1"
   ]
  },
  {
   "cell_type": "code",
   "execution_count": 22,
   "id": "c3fd4edf-a490-4930-aee4-d0299aa3ef43",
   "metadata": {},
   "outputs": [
    {
     "name": "stdout",
     "output_type": "stream",
     "text": [
      "\u001b[01;34m.\u001b[0m/\n",
      "└── \u001b[00mfile.txt\u001b[0m\n",
      "\n",
      "1 directory, 1 file\n"
     ]
    }
   ],
   "source": [
    "%%bash\n",
    "cd study1\n",
    "tree -F"
   ]
  },
  {
   "cell_type": "code",
   "execution_count": 23,
   "id": "90218692-5d2c-48d3-b3b0-2482543228d0",
   "metadata": {},
   "outputs": [
    {
     "name": "stdout",
     "output_type": "stream",
     "text": [
      "some message\n",
      "error message\n"
     ]
    }
   ],
   "source": [
    "%%bash\n",
    "cd study1\n",
    "cat file.txt"
   ]
  },
  {
   "cell_type": "markdown",
   "id": "79e155cf-65b0-4a71-8713-cc13e7d56cf1",
   "metadata": {},
   "source": [
    "## Study2"
   ]
  },
  {
   "cell_type": "code",
   "execution_count": 24,
   "id": "4e26c5f5-5f7c-4ef4-8d2b-7f2f7e8159a1",
   "metadata": {},
   "outputs": [
    {
     "name": "stdout",
     "output_type": "stream",
     "text": [
      "error message\n"
     ]
    }
   ],
   "source": [
    "%%bash\n",
    "cd study2\n",
    "../myscript.sh 2>&1  >file.txt"
   ]
  },
  {
   "cell_type": "code",
   "execution_count": 25,
   "id": "b5a93496-aac7-4f9d-964e-725363567fff",
   "metadata": {},
   "outputs": [
    {
     "name": "stdout",
     "output_type": "stream",
     "text": [
      "\u001b[01;34m.\u001b[0m/\n",
      "└── \u001b[00mfile.txt\u001b[0m\n",
      "\n",
      "1 directory, 1 file\n"
     ]
    }
   ],
   "source": [
    "%%bash\n",
    "cd study2\n",
    "tree -F"
   ]
  },
  {
   "cell_type": "code",
   "execution_count": 26,
   "id": "ccf1a2ae-ee56-4eb1-b5a4-b2bc3c142eec",
   "metadata": {},
   "outputs": [
    {
     "name": "stdout",
     "output_type": "stream",
     "text": [
      "some message\n"
     ]
    }
   ],
   "source": [
    "%%bash\n",
    "cd study2\n",
    "cat file.txt"
   ]
  }
 ],
 "metadata": {
  "kernelspec": {
   "display_name": "Python 3 (ipykernel)",
   "language": "python",
   "name": "python3"
  },
  "language_info": {
   "codemirror_mode": {
    "name": "ipython",
    "version": 3
   },
   "file_extension": ".py",
   "mimetype": "text/x-python",
   "name": "python",
   "nbconvert_exporter": "python",
   "pygments_lexer": "ipython3",
   "version": "3.12.7"
  }
 },
 "nbformat": 4,
 "nbformat_minor": 5
}
