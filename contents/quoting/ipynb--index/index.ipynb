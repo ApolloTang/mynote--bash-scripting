{
 "cells": [
  {
   "cell_type": "code",
   "execution_count": 5,
   "id": "de08d639-d23c-42af-bb7f-c989cfd5e47b",
   "metadata": {},
   "outputs": [
    {
     "name": "stdout",
     "output_type": "stream",
     "text": [
      "Exception reporting mode: Minimal\n"
     ]
    }
   ],
   "source": [
    "# minimal output from pythons https://stackoverflow.com/a/78281950/3136861\n",
    "%xmode Minimal  "
   ]
  },
  {
   "cell_type": "code",
   "execution_count": 6,
   "id": "1bf6f2fa-e690-402b-99dc-99d6b64e58d5",
   "metadata": {},
   "outputs": [
    {
     "name": "stdout",
     "output_type": "stream",
     "text": [
      "\u001b[01;34m./tmp\u001b[0m\n",
      "├── \u001b[00m.gitignore\u001b[0m\n",
      "├── \u001b[00ma0.txt\u001b[0m\n",
      "└── \u001b[00ma1.txt\u001b[0m\n",
      "\n",
      "1 directory, 3 files\n"
     ]
    }
   ],
   "source": [
    "%%bash\n",
    "# setup playground\n",
    "\n",
    "sh -c \"[[ -d ./tmp ]] && { rm -r ./tmp; mkdir ./tmp;} || { mkdir -p ./tmp; }\"\n",
    "# The above oneliner removes the previous ./tmp/ and its content, then creates a new one with the same name\n",
    "# It is modified after:\n",
    "# stackoverflow.com/questions/73557323/bash-one-liner-check-if-a-directory-exists-if-so-delete-it-then-create-it-an\n",
    "\n",
    "touch ./tmp/a{0..1}.txt # create some sample file in ./tmp/ folder\n",
    "\n",
    "echo '*' > ./tmp/.gitignore\n",
    "\n",
    "tree -a ./tmp"
   ]
  },
  {
   "cell_type": "markdown",
   "id": "0edd9789-07e0-49af-b4c4-8ec9519762fc",
   "metadata": {
    "editable": true,
    "slideshow": {
     "slide_type": ""
    },
    "tags": []
   },
   "source": [
    "# Quoting\n",
    "\"Quoting\" in bash means removing the special meaning of certain characters or words.\n",
    "\n",
    "There are three quoting mechanisms:\n",
    "1. strong quoting with single-quotes\n",
    "2. per-character escaping using a backslash\n",
    "3. weak quoting with double-quote"
   ]
  },
  {
   "cell_type": "markdown",
   "id": "b0868360-3587-42ca-9da7-f2bf8404a974",
   "metadata": {
    "editable": true,
    "slideshow": {
     "slide_type": ""
    },
    "tags": []
   },
   "source": [
    "## 1. Single quotes (strong quoting)\n",
    "\n",
    "Enclosing characters in single quotes `'` preserves the literal value of each character within the quotes. "
   ]
  },
  {
   "cell_type": "code",
   "execution_count": 7,
   "id": "41cbd020-8dfa-4a6f-ad8d-dbf63dab2080",
   "metadata": {
    "editable": true,
    "slideshow": {
     "slide_type": ""
    },
    "tags": []
   },
   "outputs": [
    {
     "name": "stdout",
     "output_type": "stream",
     "text": [
      "tmp/a0.txt tmp/a1.txt\n",
      "tmp/*\n"
     ]
    }
   ],
   "source": [
    "%%bash\n",
    "echo tmp/*\n",
    "echo tmp/'*'"
   ]
  },
  {
   "cell_type": "markdown",
   "id": "7a39eafb-4cae-4583-9c2e-7cdc34ad0b12",
   "metadata": {
    "editable": true,
    "slideshow": {
     "slide_type": ""
    },
    "tags": []
   },
   "source": [
    "Note that a single quote may not occur between single quotes: \n",
    "```\n",
    "echo 'please don't do this'   #error\n",
    "```\n",
    "\n",
    "Even when preceded by a backslash:\n",
    "```\n",
    "echo 'please don\\'t do this' #error\n",
    "```\n",
    "This is because the escape character `\\` is treated literally inside a single quote and thus loses its ability to escape the single quote character:"
   ]
  },
  {
   "cell_type": "code",
   "execution_count": 8,
   "id": "330478a2-b590-4abf-a29a-ad8f24db42d6",
   "metadata": {
    "editable": true,
    "slideshow": {
     "slide_type": ""
    },
    "tags": []
   },
   "outputs": [
    {
     "name": "stdout",
     "output_type": "stream",
     "text": [
      "\\*\n"
     ]
    }
   ],
   "source": [
    "%%bash\n",
    "echo '\\*'"
   ]
  },
  {
   "cell_type": "markdown",
   "id": "3394fcef-dcb1-4e77-8684-9754025c0fe1",
   "metadata": {
    "editable": true,
    "slideshow": {
     "slide_type": ""
    },
    "tags": []
   },
   "source": [
    "Ref: [gnu bash manual](https://www.gnu.org/software/bash/manual/html_node/Single-Quotes.html)"
   ]
  },
  {
   "cell_type": "markdown",
   "id": "f5641168-f6fa-4602-93a9-96a1d8e7f330",
   "metadata": {
    "editable": true,
    "slideshow": {
     "slide_type": ""
    },
    "tags": []
   },
   "source": [
    "## 2. Per-character escaping with a backslash\n",
    "\n",
    "A *non-quoted* backslash `\\` is the Bash **escape character**. The escape character preserves the literal value of the next character that follows, for example: \n"
   ]
  },
  {
   "cell_type": "code",
   "execution_count": 9,
   "id": "798c1d3d-4270-4e00-a4e3-907e8e98adab",
   "metadata": {
    "editable": true,
    "slideshow": {
     "slide_type": ""
    },
    "tags": []
   },
   "outputs": [
    {
     "name": "stdout",
     "output_type": "stream",
     "text": [
      "'\n",
      "\"\n",
      "\\\n"
     ]
    }
   ],
   "source": [
    "%%bash\n",
    "echo \\'\n",
    "echo \\\"\n",
    "echo \\\\"
   ]
  },
  {
   "cell_type": "markdown",
   "id": "a917c7fd-3bb6-496a-bad3-064583849c85",
   "metadata": {},
   "source": [
    "It should be emphasized that by *non-quoted* we mean none of the following:\n",
    "\n",
    "```\n",
    "'\\'   # escape character is within a pair of strong quote\n",
    "\"\\\"   # escape character is within a pair of weak quote\n",
    "\\\\    # escape character is \"escaped\" by another escape character\n",
    "```\n",
    "\n",
    "When the backslash is *quoted* as shown above, it loses its meaning and is no longer an escape character."
   ]
  },
  {
   "cell_type": "markdown",
   "id": "22912481-6582-414e-98ae-d1de2af037ad",
   "metadata": {
    "editable": true,
    "slideshow": {
     "slide_type": ""
    },
    "tags": []
   },
   "source": [
    "### line-continuation with backslash\n",
    "\n",
    "There is one exception when the backslash does not preserve the literal value of the next character. That is when a backslash is followed by the  *newline* character:"
   ]
  },
  {
   "cell_type": "code",
   "execution_count": 10,
   "id": "07a73531-0a67-4547-b363-bfb5b816f882",
   "metadata": {
    "editable": true,
    "slideshow": {
     "slide_type": ""
    },
    "tags": []
   },
   "outputs": [
    {
     "name": "stdout",
     "output_type": "stream",
     "text": [
      "this line will continue on next line.\n"
     ]
    }
   ],
   "source": [
    "%%bash\n",
    "echo this line will continue \\\n",
    "on next line."
   ]
  },
  {
   "cell_type": "markdown",
   "id": "c3ee4d62-f299-441d-a212-e43b835ee4c4",
   "metadata": {
    "editable": true,
    "slideshow": {
     "slide_type": ""
    },
    "tags": []
   },
   "source": [
    "In the terminal, when bash is run interactively, the *newline* character is the action of pressing the \"Enter\" button (or \"Return\" key) on your keyboard, which creates a new line in the terminal.\n",
    "\n",
    "In a shell script (a text file containing shell commands), the *newline* character is the Linux new line character. \n",
    "\n",
    "Since the *newline* character is not usually displayed in the script editor, the line-continuation (i.e., the `\\`+`newline` pair) could be separated by trailing space, resulting in a hard-to-find error [[see illustration of this error](./ipynb--line-continuation-error-due-to-trailing-space/index.ipynb)]."
   ]
  },
  {
   "cell_type": "markdown",
   "id": "a3f49b2a-bb31-4a81-afc5-b3a68eb71049",
   "metadata": {
    "editable": true,
    "slideshow": {
     "slide_type": ""
    },
    "tags": []
   },
   "source": [
    "## 3. Double quote (weak quoate)"
   ]
  },
  {
   "cell_type": "markdown",
   "id": "3ab1234e-c058-4d14-8c69-b9065e23c13b",
   "metadata": {
    "editable": true,
    "slideshow": {
     "slide_type": ""
    },
    "tags": []
   },
   "source": [
    "Enclosing characters in double quotes `\"` preserves the literal value of all characters within the quotes, except for:\n",
    "\n",
    "1. `$`\n",
    "2. `` ` ``\n",
    "3. `\\` \n",
    "4. `!` (when history expansion is enabled and not in POSIX mode)\n",
    "\n",
    "### 1. `$`\n",
    "\n",
    "Within the double quote, the `$` character preserves its special meaning. For example, parameter expansion, command substitution, or arithmetic expansion will occurs within double quote:\n",
    "\n",
    "```\n",
    "\"$foo\", \"${foo}\"     # parameter expansion\n",
    "\"$(command)\"         # command substituion\n",
    "\"$(( expression ))\"  # Arithmetic Expansion\n",
    "\n",
    "```\n",
    "\n",
    "### 2. `` ` ``\n",
    "\n",
    "Backtick is the old-style syntax for command substitution:\n",
    "\n",
    "```\n",
    "\"`command`\"\n",
    "```\n",
    "\n",
    "Note that enclosing a single backtick in double quote cause error:"
   ]
  },
  {
   "cell_type": "code",
   "execution_count": 15,
   "id": "4054bb83-03c5-4996-8291-884a1e97bfc4",
   "metadata": {},
   "outputs": [
    {
     "name": "stderr",
     "output_type": "stream",
     "text": [
      "bash: line 1: unexpected EOF while looking for matching ``'\n"
     ]
    },
    {
     "ename": "CalledProcessError",
     "evalue": "Command 'b'echo \"`\" \\n'' returned non-zero exit status 2.",
     "output_type": "error",
     "traceback": [
      "\u001b[0;31mCalledProcessError\u001b[0m\u001b[0;31m:\u001b[0m Command 'b'echo \"`\" \\n'' returned non-zero exit status 2.\n"
     ]
    }
   ],
   "source": [
    "%%bash\n",
    "echo \"`\" "
   ]
  },
  {
   "cell_type": "markdown",
   "id": "beec272f-760e-4a58-82f2-e6a874a6cea1",
   "metadata": {},
   "source": [
    "### 3. `\\` \n",
    "\n",
    "As seen earlier, the backslash is the per-character escaping prefix; However, within the double quote backslash can only be use to excape `$`, `` ` ``, `\"`, `\\`, or `newline`:"
   ]
  },
  {
   "cell_type": "code",
   "execution_count": 24,
   "id": "3cc9ead5-bb94-44e0-bf1b-e65ba17bc1f9",
   "metadata": {},
   "outputs": [
    {
     "name": "stdout",
     "output_type": "stream",
     "text": [
      "$ ` \" \\ \n"
     ]
    }
   ],
   "source": [
    "%%bash\n",
    "echo \"\\$ \\` \\\" \\\\ \" "
   ]
  },
  {
   "cell_type": "markdown",
   "id": "325ec657-03c9-4a18-8d9f-ec3b694a295c",
   "metadata": {},
   "source": [
    "Otherwise, enclosing a backslash in double-quotes turn off its escaping ability:"
   ]
  },
  {
   "cell_type": "code",
   "execution_count": 42,
   "id": "7e29410f-ccb9-4a19-ba2c-595a3056f89e",
   "metadata": {},
   "outputs": [
    {
     "name": "stdout",
     "output_type": "stream",
     "text": [
      "a\n",
      "\\a\n",
      "$a\n",
      "foo\n"
     ]
    }
   ],
   "source": [
    "%%bash\n",
    "a=foo\n",
    "echo \\a     # without quoting backslash preserves the literal value of the next character that follows\n",
    "echo \"\\a\"   # in double quotes, a backslash is literally a backslash\n",
    "echo \"\\$a\"  # when prefix the $, it turn off the meaning of $, parameter expansion no longer happen\n",
    "echo \"$a\"   # here parameter expansion is working normally."
   ]
  },
  {
   "cell_type": "markdown",
   "id": "192a99ea-e55c-4492-9c23-cf06516e49fc",
   "metadata": {},
   "source": [
    "Note that enclosing a single backslash in double quote cause error:"
   ]
  },
  {
   "cell_type": "code",
   "execution_count": 18,
   "id": "874880eb-5fb8-48fd-a9d7-f1b5d92dc3e0",
   "metadata": {},
   "outputs": [
    {
     "name": "stderr",
     "output_type": "stream",
     "text": [
      "bash: line 1: unexpected EOF while looking for matching `\"'\n"
     ]
    },
    {
     "ename": "CalledProcessError",
     "evalue": "Command 'b'echo \"\\\\\"\\n'' returned non-zero exit status 2.",
     "output_type": "error",
     "traceback": [
      "\u001b[0;31mCalledProcessError\u001b[0m\u001b[0;31m:\u001b[0m Command 'b'echo \"\\\\\"\\n'' returned non-zero exit status 2.\n"
     ]
    }
   ],
   "source": [
    "%%bash\n",
    "echo \"\\\""
   ]
  },
  {
   "cell_type": "markdown",
   "id": "b6923b71-3e2c-475b-8fac-887924be526f",
   "metadata": {},
   "source": [
    "\n",
    "\n",
    "As seen earlier, the backslash is the per-character escaping prefix; However, within the double quote backslash can only be use to excape `$`, `` ` ``, `\"`, `\\`, or `newline`:"
   ]
  },
  {
   "cell_type": "markdown",
   "id": "6da9d4de-04d6-4309-ba54-3e11beb590e2",
   "metadata": {},
   "source": [
    "### 4. `!`\n",
    "\n",
    "During when history expansion is enabled (POSIX , double  \n",
    "`!` when  and not in POSIX mode"
   ]
  }
 ],
 "metadata": {
  "kernelspec": {
   "display_name": "Python 3 (ipykernel)",
   "language": "python",
   "name": "python3"
  },
  "language_info": {
   "codemirror_mode": {
    "name": "ipython",
    "version": 3
   },
   "file_extension": ".py",
   "mimetype": "text/x-python",
   "name": "python",
   "nbconvert_exporter": "python",
   "pygments_lexer": "ipython3",
   "version": "3.12.7"
  }
 },
 "nbformat": 4,
 "nbformat_minor": 5
}
