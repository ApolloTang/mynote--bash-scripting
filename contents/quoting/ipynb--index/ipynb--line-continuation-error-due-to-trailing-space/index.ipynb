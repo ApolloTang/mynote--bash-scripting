{
 "cells": [
  {
   "cell_type": "markdown",
   "id": "6436c6a9-5bc7-431e-8d32-1090adfc15d3",
   "metadata": {
    "editable": true,
    "slideshow": {
     "slide_type": ""
    },
    "tags": []
   },
   "source": [
    "# Error due to trailing space after line-continuation\n",
    "\n",
    "This note show how trailing space after line-continuation back-slash `\\` can cause execution error."
   ]
  },
  {
   "cell_type": "code",
   "execution_count": 1,
   "id": "9048f843-778d-492d-8a8a-c3cdc0af93d3",
   "metadata": {},
   "outputs": [
    {
     "name": "stdout",
     "output_type": "stream",
     "text": [
      "Exception reporting mode: Minimal\n"
     ]
    }
   ],
   "source": [
    "%xmode Minimal"
   ]
  },
  {
   "cell_type": "code",
   "execution_count": 2,
   "id": "2e673aad-e0ef-4881-9473-f830484058e5",
   "metadata": {
    "editable": true,
    "slideshow": {
     "slide_type": ""
    },
    "tags": []
   },
   "outputs": [],
   "source": [
    "%%bash\n",
    "# setup playground\n",
    "\n",
    "touch line-cont-error.sh && chmod 744 $_  # create script file and make it executable"
   ]
  },
  {
   "cell_type": "markdown",
   "id": "d2891cbe-18af-4100-96a6-b2bea4a43426",
   "metadata": {},
   "source": [
    "Bellow is a simple script that `echo` some text that has been broken into two lines using the line continuation back-slash: "
   ]
  },
  {
   "cell_type": "code",
   "execution_count": 16,
   "id": "df83e7e5-cf24-47f5-8624-64f25202223b",
   "metadata": {
    "editable": true,
    "slideshow": {
     "slide_type": ""
    },
    "tags": []
   },
   "outputs": [
    {
     "name": "stdout",
     "output_type": "stream",
     "text": [
      "Overwriting line-cont-error.sh\n"
     ]
    }
   ],
   "source": [
    "%%file line-cont-error.sh\n",
    "#!/usr/bin/env bash\n",
    "\n",
    "echo this line will continue \\ \n",
    "on next line."
   ]
  },
  {
   "cell_type": "markdown",
   "id": "5c9c2cb9-5928-446d-bba0-e95894765787",
   "metadata": {},
   "source": [
    "The script above deliberately inserts a space character between the line-continuation back-slash, `\\`, and the invisible `newline`. You can see this insertion with an octal dump at character 063: "
   ]
  },
  {
   "cell_type": "code",
   "execution_count": 24,
   "id": "4763e530-7470-4de8-84f0-cf4c3887bea4",
   "metadata": {
    "editable": true,
    "slideshow": {
     "slide_type": ""
    },
    "tags": []
   },
   "outputs": [
    {
     "name": "stdout",
     "output_type": "stream",
     "text": [
      "0000000    #   !   /   u   s   r   /   b   i   n   /   e   n   v       b\n",
      "0000020    a   s   h  \\n  \\n   e   c   h   o       t   h   i   s       l\n",
      "0000040    i   n   e       w   i   l   l       c   o   n   t   i   n   u\n",
      "0000060    e       \\      \\n   o   n       n   e   x   t       l   i   n\n",
      "0000100    e   .  \\n                                                    \n",
      "0000103\n"
     ]
    }
   ],
   "source": [
    "%%bash\n",
    "od -c line-cont-error.sh"
   ]
  },
  {
   "cell_type": "markdown",
   "id": "58862478-b8f0-4fbd-a518-0d61df2eda75",
   "metadata": {},
   "source": [
    "Upon execution, you will receive [status 127](https://linuxconfig.org/how-to-fix-bash-127-error-return-code), telling you that the token `on` is not a command: "
   ]
  },
  {
   "cell_type": "code",
   "execution_count": 25,
   "id": "f11c6605-e0cb-46fe-af7a-e0ec4f36300d",
   "metadata": {
    "editable": true,
    "slideshow": {
     "slide_type": ""
    },
    "tags": []
   },
   "outputs": [
    {
     "name": "stdout",
     "output_type": "stream",
     "text": [
      "this line will continue  \n"
     ]
    },
    {
     "name": "stderr",
     "output_type": "stream",
     "text": [
      "./line-cont-error.sh: line 4: on: command not found\n"
     ]
    },
    {
     "ename": "CalledProcessError",
     "evalue": "Command 'b'./line-cont-error.sh\\n'' returned non-zero exit status 127.",
     "output_type": "error",
     "traceback": [
      "\u001b[0;31mCalledProcessError\u001b[0m\u001b[0;31m:\u001b[0m Command 'b'./line-cont-error.sh\\n'' returned non-zero exit status 127.\n"
     ]
    }
   ],
   "source": [
    "%%bash\n",
    "./line-cont-error.sh"
   ]
  },
  {
   "cell_type": "markdown",
   "id": "920d2e61-15ae-449b-b5d2-cf9deb3369e4",
   "metadata": {
    "editable": true,
    "slideshow": {
     "slide_type": ""
    },
    "tags": []
   },
   "source": [
    "This error happen because the line `on next line` is a separate line and the first token `on` is assumed to be a shell command."
   ]
  },
  {
   "cell_type": "markdown",
   "id": "288a4c58-6e4b-417f-9999-8ed9ac186a7b",
   "metadata": {
    "editable": true,
    "slideshow": {
     "slide_type": ""
    },
    "tags": []
   },
   "source": [
    "## Error fixed"
   ]
  },
  {
   "cell_type": "code",
   "execution_count": 19,
   "id": "15ede4de-d04c-475e-835b-1d2f82c18996",
   "metadata": {
    "editable": true,
    "slideshow": {
     "slide_type": ""
    },
    "tags": []
   },
   "outputs": [],
   "source": [
    "%%bash\n",
    "# setup playground\n",
    "touch line-cont-error--fixed.sh && chmod 744 $_  # create script file and make it executable"
   ]
  },
  {
   "cell_type": "markdown",
   "id": "b685f069-c120-409d-878c-3d2a33143e1d",
   "metadata": {},
   "source": [
    "Let's fix this error by removing the space character between the line-continuation back-slash, `\\`, and the invisible `newline`:"
   ]
  },
  {
   "cell_type": "code",
   "execution_count": 21,
   "id": "85a43180-ec8a-4abd-b146-d5df7b33f5d9",
   "metadata": {
    "editable": true,
    "slideshow": {
     "slide_type": ""
    },
    "tags": []
   },
   "outputs": [
    {
     "name": "stdout",
     "output_type": "stream",
     "text": [
      "Overwriting line-cont-error--fixed.sh\n"
     ]
    }
   ],
   "source": [
    "%%file line-cont-error--fixed.sh\n",
    "#!/usr/bin/env bash\n",
    "\n",
    "echo this line will continue \\\n",
    "on next line."
   ]
  },
  {
   "cell_type": "code",
   "execution_count": 22,
   "id": "8f58c0f7-c49b-41de-b736-cf8381bf8f44",
   "metadata": {
    "editable": true,
    "slideshow": {
     "slide_type": ""
    },
    "tags": []
   },
   "outputs": [
    {
     "name": "stdout",
     "output_type": "stream",
     "text": [
      "0000000    #   !   /   u   s   r   /   b   i   n   /   e   n   v       b\n",
      "0000020    a   s   h  \\n  \\n   e   c   h   o       t   h   i   s       l\n",
      "0000040    i   n   e       w   i   l   l       c   o   n   t   i   n   u\n",
      "0000060    e       \\  \\n   o   n       n   e   x   t       l   i   n   e\n",
      "0000100    .  \\n                                                        \n",
      "0000102\n"
     ]
    }
   ],
   "source": [
    "%%bash\n",
    "od -c line-cont-error--fixed.sh"
   ]
  },
  {
   "cell_type": "code",
   "execution_count": 23,
   "id": "36bdeba4-bdd5-415b-9376-07aec00e0ed7",
   "metadata": {
    "editable": true,
    "slideshow": {
     "slide_type": ""
    },
    "tags": []
   },
   "outputs": [
    {
     "name": "stdout",
     "output_type": "stream",
     "text": [
      "this line will continue on next line.\n"
     ]
    }
   ],
   "source": [
    "%%bash\n",
    "./line-cont-error--fixed.sh"
   ]
  }
 ],
 "metadata": {
  "kernelspec": {
   "display_name": "Python 3 (ipykernel)",
   "language": "python",
   "name": "python3"
  },
  "language_info": {
   "codemirror_mode": {
    "name": "ipython",
    "version": 3
   },
   "file_extension": ".py",
   "mimetype": "text/x-python",
   "name": "python",
   "nbconvert_exporter": "python",
   "pygments_lexer": "ipython3",
   "version": "3.12.3"
  }
 },
 "nbformat": 4,
 "nbformat_minor": 5
}
