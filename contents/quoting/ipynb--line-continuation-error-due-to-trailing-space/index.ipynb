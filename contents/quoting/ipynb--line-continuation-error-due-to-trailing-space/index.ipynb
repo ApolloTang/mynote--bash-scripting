{
 "cells": [
  {
   "cell_type": "markdown",
   "id": "6436c6a9-5bc7-431e-8d32-1090adfc15d3",
   "metadata": {
    "editable": true,
    "slideshow": {
     "slide_type": ""
    },
    "tags": []
   },
   "source": [
    "# line-continuation error duo trailing space"
   ]
  },
  {
   "cell_type": "code",
   "execution_count": 33,
   "id": "2e673aad-e0ef-4881-9473-f830484058e5",
   "metadata": {
    "editable": true,
    "slideshow": {
     "slide_type": ""
    },
    "tags": []
   },
   "outputs": [],
   "source": [
    "%%bash\n",
    "# setup playground\n",
    "\n",
    "touch line-cont-error.sh && chmod 744 $_  # create script file and make it executable"
   ]
  },
  {
   "cell_type": "code",
   "execution_count": 34,
   "id": "df83e7e5-cf24-47f5-8624-64f25202223b",
   "metadata": {
    "editable": true,
    "slideshow": {
     "slide_type": ""
    },
    "tags": []
   },
   "outputs": [
    {
     "name": "stdout",
     "output_type": "stream",
     "text": [
      "Overwriting line-cont-error.sh\n"
     ]
    }
   ],
   "source": [
    "%%file line-cont-error.sh\n",
    "#!/usr/bin/env sh\n",
    "\n",
    "echo this line continue \\ \n",
    "on next line."
   ]
  },
  {
   "cell_type": "code",
   "execution_count": 35,
   "id": "f11c6605-e0cb-46fe-af7a-e0ec4f36300d",
   "metadata": {
    "editable": true,
    "slideshow": {
     "slide_type": ""
    },
    "tags": []
   },
   "outputs": [
    {
     "name": "stdout",
     "output_type": "stream",
     "text": [
      "this line continue  \n"
     ]
    },
    {
     "name": "stderr",
     "output_type": "stream",
     "text": [
      "./line-cont-error.sh: line 4: on: command not found\n"
     ]
    },
    {
     "ename": "CalledProcessError",
     "evalue": "Command 'b'./line-cont-error.sh\\n'' returned non-zero exit status 127.",
     "output_type": "error",
     "traceback": [
      "\u001b[0;31m---------------------------------------------------------------------------\u001b[0m",
      "\u001b[0;31mCalledProcessError\u001b[0m                        Traceback (most recent call last)",
      "Cell \u001b[0;32mIn[35], line 1\u001b[0m\n\u001b[0;32m----> 1\u001b[0m \u001b[43mget_ipython\u001b[49m\u001b[43m(\u001b[49m\u001b[43m)\u001b[49m\u001b[38;5;241;43m.\u001b[39;49m\u001b[43mrun_cell_magic\u001b[49m\u001b[43m(\u001b[49m\u001b[38;5;124;43m'\u001b[39;49m\u001b[38;5;124;43mbash\u001b[39;49m\u001b[38;5;124;43m'\u001b[39;49m\u001b[43m,\u001b[49m\u001b[43m \u001b[49m\u001b[38;5;124;43m'\u001b[39;49m\u001b[38;5;124;43m'\u001b[39;49m\u001b[43m,\u001b[49m\u001b[43m \u001b[49m\u001b[38;5;124;43m'\u001b[39;49m\u001b[38;5;124;43m./line-cont-error.sh\u001b[39;49m\u001b[38;5;130;43;01m\\n\u001b[39;49;00m\u001b[38;5;124;43m'\u001b[39;49m\u001b[43m)\u001b[49m\n",
      "File \u001b[0;32m~/1/1-a/00-mynote/mynote--bash-scripting/.venv/lib/python3.12/site-packages/IPython/core/interactiveshell.py:2541\u001b[0m, in \u001b[0;36mInteractiveShell.run_cell_magic\u001b[0;34m(self, magic_name, line, cell)\u001b[0m\n\u001b[1;32m   2539\u001b[0m \u001b[38;5;28;01mwith\u001b[39;00m \u001b[38;5;28mself\u001b[39m\u001b[38;5;241m.\u001b[39mbuiltin_trap:\n\u001b[1;32m   2540\u001b[0m     args \u001b[38;5;241m=\u001b[39m (magic_arg_s, cell)\n\u001b[0;32m-> 2541\u001b[0m     result \u001b[38;5;241m=\u001b[39m \u001b[43mfn\u001b[49m\u001b[43m(\u001b[49m\u001b[38;5;241;43m*\u001b[39;49m\u001b[43margs\u001b[49m\u001b[43m,\u001b[49m\u001b[43m \u001b[49m\u001b[38;5;241;43m*\u001b[39;49m\u001b[38;5;241;43m*\u001b[39;49m\u001b[43mkwargs\u001b[49m\u001b[43m)\u001b[49m\n\u001b[1;32m   2543\u001b[0m \u001b[38;5;66;03m# The code below prevents the output from being displayed\u001b[39;00m\n\u001b[1;32m   2544\u001b[0m \u001b[38;5;66;03m# when using magics with decorator @output_can_be_silenced\u001b[39;00m\n\u001b[1;32m   2545\u001b[0m \u001b[38;5;66;03m# when the last Python token in the expression is a ';'.\u001b[39;00m\n\u001b[1;32m   2546\u001b[0m \u001b[38;5;28;01mif\u001b[39;00m \u001b[38;5;28mgetattr\u001b[39m(fn, magic\u001b[38;5;241m.\u001b[39mMAGIC_OUTPUT_CAN_BE_SILENCED, \u001b[38;5;28;01mFalse\u001b[39;00m):\n",
      "File \u001b[0;32m~/1/1-a/00-mynote/mynote--bash-scripting/.venv/lib/python3.12/site-packages/IPython/core/magics/script.py:155\u001b[0m, in \u001b[0;36mScriptMagics._make_script_magic.<locals>.named_script_magic\u001b[0;34m(line, cell)\u001b[0m\n\u001b[1;32m    153\u001b[0m \u001b[38;5;28;01melse\u001b[39;00m:\n\u001b[1;32m    154\u001b[0m     line \u001b[38;5;241m=\u001b[39m script\n\u001b[0;32m--> 155\u001b[0m \u001b[38;5;28;01mreturn\u001b[39;00m \u001b[38;5;28;43mself\u001b[39;49m\u001b[38;5;241;43m.\u001b[39;49m\u001b[43mshebang\u001b[49m\u001b[43m(\u001b[49m\u001b[43mline\u001b[49m\u001b[43m,\u001b[49m\u001b[43m \u001b[49m\u001b[43mcell\u001b[49m\u001b[43m)\u001b[49m\n",
      "File \u001b[0;32m~/1/1-a/00-mynote/mynote--bash-scripting/.venv/lib/python3.12/site-packages/IPython/core/magics/script.py:315\u001b[0m, in \u001b[0;36mScriptMagics.shebang\u001b[0;34m(self, line, cell)\u001b[0m\n\u001b[1;32m    310\u001b[0m \u001b[38;5;28;01mif\u001b[39;00m args\u001b[38;5;241m.\u001b[39mraise_error \u001b[38;5;129;01mand\u001b[39;00m p\u001b[38;5;241m.\u001b[39mreturncode \u001b[38;5;241m!=\u001b[39m \u001b[38;5;241m0\u001b[39m:\n\u001b[1;32m    311\u001b[0m     \u001b[38;5;66;03m# If we get here and p.returncode is still None, we must have\u001b[39;00m\n\u001b[1;32m    312\u001b[0m     \u001b[38;5;66;03m# killed it but not yet seen its return code. We don't wait for it,\u001b[39;00m\n\u001b[1;32m    313\u001b[0m     \u001b[38;5;66;03m# in case it's stuck in uninterruptible sleep. -9 = SIGKILL\u001b[39;00m\n\u001b[1;32m    314\u001b[0m     rc \u001b[38;5;241m=\u001b[39m p\u001b[38;5;241m.\u001b[39mreturncode \u001b[38;5;129;01mor\u001b[39;00m \u001b[38;5;241m-\u001b[39m\u001b[38;5;241m9\u001b[39m\n\u001b[0;32m--> 315\u001b[0m     \u001b[38;5;28;01mraise\u001b[39;00m CalledProcessError(rc, cell)\n",
      "\u001b[0;31mCalledProcessError\u001b[0m: Command 'b'./line-cont-error.sh\\n'' returned non-zero exit status 127."
     ]
    }
   ],
   "source": [
    "%%bash\n",
    "./line-cont-error.sh"
   ]
  },
  {
   "cell_type": "markdown",
   "id": "920d2e61-15ae-449b-b5d2-cf9deb3369e4",
   "metadata": {
    "editable": true,
    "slideshow": {
     "slide_type": ""
    },
    "tags": []
   },
   "source": [
    "The above error happened because the line-continuation \\+newline pair has been separated by trailing space, which can be seen in the octal dump:"
   ]
  },
  {
   "cell_type": "code",
   "execution_count": 36,
   "id": "4763e530-7470-4de8-84f0-cf4c3887bea4",
   "metadata": {
    "editable": true,
    "slideshow": {
     "slide_type": ""
    },
    "tags": []
   },
   "outputs": [
    {
     "name": "stdout",
     "output_type": "stream",
     "text": [
      "#!/usr/bin/env sh\n",
      "\n",
      "echo this line continue \\ \n",
      "on next line.\n",
      "0000000    #   !   /   u   s   r   /   b   i   n   /   e   n   v       s\n",
      "0000020    h  \\n  \\n   e   c   h   o       t   h   i   s       l   i   n\n",
      "0000040    e       c   o   n   t   i   n   u   e       \\      \\n   o   n\n",
      "0000060        n   e   x   t       l   i   n   e   .  \\n                \n",
      "0000074\n"
     ]
    }
   ],
   "source": [
    "%%bash\n",
    "cat line-cont-error.sh\n",
    "od -c line-cont-error.sh"
   ]
  },
  {
   "cell_type": "markdown",
   "id": "288a4c58-6e4b-417f-9999-8ed9ac186a7b",
   "metadata": {
    "editable": true,
    "slideshow": {
     "slide_type": ""
    },
    "tags": []
   },
   "source": [
    "## Error fixed"
   ]
  },
  {
   "cell_type": "code",
   "execution_count": 37,
   "id": "15ede4de-d04c-475e-835b-1d2f82c18996",
   "metadata": {
    "editable": true,
    "slideshow": {
     "slide_type": ""
    },
    "tags": []
   },
   "outputs": [],
   "source": [
    "%%bash\n",
    "touch line-cont-error--fixed.sh && chmod 744 $_  # create script file and make it executable"
   ]
  },
  {
   "cell_type": "code",
   "execution_count": 38,
   "id": "85a43180-ec8a-4abd-b146-d5df7b33f5d9",
   "metadata": {
    "editable": true,
    "slideshow": {
     "slide_type": ""
    },
    "tags": []
   },
   "outputs": [
    {
     "name": "stdout",
     "output_type": "stream",
     "text": [
      "Overwriting line-cont-error--fixed.sh\n"
     ]
    }
   ],
   "source": [
    "%%file line-cont-error--fixed.sh\n",
    "#!/usr/bin/env sh\n",
    "\n",
    "echo this line continue \\\n",
    "on next line."
   ]
  },
  {
   "cell_type": "code",
   "execution_count": 39,
   "id": "36bdeba4-bdd5-415b-9376-07aec00e0ed7",
   "metadata": {
    "editable": true,
    "slideshow": {
     "slide_type": ""
    },
    "tags": []
   },
   "outputs": [
    {
     "name": "stdout",
     "output_type": "stream",
     "text": [
      "this line continue on next line.\n"
     ]
    }
   ],
   "source": [
    "%%bash\n",
    "./line-cont-error--fixed.sh"
   ]
  },
  {
   "cell_type": "code",
   "execution_count": 30,
   "id": "8f58c0f7-c49b-41de-b736-cf8381bf8f44",
   "metadata": {
    "editable": true,
    "slideshow": {
     "slide_type": ""
    },
    "tags": []
   },
   "outputs": [
    {
     "name": "stdout",
     "output_type": "stream",
     "text": [
      "#!/usr/bin/env sh\n",
      "\n",
      "echo this line continue \\\n",
      "on next line.\n",
      "0000000    #   !   /   u   s   r   /   b   i   n   /   e   n   v       s\n",
      "0000020    h  \\n  \\n   e   c   h   o       t   h   i   s       l   i   n\n",
      "0000040    e       c   o   n   t   i   n   u   e       \\  \\n   o   n    \n",
      "0000060    n   e   x   t       l   i   n   e   .  \\n                    \n",
      "0000073\n"
     ]
    }
   ],
   "source": [
    "%%bash\n",
    "cat line-cont-error--fixed.sh\n",
    "od -c line-cont-error--fixed.sh"
   ]
  },
  {
   "cell_type": "code",
   "execution_count": null,
   "id": "d45843a2-852b-459b-bde0-de20765409a0",
   "metadata": {
    "editable": true,
    "slideshow": {
     "slide_type": ""
    },
    "tags": []
   },
   "outputs": [],
   "source": []
  }
 ],
 "metadata": {
  "kernelspec": {
   "display_name": "Python 3 (ipykernel)",
   "language": "python",
   "name": "python3"
  },
  "language_info": {
   "codemirror_mode": {
    "name": "ipython",
    "version": 3
   },
   "file_extension": ".py",
   "mimetype": "text/x-python",
   "name": "python",
   "nbconvert_exporter": "python",
   "pygments_lexer": "ipython3",
   "version": "3.12.3"
  }
 },
 "nbformat": 4,
 "nbformat_minor": 5
}
