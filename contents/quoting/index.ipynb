{
 "cells": [
  {
   "cell_type": "code",
   "execution_count": 2,
   "id": "1bf6f2fa-e690-402b-99dc-99d6b64e58d5",
   "metadata": {},
   "outputs": [
    {
     "name": "stdout",
     "output_type": "stream",
     "text": [
      "\u001b[01;34m./tmp\u001b[0m\n",
      "├── \u001b[00m.gitignore\u001b[0m\n",
      "├── \u001b[00ma0.txt\u001b[0m\n",
      "└── \u001b[00ma1.txt\u001b[0m\n",
      "\n",
      "1 directory, 3 files\n"
     ]
    }
   ],
   "source": [
    "%%bash\n",
    "# setup playground\n",
    "\n",
    "sh -c \"[[ -d ./tmp ]] && { rm -r ./tmp; mkdir ./tmp;} || { mkdir -p ./tmp; }\"\n",
    "# The above oneliner removes the previous ./tmp/ and its content, then creates a new one with the same name\n",
    "# It is modified after:\n",
    "# stackoverflow.com/questions/73557323/bash-one-liner-check-if-a-directory-exists-if-so-delete-it-then-create-it-an\n",
    "\n",
    "touch ./tmp/a{0..1}.txt # create some sample file in ./tmp/ folder\n",
    "\n",
    "echo '*' > ./tmp/.gitignore\n",
    "\n",
    "tree -a ./tmp"
   ]
  },
  {
   "cell_type": "markdown",
   "id": "0edd9789-07e0-49af-b4c4-8ec9519762fc",
   "metadata": {
    "editable": true,
    "slideshow": {
     "slide_type": ""
    },
    "tags": []
   },
   "source": [
    "# Quoting\n",
    "\"Quoting\" in bash means removing the special meaning of certain characters or words.\n",
    "\n",
    "There are three quoting mechanisms:\n",
    "1. Single quotes\n",
    "2. Escape\n",
    "3. Double Quotes"
   ]
  },
  {
   "cell_type": "markdown",
   "id": "b0868360-3587-42ca-9da7-f2bf8404a974",
   "metadata": {},
   "source": [
    "## Single quotes\n",
    "\n",
    "Enclosing characters in single quotes `'` preserves the literal value of each character within the quotes. "
   ]
  },
  {
   "cell_type": "code",
   "execution_count": 11,
   "id": "41cbd020-8dfa-4a6f-ad8d-dbf63dab2080",
   "metadata": {},
   "outputs": [
    {
     "name": "stdout",
     "output_type": "stream",
     "text": [
      "tmp/a0.txt tmp/a1.txt\n",
      "tmp/*\n"
     ]
    }
   ],
   "source": [
    "%%bash\n",
    "echo tmp/*\n",
    "echo tmp/'*'"
   ]
  },
  {
   "cell_type": "markdown",
   "id": "7a39eafb-4cae-4583-9c2e-7cdc34ad0b12",
   "metadata": {
    "editable": true,
    "slideshow": {
     "slide_type": ""
    },
    "tags": []
   },
   "source": [
    "Note that a single quote may not occur between single quotes: \n",
    "```\n",
    "echo 'please don't do this'   #error\n",
    "```\n",
    "\n",
    "Even when preceded by a backslash:\n",
    "```\n",
    "echo 'please don\\'t do this' #error\n",
    "```\n",
    "This is because the escape character `\\` is treated literally inside a single quote:"
   ]
  },
  {
   "cell_type": "code",
   "execution_count": 20,
   "id": "330478a2-b590-4abf-a29a-ad8f24db42d6",
   "metadata": {
    "editable": true,
    "slideshow": {
     "slide_type": ""
    },
    "tags": []
   },
   "outputs": [
    {
     "name": "stdout",
     "output_type": "stream",
     "text": [
      "\\\n"
     ]
    }
   ],
   "source": [
    "%%bash\n",
    "echo '\\'"
   ]
  },
  {
   "cell_type": "markdown",
   "id": "3394fcef-dcb1-4e77-8684-9754025c0fe1",
   "metadata": {
    "editable": true,
    "slideshow": {
     "slide_type": ""
    },
    "tags": []
   },
   "source": [
    "Ref: [gnu bash manual](https://www.gnu.org/software/bash/manual/html_node/Single-Quotes.html)"
   ]
  },
  {
   "cell_type": "markdown",
   "id": "f5641168-f6fa-4602-93a9-96a1d8e7f330",
   "metadata": {
    "editable": true,
    "slideshow": {
     "slide_type": ""
    },
    "tags": []
   },
   "source": [
    "## Escape\n",
    "\n",
    "A non-quoted backslash `\\` is the Bash **escape character**. Here *non-quoted* means none of the following:\n",
    "\n",
    "```\n",
    "'\\'\n",
    "\"\\\"\n",
    "\\\\\n",
    "```\n",
    "The escape character preserves the literal value of the next character that follows, for example: "
   ]
  },
  {
   "cell_type": "code",
   "execution_count": 27,
   "id": "798c1d3d-4270-4e00-a4e3-907e8e98adab",
   "metadata": {
    "editable": true,
    "slideshow": {
     "slide_type": ""
    },
    "tags": []
   },
   "outputs": [
    {
     "name": "stdout",
     "output_type": "stream",
     "text": [
      "'\n",
      "\"\n",
      "\\\n"
     ]
    }
   ],
   "source": [
    "%%bash\n",
    "echo \\'\n",
    "echo \\\"\n",
    "echo \\\\"
   ]
  },
  {
   "cell_type": "markdown",
   "id": "22912481-6582-414e-98ae-d1de2af037ad",
   "metadata": {
    "editable": true,
    "slideshow": {
     "slide_type": ""
    },
    "tags": []
   },
   "source": [
    "There is one exception to the above, which is the situation when backslash `\\` is treated as line-continuation."
   ]
  },
  {
   "cell_type": "code",
   "execution_count": 30,
   "id": "07a73531-0a67-4547-b363-bfb5b816f882",
   "metadata": {
    "editable": true,
    "slideshow": {
     "slide_type": ""
    },
    "tags": []
   },
   "outputs": [
    {
     "name": "stdout",
     "output_type": "stream",
     "text": [
      "this line continue on next line.\n"
     ]
    }
   ],
   "source": [
    "%%bash\n",
    "echo this line continue \\\n",
    "on next line."
   ]
  },
  {
   "cell_type": "code",
   "execution_count": null,
   "id": "e9f6976c-176c-4db1-a51e-292bf8751866",
   "metadata": {
    "editable": true,
    "slideshow": {
     "slide_type": ""
    },
    "tags": []
   },
   "outputs": [],
   "source": []
  }
 ],
 "metadata": {
  "kernelspec": {
   "display_name": "Python 3 (ipykernel)",
   "language": "python",
   "name": "python3"
  },
  "language_info": {
   "codemirror_mode": {
    "name": "ipython",
    "version": 3
   },
   "file_extension": ".py",
   "mimetype": "text/x-python",
   "name": "python",
   "nbconvert_exporter": "python",
   "pygments_lexer": "ipython3",
   "version": "3.12.3"
  }
 },
 "nbformat": 4,
 "nbformat_minor": 5
}
