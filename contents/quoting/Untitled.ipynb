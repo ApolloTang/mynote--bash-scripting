{
 "cells": [
  {
   "cell_type": "code",
   "execution_count": null,
   "id": "be1a9148-10c1-4137-b6c1-35e2734357d5",
   "metadata": {
    "editable": true,
    "slideshow": {
     "slide_type": ""
    },
    "tags": []
   },
   "outputs": [],
   "source": [
    "echo 'please don't do this'  #error"
   ]
  },
  {
   "cell_type": "code",
   "execution_count": null,
   "id": "fe2aeaf1-1c03-4e49-9116-74910ef81d4d",
   "metadata": {
    "editable": true,
    "slideshow": {
     "slide_type": ""
    },
    "tags": []
   },
   "outputs": [],
   "source": [
    "echo 'please don\\'t do this' \n"
   ]
  },
  {
   "cell_type": "code",
   "execution_count": null,
   "id": "5ba6dc87-48e9-49c2-a0ce-99aa69ce52d9",
   "metadata": {
    "editable": true,
    "slideshow": {
     "slide_type": ""
    },
    "tags": []
   },
   "outputs": [],
   "source": []
  }
 ],
 "metadata": {
  "kernelspec": {
   "display_name": "Bash",
   "language": "bash",
   "name": "bash"
  },
  "language_info": {
   "codemirror_mode": "shell",
   "file_extension": ".sh",
   "mimetype": "text/x-sh",
   "name": "bash"
  }
 },
 "nbformat": 4,
 "nbformat_minor": 5
}
