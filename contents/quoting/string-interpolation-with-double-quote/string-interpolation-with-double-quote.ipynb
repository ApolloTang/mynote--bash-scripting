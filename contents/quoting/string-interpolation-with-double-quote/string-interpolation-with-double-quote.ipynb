{
 "cells": [
  {
   "cell_type": "markdown",
   "id": "3aa909d1",
   "metadata": {},
   "source": [
    "## Behaviour of space character in string\n",
    "\n",
    "When passing a string to a command, Bash see the space as argument deliminator:"
   ]
  },
  {
   "cell_type": "code",
   "execution_count": 1,
   "id": "21777985",
   "metadata": {},
   "outputs": [
    {
     "ename": "SyntaxError",
     "evalue": "invalid syntax (815868116.py, line 2)",
     "output_type": "error",
     "traceback": [
      "\u001b[0;36m  Cell \u001b[0;32mIn[1], line 2\u001b[0;36m\u001b[0m\n\u001b[0;31m    echo $String_With_Asterisk\u001b[0m\n\u001b[0m         ^\u001b[0m\n\u001b[0;31mSyntaxError\u001b[0m\u001b[0;31m:\u001b[0m invalid syntax\n"
     ]
    }
   ],
   "source": [
    "String_With_Asterisk=\"asterisk * is a special character\"\n",
    "echo $String_With_Asterisk"
   ]
  },
  {
   "cell_type": "markdown",
   "id": "bff7d693",
   "metadata": {},
   "source": [
    "Above is somewhat equivalent to:"
   ]
  },
  {
   "cell_type": "code",
   "execution_count": 2,
   "id": "c45d9e81",
   "metadata": {
    "scrolled": true
   },
   "outputs": [
    {
     "ename": "SyntaxError",
     "evalue": "invalid syntax (3203030334.py, line 1)",
     "output_type": "error",
     "traceback": [
      "\u001b[0;36m  Cell \u001b[0;32mIn[2], line 1\u001b[0;36m\u001b[0m\n\u001b[0;31m    echo asterisk * is a special character\u001b[0m\n\u001b[0m         ^\u001b[0m\n\u001b[0;31mSyntaxError\u001b[0m\u001b[0;31m:\u001b[0m invalid syntax\n"
     ]
    }
   ],
   "source": [
    "echo asterisk * is a special character"
   ]
  },
  {
   "cell_type": "markdown",
   "id": "aea7f0d7",
   "metadata": {},
   "source": [
    "Notice that the asterisk undergoes shell expansion:"
   ]
  },
  {
   "cell_type": "code",
   "execution_count": 3,
   "id": "9ec74fd5",
   "metadata": {},
   "outputs": [
    {
     "ename": "SyntaxError",
     "evalue": "invalid syntax (972855586.py, line 1)",
     "output_type": "error",
     "traceback": [
      "\u001b[0;36m  Cell \u001b[0;32mIn[3], line 1\u001b[0;36m\u001b[0m\n\u001b[0;31m    echo *\u001b[0m\n\u001b[0m          ^\u001b[0m\n\u001b[0;31mSyntaxError\u001b[0m\u001b[0;31m:\u001b[0m invalid syntax\n"
     ]
    }
   ],
   "source": [
    "echo *"
   ]
  },
  {
   "cell_type": "markdown",
   "id": "6929b091",
   "metadata": {},
   "source": [
    "The behaviour is different when asterisk not surround by space:"
   ]
  },
  {
   "cell_type": "code",
   "execution_count": 4,
   "id": "6732fe9a",
   "metadata": {
    "scrolled": true
   },
   "outputs": [
    {
     "ename": "SyntaxError",
     "evalue": "invalid syntax (2306340651.py, line 2)",
     "output_type": "error",
     "traceback": [
      "\u001b[0;36m  Cell \u001b[0;32mIn[4], line 2\u001b[0;36m\u001b[0m\n\u001b[0;31m    echo $String_With_Asterisk2\u001b[0m\n\u001b[0m         ^\u001b[0m\n\u001b[0;31mSyntaxError\u001b[0m\u001b[0;31m:\u001b[0m invalid syntax\n"
     ]
    }
   ],
   "source": [
    "String_With_Asterisk2=\"asterisk*is a special character\"\n",
    "echo $String_With_Asterisk2"
   ]
  },
  {
   "cell_type": "markdown",
   "id": "22c30ab0",
   "metadata": {},
   "source": [
    "Above is similar to:"
   ]
  },
  {
   "cell_type": "code",
   "execution_count": 5,
   "id": "29e69d24",
   "metadata": {},
   "outputs": [
    {
     "ename": "SyntaxError",
     "evalue": "invalid syntax (1458552600.py, line 1)",
     "output_type": "error",
     "traceback": [
      "\u001b[0;36m  Cell \u001b[0;32mIn[5], line 1\u001b[0;36m\u001b[0m\n\u001b[0;31m    echo asterisk*is a special character\u001b[0m\n\u001b[0m         ^\u001b[0m\n\u001b[0;31mSyntaxError\u001b[0m\u001b[0;31m:\u001b[0m invalid syntax\n"
     ]
    }
   ],
   "source": [
    "echo asterisk*is a special character"
   ]
  },
  {
   "cell_type": "markdown",
   "id": "4ba64057",
   "metadata": {},
   "source": [
    "## Special character loses its special meaning during string interpolation\n",
    "\n",
    "If we double quote a variable, the value of the variable will be evaluated (or string interpolated); during string interpolation special character loses it special meaning (it will not be expanded):"
   ]
  },
  {
   "cell_type": "code",
   "execution_count": 12,
   "id": "5ae84778",
   "metadata": {},
   "outputs": [
    {
     "name": "stdout",
     "output_type": "stream",
     "text": [
      "asterisk * is a special character\n"
     ]
    }
   ],
   "source": [
    "String_With_Asterisk=\"asterisk * is a special character\"\n",
    "echo \"$String_With_Asterisk\""
   ]
  }
 ],
 "metadata": {
  "kernelspec": {
   "display_name": "Python 3 (ipykernel)",
   "language": "python",
   "name": "python3"
  },
  "language_info": {
   "codemirror_mode": {
    "name": "ipython",
    "version": 3
   },
   "file_extension": ".py",
   "mimetype": "text/x-python",
   "name": "python",
   "nbconvert_exporter": "python",
   "pygments_lexer": "ipython3",
   "version": "3.12.8"
  }
 },
 "nbformat": 4,
 "nbformat_minor": 5
}
