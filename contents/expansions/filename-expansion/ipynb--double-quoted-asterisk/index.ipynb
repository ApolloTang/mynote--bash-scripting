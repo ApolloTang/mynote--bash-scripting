{
 "cells": [
  {
   "cell_type": "markdown",
   "id": "1c47bba0-67cf-48f1-bedb-4b3961820e1d",
   "metadata": {},
   "source": [
    "# Bash only considers the `*` as word patterns if they are not double-quoted."
   ]
  },
  {
   "cell_type": "code",
   "execution_count": 90,
   "id": "9baeb88f-9eab-4e98-a538-d1d95e1a5a3f",
   "metadata": {},
   "outputs": [
    {
     "name": "stdout",
     "output_type": "stream",
     "text": [
      "\u001b[01;34m.\u001b[0m\n",
      "├── \u001b[01;32mfoo.sh\u001b[0m\n",
      "├── \u001b[00mindex.ipynb\u001b[0m\n",
      "└── \u001b[01;34mtmp\u001b[0m\n",
      "    ├── \u001b[00ma0.txt\u001b[0m\n",
      "    ├── \u001b[00ma1.txt\u001b[0m\n",
      "    ├── \u001b[00mb2.txt\u001b[0m\n",
      "    └── \u001b[00mb3.txt\u001b[0m\n",
      "\n",
      "2 directories, 6 files\n"
     ]
    }
   ],
   "source": [
    "%%bash\n",
    "# setup playground\n",
    "\n",
    "sh -c \"[[ -d ./tmp ]] && { rm -r ./tmp; mkdir ./tmp;} || { mkdir -p ./tmp; }\"\n",
    "# The above oneliner removes the previous ./tmp/ and its content, then creates a new one with the same name\n",
    "# It is modified after:\n",
    "# stackoverflow.com/questions/73557323/bash-one-liner-check-if-a-directory-exists-if-so-delete-it-then-create-it-an\n",
    "\n",
    "touch ./tmp/a{0..1}.txt\n",
    "touch ./tmp/b{2..3}.txt\n",
    "echo 'tmp' > .gitignore\n",
    "tree .\n",
    "\n",
    "touch foo.sh && chmod 744 $_"
   ]
  },
  {
   "cell_type": "code",
   "execution_count": 93,
   "id": "44979dc5-1cf1-4cc8-9eab-6f5d421f9101",
   "metadata": {},
   "outputs": [
    {
     "name": "stdout",
     "output_type": "stream",
     "text": [
      "Overwriting foo.sh\n"
     ]
    }
   ],
   "source": [
    "%%file foo.sh\n",
    "#!/usr/bin/env sh\n",
    "\n",
    "echo \"this asterisk is not double-quoted:\" **/b*.txt\n",
    "echo \"this asterisk is double-quoted: **/b*.txt\" \n",
    "echo \"this asterisk is double-quoted and preceded with a dollar sign: $*\" "
   ]
  },
  {
   "cell_type": "code",
   "execution_count": 94,
   "id": "69ed34a2-6cb0-4841-86f3-7142d459e33e",
   "metadata": {},
   "outputs": [
    {
     "name": "stdout",
     "output_type": "stream",
     "text": [
      "this asterisk is not double-quoted: tmp/b2.txt tmp/b3.txt\n",
      "this asterisk is double-quoted: **/b*.txt\n",
      "this asterisk is double-quoted and preceded with a dollar sign: arg1 arg2 arg3\n"
     ]
    }
   ],
   "source": [
    "%%bash \n",
    "./foo.sh arg1 arg2 arg3"
   ]
  },
  {
   "cell_type": "code",
   "execution_count": null,
   "id": "7f91a35d-4a03-4396-8f6a-0f0140db4dc8",
   "metadata": {},
   "outputs": [],
   "source": []
  }
 ],
 "metadata": {
  "kernelspec": {
   "display_name": "Python 3 (ipykernel)",
   "language": "python",
   "name": "python3"
  },
  "language_info": {
   "codemirror_mode": {
    "name": "ipython",
    "version": 3
   },
   "file_extension": ".py",
   "mimetype": "text/x-python",
   "name": "python",
   "nbconvert_exporter": "python",
   "pygments_lexer": "ipython3",
   "version": "3.12.3"
  }
 },
 "nbformat": 4,
 "nbformat_minor": 5
}
