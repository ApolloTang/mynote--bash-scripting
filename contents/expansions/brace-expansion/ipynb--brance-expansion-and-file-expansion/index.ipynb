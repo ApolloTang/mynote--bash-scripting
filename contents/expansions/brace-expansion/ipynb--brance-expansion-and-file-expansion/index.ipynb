{
 "cells": [
  {
   "cell_type": "code",
   "execution_count": 44,
   "id": "53fb70b1-1b33-4f10-aa7e-29672ac41c62",
   "metadata": {},
   "outputs": [
    {
     "name": "stdout",
     "output_type": "stream",
     "text": [
      "\u001b[01;34m.\u001b[0m\n",
      "├── \u001b[00m.gitignore\u001b[0m\n",
      "├── \u001b[00ma0.txt\u001b[0m\n",
      "├── \u001b[00ma1.txt\u001b[0m\n",
      "├── \u001b[00mb0.txt\u001b[0m\n",
      "├── \u001b[00mb1.txt\u001b[0m\n",
      "├── \u001b[00mc0.txt\u001b[0m\n",
      "└── \u001b[00mc1.txt\u001b[0m\n",
      "\n",
      "1 directory, 7 files\n"
     ]
    }
   ],
   "source": [
    "%%bash\n",
    "# setup playground\n",
    "\n",
    "sh -c \"[[ -d ./tmp ]] && { rm -r ./tmp; mkdir ./tmp;} || { mkdir -p ./tmp; }\"\n",
    "# The above oneliner removes the previous ./tmp/ and its content, then creates a new one with the same name\n",
    "# It is modified after:\n",
    "# stackoverflow.com/questions/73557323/bash-one-liner-check-if-a-directory-exists-if-so-delete-it-then-create-it-an\n",
    "\n",
    "cd tmp\n",
    "echo '*' > .gitignore\n",
    "\n",
    "for file in ./{a,b,c}{0..1}.txt; do\n",
    "  echo \"content of file $file\" > \"$file\"\n",
    "done\n",
    "\n",
    "tree -a ."
   ]
  },
  {
   "cell_type": "code",
   "execution_count": 49,
   "id": "2bb5cf05-6e32-437a-805d-35b689660710",
   "metadata": {},
   "outputs": [
    {
     "name": "stdout",
     "output_type": "stream",
     "text": [
      "./tmp/a*.txt ./tmp/b*.txt\n"
     ]
    }
   ],
   "source": [
    "%%bash\n",
    "\n",
    "echo ./tmp/{a,b}\\*.txt"
   ]
  },
  {
   "cell_type": "markdown",
   "id": "d771f9f8-e646-4881-932d-3b31eb987b11",
   "metadata": {},
   "source": [
    "In the above, after brace expansion, the wild character `*` is printed literally.\n",
    "\n",
    "In the following examples, after brace expansion, the wild character `*` preserves its special meaning for the shell to expand it to the existing file's name. "
   ]
  },
  {
   "cell_type": "code",
   "execution_count": 51,
   "id": "0b68b8e7-ccd0-4860-baf4-285460b919a8",
   "metadata": {},
   "outputs": [
    {
     "name": "stdout",
     "output_type": "stream",
     "text": [
      "./tmp/a0.txt ./tmp/a1.txt ./tmp/b0.txt ./tmp/b1.txt\n"
     ]
    }
   ],
   "source": [
    "%%bash\n",
    "echo ./tmp/{a,b}*.txt"
   ]
  },
  {
   "cell_type": "code",
   "execution_count": 52,
   "id": "cc9f8889-9fa0-4f1c-99ab-24b01cf25500",
   "metadata": {},
   "outputs": [
    {
     "name": "stdout",
     "output_type": "stream",
     "text": [
      "content of file ./a0.txt\n",
      "content of file ./a1.txt\n",
      "content of file ./b0.txt\n",
      "content of file ./b1.txt\n"
     ]
    }
   ],
   "source": [
    "%%bash\n",
    "cat ./tmp/{a,b}*.txt"
   ]
  },
  {
   "cell_type": "code",
   "execution_count": null,
   "id": "9d8014b7-05f6-4083-9dad-280771dea82a",
   "metadata": {},
   "outputs": [],
   "source": []
  }
 ],
 "metadata": {
  "kernelspec": {
   "display_name": "Python 3 (ipykernel)",
   "language": "python",
   "name": "python3"
  },
  "language_info": {
   "codemirror_mode": {
    "name": "ipython",
    "version": 3
   },
   "file_extension": ".py",
   "mimetype": "text/x-python",
   "name": "python",
   "nbconvert_exporter": "python",
   "pygments_lexer": "ipython3",
   "version": "3.12.3"
  }
 },
 "nbformat": 4,
 "nbformat_minor": 5
}
