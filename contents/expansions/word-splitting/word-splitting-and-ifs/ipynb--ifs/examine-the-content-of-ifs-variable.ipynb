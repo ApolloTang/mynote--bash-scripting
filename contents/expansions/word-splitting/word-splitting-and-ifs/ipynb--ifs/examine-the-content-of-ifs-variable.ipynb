{
 "cells": [
  {
   "cell_type": "markdown",
   "id": "1ebcb5e0-ea2d-435d-9b55-0d38628716cb",
   "metadata": {},
   "source": [
    "# Examine the content of IFS variable"
   ]
  },
  {
   "cell_type": "markdown",
   "id": "3c895483-6b70-4e42-8d38-03ff189efd54",
   "metadata": {},
   "source": [
    "The default values of IFS are space, tab, and newline. You can not print their content to terminal because **they are white space characters**: "
   ]
  },
  {
   "cell_type": "code",
   "execution_count": 1,
   "id": "21034092",
   "metadata": {
    "vscode": {
     "languageId": "shellscript"
    }
   },
   "outputs": [
    {
     "name": "stdout",
     "output_type": "stream",
     "text": [
      " \t\n"
     ]
    }
   ],
   "source": [
    "printf \"$IFS\""
   ]
  },
  {
   "cell_type": "markdown",
   "id": "2e535a35",
   "metadata": {},
   "source": [
    "You can examine these white space characters by piping them to the `octal dump` command:"
   ]
  },
  {
   "cell_type": "code",
   "execution_count": null,
   "id": "47abee14-5b29-4e17-b353-9917b7dca9b2",
   "metadata": {},
   "outputs": [
    {
     "name": "stdout",
     "output_type": "stream",
     "text": [
      "0000000       \\t  \\n                                                    \n",
      "0000003\n"
     ]
    }
   ],
   "source": [
    "printf \"$IFS\" | od -c "
   ]
  },
  {
   "cell_type": "markdown",
   "id": "d60e716a-cc9f-4520-994a-ee90b39c504b",
   "metadata": {},
   "source": [
    "## Remember to double-quote IFS when print them\n",
    "\n",
    "Note that when passing IFS to a command, you must double-quote them. If you forget to double-quote them nothing is passed to your command:"
   ]
  },
  {
   "cell_type": "code",
   "execution_count": null,
   "id": "485d239d-e92b-4b30-bf8f-d76992a98933",
   "metadata": {},
   "outputs": [
    {
     "name": "stdout",
     "output_type": "stream",
     "text": [
      "printf: usage: printf [-v var] format [arguments]\n"
     ]
    }
   ],
   "source": [
    "printf $IFS | od -c "
   ]
  },
  {
   "cell_type": "markdown",
   "id": "2e9405a6",
   "metadata": {},
   "source": [
    "The previous example shows an error because `printf` is invoked incorrectly. The command `printf $IFS` (without quotes) undergoes word splitting before being passed to `printf`. Because the contents of `IFS` are whitespace characters (spaces, tabs, and newlines), which are the delimiters for word splitting, they are removed. This leaves printf with no arguments, resulting in the usage error. This is equivalent to running `printf` with no arguments:"
   ]
  },
  {
   "cell_type": "code",
   "execution_count": null,
   "id": "43115664-22b4-4de5-85a4-0508c7109543",
   "metadata": {},
   "outputs": [
    {
     "name": "stdout",
     "output_type": "stream",
     "text": [
      "printf: usage: printf [-v var] format [arguments]\n"
     ]
    }
   ],
   "source": [
    "printf | od -c "
   ]
  }
 ],
 "metadata": {
  "kernelspec": {
   "display_name": "Bash",
   "language": "bash",
   "name": "bash"
  },
  "language_info": {
   "codemirror_mode": "shell",
   "file_extension": ".sh",
   "mimetype": "text/x-sh",
   "name": "bash"
  }
 },
 "nbformat": 4,
 "nbformat_minor": 5
}
