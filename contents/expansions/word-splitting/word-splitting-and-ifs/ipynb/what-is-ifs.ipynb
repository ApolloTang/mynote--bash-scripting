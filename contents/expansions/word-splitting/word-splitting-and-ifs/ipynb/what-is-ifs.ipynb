{
 "cells": [
  {
   "cell_type": "markdown",
   "id": "d0825f01-290b-4fc9-9382-4407029c21f2",
   "metadata": {},
   "source": [
    "## What is `IFS`\n",
    "\n",
    "The **Internal Field Separator** (`IFS`) is a special shell variable.\n",
    "\n",
    "IFS determines how Bash recognizes **word boundaries during word splitting.**\n",
    "\n",
    "The default value of `IFS` is a string **containing** three characters: a space, a tab, and a newline."
   ]
  },
  {
   "cell_type": "code",
   "execution_count": 8,
   "id": "e2e93000-7697-4770-9ffd-a94ddf738dbb",
   "metadata": {
    "vscode": {
     "languageId": "shellscript"
    }
   },
   "outputs": [
    {
     "name": "stdout",
     "output_type": "stream",
     "text": [
      "0000000    /                                                            \n",
      "0000001\n"
     ]
    }
   ],
   "source": [
    "printf \"$IFS\" |  od -c"
   ]
  },
  {
   "cell_type": "markdown",
   "id": "c0243241-6d99-4a7f-88c7-04dd973453c5",
   "metadata": {},
   "source": [
    "Some commands or built-ins refer to the characters stored in IFS when deciding where to split a string into words. Let's demonstrate this with a for loop:"
   ]
  },
  {
   "cell_type": "code",
   "execution_count": 9,
   "id": "764288a1-892e-485f-b05c-9b57234d06a8",
   "metadata": {
    "vscode": {
     "languageId": "shellscript"
    }
   },
   "outputs": [
    {
     "name": "stdout",
     "output_type": "stream",
     "text": [
      "foo bar foobar\n"
     ]
    }
   ],
   "source": [
    "for i in $(printf \"foo bar foobar\"); do echo $i; done"
   ]
  },
  {
   "cell_type": "code",
   "execution_count": 10,
   "id": "94e0014d-e465-4268-941e-aed05579145d",
   "metadata": {
    "vscode": {
     "languageId": "shellscript"
    }
   },
   "outputs": [
    {
     "name": "stdout",
     "output_type": "stream",
     "text": [
      "foo\tbar\tfoobar\n"
     ]
    }
   ],
   "source": [
    "for i in $(printf \"foo\\tbar\\tfoobar\"); do echo $i; done"
   ]
  },
  {
   "cell_type": "code",
   "execution_count": 11,
   "id": "346ce399-b940-4076-aa3c-1d817acfe23e",
   "metadata": {
    "vscode": {
     "languageId": "shellscript"
    }
   },
   "outputs": [
    {
     "name": "stdout",
     "output_type": "stream",
     "text": [
      "foo\n",
      "bar\n",
      "foobar\n"
     ]
    }
   ],
   "source": [
    "for i in $(printf \"foo\\nbar\\nfoobar\"); do echo $i; done"
   ]
  },
  {
   "cell_type": "markdown",
   "id": "58a95f18-626c-4469-a061-ce889ce3e486",
   "metadata": {},
   "source": [
    "In the above three examples, the Bash for loop processes each word in the string. The characters stored in IFS (space, tab, and newline in this case) tell Bash which characters to treat as word delimiters.\n",
    "\n",
    "If we had delimited the words with /, then Bash would only see one item in the string and process the entire string in one loop:"
   ]
  },
  {
   "cell_type": "code",
   "execution_count": 12,
   "id": "54605d6a-096f-42da-a2be-265bf3c8b180",
   "metadata": {
    "vscode": {
     "languageId": "shellscript"
    }
   },
   "outputs": [
    {
     "name": "stdout",
     "output_type": "stream",
     "text": [
      "foo\n",
      "bar\n",
      "foobar\n"
     ]
    }
   ],
   "source": [
    "for i in $(printf \"foo/bar/foobar\"); do echo $i; done"
   ]
  },
  {
   "cell_type": "markdown",
   "id": "5da83061-6463-4258-bafc-04ae87d8ed64",
   "metadata": {},
   "source": [
    "We can, however, fix the above by telling Bash our desired delimiter by modifying the value of IFS:"
   ]
  },
  {
   "cell_type": "code",
   "execution_count": 13,
   "id": "23f8cd1b-f3f0-4e0b-9263-94c97880a045",
   "metadata": {
    "vscode": {
     "languageId": "shellscript"
    }
   },
   "outputs": [
    {
     "name": "stdout",
     "output_type": "stream",
     "text": [
      "foo\n",
      "bar\n",
      "foobar\n"
     ]
    }
   ],
   "source": [
    "IFS='/'; for i in $(printf \"foo/bar/foobar\"); do echo $i; done"
   ]
  },
  {
   "cell_type": "markdown",
   "id": "c0fb21e4-9782-4e36-aa47-8b8947ffdf64",
   "metadata": {},
   "source": [
    "## Reference: \n",
    "\n",
    "[baeldung.com/linux/ifs-shell-variable](https://www.baeldung.com/linux/ifs-shell-variable)"
   ]
  }
 ],
 "metadata": {
  "kernelspec": {
   "display_name": "Bash",
   "language": "bash",
   "name": "bash"
  },
  "language_info": {
   "codemirror_mode": "shell",
   "file_extension": ".sh",
   "mimetype": "text/x-sh",
   "name": "bash"
  }
 },
 "nbformat": 4,
 "nbformat_minor": 5
}
