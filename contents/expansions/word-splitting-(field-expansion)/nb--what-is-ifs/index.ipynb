{
 "cells": [
  {
   "cell_type": "markdown",
   "id": "d0825f01-290b-4fc9-9382-4407029c21f2",
   "metadata": {},
   "source": [
    "## What is `IFS`\n",
    "\n",
    "The internal Field Separator, `IFS`, is a special shell variable.  \n",
    "\n",
    "IFS determines how Bash recognizes word boundaries when it performs word-splitting. \n",
    "\n",
    "The default value of `IFS` is a three-character string comprising a space, tab, and newline:"
   ]
  },
  {
   "cell_type": "code",
   "execution_count": 51,
   "id": "e2e93000-7697-4770-9ffd-a94ddf738dbb",
   "metadata": {},
   "outputs": [
    {
     "name": "stdout",
     "output_type": "stream",
     "text": [
      "0000000       \\t  \\n                                                    \n",
      "0000003\n"
     ]
    }
   ],
   "source": [
    "%%bash \n",
    "printf \"$IFS\" |  od -c"
   ]
  },
  {
   "cell_type": "markdown",
   "id": "c0243241-6d99-4a7f-88c7-04dd973453c5",
   "metadata": {},
   "source": [
    "Some commands or build-ins refer to the characters stored in IFS when deciding where to split a string into words. \n",
    "Let's demonstrate this with a loop construct. A bash loop can loop through each word in a string separated by delimiters. The delimiter is the characters stored in IFS (space, tab, and a newline character):"
   ]
  },
  {
   "cell_type": "code",
   "execution_count": 15,
   "id": "764288a1-892e-485f-b05c-9b57234d06a8",
   "metadata": {},
   "outputs": [
    {
     "name": "stdout",
     "output_type": "stream",
     "text": [
      "foo\n",
      "bar\n",
      "foobar\n"
     ]
    }
   ],
   "source": [
    "%%bash\n",
    "for i in $(printf \"foo bar foobar\"); do echo $i; done"
   ]
  },
  {
   "cell_type": "code",
   "execution_count": 16,
   "id": "94e0014d-e465-4268-941e-aed05579145d",
   "metadata": {},
   "outputs": [
    {
     "name": "stdout",
     "output_type": "stream",
     "text": [
      "foo\n",
      "bar\n",
      "foobar\n"
     ]
    }
   ],
   "source": [
    "%%bash \n",
    "for i in $(printf \"foo\\tbar\\tfoobar\"); do echo $i; done"
   ]
  },
  {
   "cell_type": "code",
   "execution_count": 17,
   "id": "346ce399-b940-4076-aa3c-1d817acfe23e",
   "metadata": {},
   "outputs": [
    {
     "name": "stdout",
     "output_type": "stream",
     "text": [
      "foo\n",
      "bar\n",
      "foobar\n"
     ]
    }
   ],
   "source": [
    "%%bash \n",
    "for i in $(printf \"foo\\nbar\\nfoobar\"); do echo $i; done"
   ]
  },
  {
   "cell_type": "markdown",
   "id": "58a95f18-626c-4469-a061-ce889ce3e486",
   "metadata": {},
   "source": [
    "If we delimite the word with `/` then Bash only see one items in the strings since forward slash, `/`, is not a character stored in IFS,"
   ]
  },
  {
   "cell_type": "code",
   "execution_count": 43,
   "id": "54605d6a-096f-42da-a2be-265bf3c8b180",
   "metadata": {},
   "outputs": [
    {
     "name": "stdout",
     "output_type": "stream",
     "text": [
      "foo/bar/foobar\n"
     ]
    }
   ],
   "source": [
    "%%bash \n",
    "for i in $(printf \"foo/bar/foobar\"); do echo $i; done"
   ]
  },
  {
   "cell_type": "markdown",
   "id": "5da83061-6463-4258-bafc-04ae87d8ed64",
   "metadata": {},
   "source": [
    "We can tell bash our desired delimiter by modifying value of IFS:"
   ]
  },
  {
   "cell_type": "code",
   "execution_count": 18,
   "id": "23f8cd1b-f3f0-4e0b-9263-94c97880a045",
   "metadata": {},
   "outputs": [
    {
     "name": "stdout",
     "output_type": "stream",
     "text": [
      "foo\n",
      "bar\n",
      "foobar\n"
     ]
    }
   ],
   "source": [
    "%%bash \n",
    "IFS='/'; for i in $(printf \"foo/bar/foobar\"); do echo $i; done"
   ]
  },
  {
   "cell_type": "markdown",
   "id": "c0fb21e4-9782-4e36-aa47-8b8947ffdf64",
   "metadata": {},
   "source": [
    "## Reference: \n",
    "\n",
    "[baeldung.com/linux/ifs-shell-variable](https://www.baeldung.com/linux/ifs-shell-variable)"
   ]
  },
  {
   "cell_type": "code",
   "execution_count": null,
   "id": "f53d8dc6-7717-40c4-8a53-053ea5f1e520",
   "metadata": {},
   "outputs": [],
   "source": []
  }
 ],
 "metadata": {
  "kernelspec": {
   "display_name": "Python 3 (ipykernel)",
   "language": "python",
   "name": "python3"
  },
  "language_info": {
   "codemirror_mode": {
    "name": "ipython",
    "version": 3
   },
   "file_extension": ".py",
   "mimetype": "text/x-python",
   "name": "python",
   "nbconvert_exporter": "python",
   "pygments_lexer": "ipython3",
   "version": "3.12.3"
  }
 },
 "nbformat": 4,
 "nbformat_minor": 5
}
