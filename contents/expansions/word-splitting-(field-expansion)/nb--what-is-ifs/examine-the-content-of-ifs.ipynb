{
 "cells": [
  {
   "cell_type": "markdown",
   "id": "1ebcb5e0-ea2d-435d-9b55-0d38628716cb",
   "metadata": {},
   "source": [
    "# Examine the content of IFS"
   ]
  },
  {
   "cell_type": "markdown",
   "id": "3c895483-6b70-4e42-8d38-03ff189efd54",
   "metadata": {},
   "source": [
    "The default values of IFS are space, tab, and newline. You can not see them because they are white characters.  But you can pipe them to the octal dump command:"
   ]
  },
  {
   "cell_type": "code",
   "execution_count": 14,
   "id": "47abee14-5b29-4e17-b353-9917b7dca9b2",
   "metadata": {},
   "outputs": [
    {
     "name": "stdout",
     "output_type": "stream",
     "text": [
      "0000000       \\t  \\n                                                    \n",
      "0000003\n"
     ]
    }
   ],
   "source": [
    "printf \"$IFS\" | od -c "
   ]
  },
  {
   "cell_type": "markdown",
   "id": "d60e716a-cc9f-4520-994a-ee90b39c504b",
   "metadata": {},
   "source": [
    "Note that when passing the variable IFS to a command, you must double-quote them. If you forget to double-quote them, the shell will perform word-splitting on the IFS before passing them to your command. Since the content of IFS only consists of the character's word-splitting use as a delimiter, word-expanding them will result in nothing passing to your command."
   ]
  },
  {
   "cell_type": "code",
   "execution_count": 1,
   "id": "485d239d-e92b-4b30-bf8f-d76992a98933",
   "metadata": {},
   "outputs": [
    {
     "name": "stdout",
     "output_type": "stream",
     "text": [
      "printf: usage: printf [-v var] format [arguments]\n"
     ]
    }
   ],
   "source": [
    "printf $IFS | od -c "
   ]
  },
  {
   "cell_type": "markdown",
   "id": "ec20744b-f57d-44f9-8443-981c89392e9f",
   "metadata": {},
   "source": [
    "The above is same as: "
   ]
  },
  {
   "cell_type": "code",
   "execution_count": 2,
   "id": "43115664-22b4-4de5-85a4-0508c7109543",
   "metadata": {},
   "outputs": [
    {
     "name": "stdout",
     "output_type": "stream",
     "text": [
      "printf: usage: printf [-v var] format [arguments]\n"
     ]
    }
   ],
   "source": [
    "printf | od -c "
   ]
  },
  {
   "cell_type": "markdown",
   "id": "65862404-4dee-4640-b556-a6ba93cd4962",
   "metadata": {},
   "source": [
    "Similary:"
   ]
  },
  {
   "cell_type": "code",
   "execution_count": 5,
   "id": "2b6fbdb2-3fc0-4b64-a225-dd70627408eb",
   "metadata": {},
   "outputs": [
    {
     "name": "stdout",
     "output_type": "stream",
     "text": [
      "#\n"
     ]
    }
   ],
   "source": [
    "IFS='#'\n",
    "echo \"$IFS\""
   ]
  },
  {
   "cell_type": "markdown",
   "id": "034ab649-7863-4d4a-9600-209df46035d7",
   "metadata": {},
   "source": [
    "Without double-quoting:"
   ]
  },
  {
   "cell_type": "code",
   "execution_count": 8,
   "id": "958671d3-003b-46e8-ba20-2b93ca01e30c",
   "metadata": {},
   "outputs": [
    {
     "name": "stdout",
     "output_type": "stream",
     "text": [
      "\n"
     ]
    }
   ],
   "source": [
    "IFS='#'\n",
    "echo $IFS"
   ]
  },
  {
   "cell_type": "code",
   "execution_count": null,
   "id": "805d17c7-8ef7-46d6-85cc-74cff7fe4b70",
   "metadata": {},
   "outputs": [],
   "source": []
  }
 ],
 "metadata": {
  "kernelspec": {
   "display_name": "Bash",
   "language": "bash",
   "name": "bash"
  },
  "language_info": {
   "codemirror_mode": "shell",
   "file_extension": ".sh",
   "mimetype": "text/x-sh",
   "name": "bash"
  }
 },
 "nbformat": 4,
 "nbformat_minor": 5
}
