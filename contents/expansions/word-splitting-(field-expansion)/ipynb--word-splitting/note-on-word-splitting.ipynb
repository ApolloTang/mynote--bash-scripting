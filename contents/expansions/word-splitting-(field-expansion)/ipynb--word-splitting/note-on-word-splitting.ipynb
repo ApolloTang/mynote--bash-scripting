{
 "cells": [
  {
   "cell_type": "code",
   "execution_count": 14,
   "id": "91509153-8bc7-4346-b6a5-7b15e577f52c",
   "metadata": {},
   "outputs": [
    {
     "name": "stdout",
     "output_type": "stream",
     "text": [
      "$\n"
     ]
    }
   ],
   "source": [
    "IFS=\"$\"\n",
    "echo \"$IFS\""
   ]
  },
  {
   "cell_type": "code",
   "execution_count": 6,
   "id": "9c4b004e-6cb8-47ed-acc7-ee7ab9f5ebd2",
   "metadata": {},
   "outputs": [
    {
     "name": "stdout",
     "output_type": "stream",
     "text": [
      "   \n"
     ]
    }
   ],
   "source": [
    "IFS='sfdf'\n",
    "echo $IFS"
   ]
  },
  {
   "cell_type": "code",
   "execution_count": 7,
   "id": "9755a399-e498-4c2b-8c35-7fd048aab5ab",
   "metadata": {},
   "outputs": [
    {
     "name": "stdout",
     "output_type": "stream",
     "text": [
      "1|2|3\n",
      "   \n"
     ]
    }
   ],
   "source": [
    "echo $mystring\n",
    "echo $IFS\n"
   ]
  },
  {
   "cell_type": "code",
   "execution_count": 8,
   "id": "ea3e04dc-b3cb-42e5-a09a-5158587a7525",
   "metadata": {},
   "outputs": [
    {
     "name": "stdout",
     "output_type": "stream",
     "text": [
      "1|2|3\n"
     ]
    }
   ],
   "source": [
    "echo \"$mystring\""
   ]
  },
  {
   "cell_type": "code",
   "execution_count": 48,
   "id": "ba41cf3e-b84b-4fc3-80b8-1de44442c740",
   "metadata": {},
   "outputs": [
    {
     "name": "stdout",
     "output_type": "stream",
     "text": [
      "1\n",
      "2\n",
      "3\n"
     ]
    }
   ],
   "source": [
    "for x in $mystring; do echo $x; done"
   ]
  },
  {
   "cell_type": "code",
   "execution_count": 49,
   "id": "67334722-d00a-4ffa-b3c9-2b17c5b29076",
   "metadata": {},
   "outputs": [
    {
     "name": "stdout",
     "output_type": "stream",
     "text": [
      "1 2 3\n"
     ]
    }
   ],
   "source": [
    "for x in \"$mystring\"; do echo $x; done"
   ]
  },
  {
   "cell_type": "code",
   "execution_count": 50,
   "id": "abd5479d-c550-420c-8581-a0c2078e9acf",
   "metadata": {},
   "outputs": [
    {
     "name": "stdout",
     "output_type": "stream",
     "text": [
      "1 2 3\n"
     ]
    }
   ],
   "source": [
    "for x in \"1 2 3\"; do echo $x; done"
   ]
  },
  {
   "cell_type": "code",
   "execution_count": null,
   "id": "2fbe662e-a38f-4433-804f-7932e7a3656a",
   "metadata": {},
   "outputs": [],
   "source": []
  },
  {
   "cell_type": "code",
   "execution_count": null,
   "id": "277124b2-9c21-4c81-a7d6-00249adbbd7a",
   "metadata": {},
   "outputs": [],
   "source": []
  }
 ],
 "metadata": {
  "kernelspec": {
   "display_name": "Bash",
   "language": "bash",
   "name": "bash"
  },
  "language_info": {
   "codemirror_mode": "shell",
   "file_extension": ".sh",
   "mimetype": "text/x-sh",
   "name": "bash"
  }
 },
 "nbformat": 4,
 "nbformat_minor": 5
}
