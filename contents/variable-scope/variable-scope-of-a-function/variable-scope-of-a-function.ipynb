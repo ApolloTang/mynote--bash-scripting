{
 "cells": [
  {
   "cell_type": "markdown",
   "metadata": {},
   "source": [
    "# variable scope of a function\n",
    "\n",
    "The default scope of all the variables is global; thus, a variable declare in a function will be available outside function once this function is excuted:"
   ]
  },
  {
   "cell_type": "code",
   "execution_count": 1,
   "metadata": {
    "vscode": {
     "languageId": "shellscript"
    }
   },
   "outputs": [
    {
     "name": "stdout",
     "output_type": "stream",
     "text": [
      "outside\n",
      "inside a\n",
      "later a\n"
     ]
    }
   ],
   "source": [
    "myfn1() {\n",
    "  a=a\n",
    "  echo inside $a\n",
    "\n",
    "}\n",
    "\n",
    "echo outside $a\n",
    "myfn1\n",
    "echo later $a   # after executing myfn1, a is available globally"
   ]
  },
  {
   "cell_type": "markdown",
   "metadata": {},
   "source": [
    "If you want to restrict a variable to within a function you have to mark it with `local`."
   ]
  },
  {
   "cell_type": "code",
   "execution_count": 2,
   "metadata": {
    "vscode": {
     "languageId": "shellscript"
    }
   },
   "outputs": [
    {
     "name": "stdout",
     "output_type": "stream",
     "text": [
      "outside\n",
      "inside b\n",
      "later\n"
     ]
    }
   ],
   "source": [
    "myfn2() {\n",
    "  local b=b   # scope of b is within myfn2\n",
    "  echo inside $b\n",
    "  \n",
    "}\n",
    "\n",
    "echo outside $b  # b is not available outside function myfn2\n",
    "myfn2\n",
    "echo later $b"
   ]
  }
 ],
 "metadata": {
  "kernelspec": {
   "display_name": "Bash",
   "language": "bash",
   "name": "bash"
  },
  "language_info": {
   "codemirror_mode": "shell",
   "file_extension": ".sh",
   "mimetype": "text/x-sh",
   "name": "bash"
  }
 },
 "nbformat": 4,
 "nbformat_minor": 2
}
