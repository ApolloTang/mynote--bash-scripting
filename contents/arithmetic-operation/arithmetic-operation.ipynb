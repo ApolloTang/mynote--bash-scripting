{
 "cells": [
  {
   "cell_type": "markdown",
   "id": "b1343777",
   "metadata": {},
   "source": [
    "# Arithmetic Operations\n",
    "\n",
    "There are a couple of way to do math with Bash:\n",
    "\n",
    "  - using the `let` command\n",
    "  - using the `expr` command\n",
    "  - using double parentheses"
   ]
  },
  {
   "cell_type": "markdown",
   "id": "6e468fc4",
   "metadata": {},
   "source": [
    "## Using the `let` command to do math\n",
    "\n",
    "The `let` command performs a basic mathematical evaluations and assign the result to a variable."
   ]
  },
  {
   "cell_type": "code",
   "execution_count": 2,
   "id": "c7cb70da",
   "metadata": {
    "vscode": {
     "languageId": "shellscript"
    }
   },
   "outputs": [
    {
     "name": "stdout",
     "output_type": "stream",
     "text": [
      "6\n"
     ]
    }
   ],
   "source": [
    "let a=3 b=2 result=a*b\n",
    "echo $result"
   ]
  },
  {
   "cell_type": "markdown",
   "id": "4960997e",
   "metadata": {},
   "source": [
    "multiple statements can handily concatenate without the need for the semicolon.\n"
   ]
  },
  {
   "cell_type": "code",
   "execution_count": null,
   "id": "c2d96e64",
   "metadata": {},
   "outputs": [],
   "source": []
  }
 ],
 "metadata": {
  "kernelspec": {
   "display_name": "Bash",
   "language": "bash",
   "name": "bash"
  },
  "language_info": {
   "codemirror_mode": "shell",
   "file_extension": ".sh",
   "mimetype": "text/x-sh",
   "name": "bash"
  }
 },
 "nbformat": 4,
 "nbformat_minor": 5
}
