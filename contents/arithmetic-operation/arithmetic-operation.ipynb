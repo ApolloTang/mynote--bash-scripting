{
 "cells": [
  {
   "cell_type": "markdown",
   "id": "b1343777",
   "metadata": {},
   "source": [
    "# Arithmetic Operations\n",
    "\n",
    "There are a couple of way to do math with Bash:\n",
    "\n",
    "  - using the `let` command\n",
    "  - using the `expr` command\n",
    "  - using double parentheses"
   ]
  },
  {
   "cell_type": "markdown",
   "id": "6e468fc4",
   "metadata": {},
   "source": [
    "## Using the `let` command to do math\n",
    "\n",
    "The `let` command performs a basic mathematical evaluations and assign the result to a variable:"
   ]
  },
  {
   "cell_type": "code",
   "execution_count": 16,
   "id": "917a582e",
   "metadata": {},
   "outputs": [
    {
     "name": "stdout",
     "output_type": "stream",
     "text": [
      "12\n"
     ]
    }
   ],
   "source": [
    "let result=10+2\n",
    "echo $result"
   ]
  },
  {
   "cell_type": "markdown",
   "id": "b60d9ca8",
   "metadata": {},
   "source": [
    "When you use the keyword `let`, Bash expected a arithmetic expression. If you ommit the key word `let` Bash will treat the express as string:"
   ]
  },
  {
   "cell_type": "code",
   "execution_count": 14,
   "id": "eccf9463",
   "metadata": {},
   "outputs": [
    {
     "name": "stdout",
     "output_type": "stream",
     "text": [
      "1+4\n"
     ]
    }
   ],
   "source": [
    "I_am_a_string=1+4\n",
    "echo $I_am_a_string"
   ]
  },
  {
   "cell_type": "markdown",
   "id": "4960997e",
   "metadata": {},
   "source": [
    "Note that multiple statements can handily concatenate without the need for the semicolon:"
   ]
  },
  {
   "cell_type": "code",
   "execution_count": 17,
   "id": "c7cb70da",
   "metadata": {
    "vscode": {
     "languageId": "shellscript"
    }
   },
   "outputs": [
    {
     "name": "stdout",
     "output_type": "stream",
     "text": [
      "60\n"
     ]
    }
   ],
   "source": [
    "let a=3 b=2 result=a*b*10\n",
    "echo $result"
   ]
  },
  {
   "cell_type": "markdown",
   "id": "8f532caa",
   "metadata": {},
   "source": [
    "Beware that when doing arithmetic operations, there are no space arround the operator:"
   ]
  },
  {
   "cell_type": "code",
   "execution_count": 18,
   "id": "c2d96e64",
   "metadata": {
    "scrolled": true
   },
   "outputs": [
    {
     "name": "stdout",
     "output_type": "stream",
     "text": [
      "bash: let: +: syntax error: operand expected (error token is \"+\")\n"
     ]
    },
    {
     "ename": "",
     "evalue": "1",
     "output_type": "error",
     "traceback": []
    }
   ],
   "source": [
    "let result=1 + 3"
   ]
  },
  {
   "cell_type": "markdown",
   "id": "b21f34e5",
   "metadata": {},
   "source": [
    "The above does not work because spaces are delimenator and as the result, Bash see the operator as a command.\n",
    "\n",
    "If you have to use space, put the expression in double quote:"
   ]
  },
  {
   "cell_type": "code",
   "execution_count": 2,
   "id": "bca57845",
   "metadata": {},
   "outputs": [
    {
     "name": "stdout",
     "output_type": "stream",
     "text": [
      "4\n"
     ]
    }
   ],
   "source": [
    "let result=\"1 + 3\"\n",
    "echo $result"
   ]
  },
  {
   "cell_type": "code",
   "execution_count": 5,
   "id": "58ba0d77",
   "metadata": {},
   "outputs": [
    {
     "name": "stdout",
     "output_type": "stream",
     "text": [
      "30\n"
     ]
    }
   ],
   "source": [
    "let \"result = 10 + 20\"\n",
    "echo $result"
   ]
  },
  {
   "cell_type": "markdown",
   "id": "3efd6aaf",
   "metadata": {},
   "source": [
    "##  `expr` command\n",
    "\n",
    "`expr` command receives math expression parts as arguments and send the arithmatic result to `STDOUT`: "
   ]
  },
  {
   "cell_type": "code",
   "execution_count": 9,
   "id": "3ac48bb6",
   "metadata": {},
   "outputs": [
    {
     "name": "stdout",
     "output_type": "stream",
     "text": [
      "2\n"
     ]
    }
   ],
   "source": [
    "expr 1 + 1"
   ]
  },
  {
   "cell_type": "markdown",
   "id": "1c28b547",
   "metadata": {},
   "source": [
    "Note the spaces between each part of the math expression.\n",
    "\n",
    "The following will not do arithmatic, instead a string is the result:"
   ]
  },
  {
   "cell_type": "code",
   "execution_count": 10,
   "id": "0a1bd5f1",
   "metadata": {},
   "outputs": [
    {
     "name": "stdout",
     "output_type": "stream",
     "text": [
      "1+1\n"
     ]
    }
   ],
   "source": [
    "expr 1+1"
   ]
  },
  {
   "cell_type": "markdown",
   "id": "56cc09f0",
   "metadata": {},
   "source": [
    "Becareful when your expression contains special character:"
   ]
  },
  {
   "cell_type": "code",
   "execution_count": 14,
   "id": "6fc72fd4",
   "metadata": {},
   "outputs": [
    {
     "name": "stdout",
     "output_type": "stream",
     "text": [
      "expr: syntax error\n"
     ]
    },
    {
     "ename": "",
     "evalue": "2",
     "output_type": "error",
     "traceback": []
    }
   ],
   "source": [
    "expr 9 * 10"
   ]
  },
  {
   "cell_type": "markdown",
   "id": "d7243c15",
   "metadata": {},
   "source": [
    "In the above since the asterisk is a special charactor, you need to escape it to hide its special meaning."
   ]
  },
  {
   "cell_type": "code",
   "execution_count": 19,
   "id": "069a1402",
   "metadata": {},
   "outputs": [
    {
     "name": "stdout",
     "output_type": "stream",
     "text": [
      "90\n"
     ]
    }
   ],
   "source": [
    "expr 9 \\* 10"
   ]
  },
  {
   "cell_type": "markdown",
   "id": "cca385a1",
   "metadata": {},
   "source": [
    "To Capture the result into a variable instead of direct it to `STDOUT` you can use the `$(expression)` syntax:"
   ]
  },
  {
   "cell_type": "code",
   "execution_count": 20,
   "id": "904a88ba",
   "metadata": {},
   "outputs": [
    {
     "name": "stdout",
     "output_type": "stream",
     "text": [
      "90\n"
     ]
    }
   ],
   "source": [
    "result=$(expr 9 \\* 10)\n",
    "echo $result"
   ]
  },
  {
   "cell_type": "markdown",
   "id": "b62cc575",
   "metadata": {},
   "source": [
    "When the argument is quote `expr` see it as string:"
   ]
  },
  {
   "cell_type": "code",
   "execution_count": 22,
   "id": "43b2535f",
   "metadata": {},
   "outputs": [
    {
     "name": "stdout",
     "output_type": "stream",
     "text": [
      "1 + 1\n"
     ]
    }
   ],
   "source": [
    "expr \"1 + 1\""
   ]
  },
  {
   "cell_type": "markdown",
   "id": "81f36b14",
   "metadata": {},
   "source": [
    "However it will perform automatic casting if you mixing string and decimal number with math operation:"
   ]
  },
  {
   "cell_type": "code",
   "execution_count": 23,
   "id": "dea6cb9f",
   "metadata": {},
   "outputs": [
    {
     "name": "stdout",
     "output_type": "stream",
     "text": [
      "13\n"
     ]
    }
   ],
   "source": [
    "expr \"12\" + 1"
   ]
  },
  {
   "cell_type": "code",
   "execution_count": null,
   "id": "3e7aa4bf",
   "metadata": {},
   "outputs": [],
   "source": []
  }
 ],
 "metadata": {
  "kernelspec": {
   "display_name": "Bash",
   "language": "bash",
   "name": "bash"
  },
  "language_info": {
   "codemirror_mode": "shell",
   "file_extension": ".sh",
   "mimetype": "text/x-sh",
   "name": "bash"
  }
 },
 "nbformat": 4,
 "nbformat_minor": 5
}
