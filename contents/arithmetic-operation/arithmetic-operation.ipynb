{
 "cells": [
  {
   "cell_type": "markdown",
   "id": "b1343777",
   "metadata": {},
   "source": [
    "# Arithmetic Operations\n",
    "\n",
    "There are a couple of way to do math with Bash:\n",
    "\n",
    "  - using the `let` command\n",
    "  - using the `expr` command\n",
    "  - using double parentheses"
   ]
  },
  {
   "cell_type": "markdown",
   "id": "6e468fc4",
   "metadata": {},
   "source": [
    "## Using the `let` command to do math\n",
    "\n",
    "The `let` command performs a basic mathematical evaluations and assign the result to a variable:"
   ]
  },
  {
   "cell_type": "code",
   "execution_count": 16,
   "id": "6744a3df",
   "metadata": {},
   "outputs": [
    {
     "name": "stdout",
     "output_type": "stream",
     "text": [
      "12\n"
     ]
    }
   ],
   "source": [
    "let result=10+2\n",
    "echo $result"
   ]
  },
  {
   "cell_type": "markdown",
   "id": "bcfe9dc2",
   "metadata": {},
   "source": [
    "When you use the keyword `let`, Bash expected a arithmetic expression. If you ommit the key word `let` Bash will treat the express as string:"
   ]
  },
  {
   "cell_type": "code",
   "execution_count": 14,
   "id": "ca35c9d5",
   "metadata": {},
   "outputs": [
    {
     "name": "stdout",
     "output_type": "stream",
     "text": [
      "1+4\n"
     ]
    }
   ],
   "source": [
    "I_am_a_string=1+4\n",
    "echo $I_am_a_string"
   ]
  },
  {
   "cell_type": "markdown",
   "id": "4960997e",
   "metadata": {},
   "source": [
    "Note that multiple statements can handily concatenate without the need for the semicolon:"
   ]
  },
  {
   "cell_type": "code",
   "execution_count": 17,
   "id": "c7cb70da",
   "metadata": {
    "vscode": {
     "languageId": "shellscript"
    }
   },
   "outputs": [
    {
     "name": "stdout",
     "output_type": "stream",
     "text": [
      "60\n"
     ]
    }
   ],
   "source": [
    "let a=3 b=2 result=a*b*10\n",
    "echo $result"
   ]
  },
  {
   "cell_type": "markdown",
   "id": "e70b529a",
   "metadata": {},
   "source": [
    "Beware that when doing arithmetic operations, there are no space arround the operator:"
   ]
  },
  {
   "cell_type": "code",
   "execution_count": 18,
   "id": "c2d96e64",
   "metadata": {
    "scrolled": true
   },
   "outputs": [
    {
     "name": "stdout",
     "output_type": "stream",
     "text": [
      "bash: let: +: syntax error: operand expected (error token is \"+\")\n"
     ]
    },
    {
     "ename": "",
     "evalue": "1",
     "output_type": "error",
     "traceback": []
    }
   ],
   "source": [
    "let result=1 + 3"
   ]
  },
  {
   "cell_type": "markdown",
   "id": "d5bd4f79",
   "metadata": {},
   "source": [
    "The above does not work because spaces are delimenator and as the result, Bash see the operator as a command.\n",
    "\n",
    "If you have to use space, put the expression in double quote:"
   ]
  },
  {
   "cell_type": "code",
   "execution_count": 2,
   "id": "7faf1a5e",
   "metadata": {},
   "outputs": [
    {
     "name": "stdout",
     "output_type": "stream",
     "text": [
      "4\n"
     ]
    }
   ],
   "source": [
    "let result=\"1 + 3\"\n",
    "echo $result"
   ]
  }
 ],
 "metadata": {
  "kernelspec": {
   "display_name": "Bash",
   "language": "bash",
   "name": "bash"
  },
  "language_info": {
   "codemirror_mode": "shell",
   "file_extension": ".sh",
   "mimetype": "text/x-sh",
   "name": "bash"
  }
 },
 "nbformat": 4,
 "nbformat_minor": 5
}
