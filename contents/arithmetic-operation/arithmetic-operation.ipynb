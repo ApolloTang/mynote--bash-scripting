{
 "cells": [
  {
   "cell_type": "markdown",
   "id": "b1343777",
   "metadata": {},
   "source": [
    "# Arithmetic Operations\n",
    "\n",
    "There are a couple of way to do math with Bash:\n",
    "\n",
    "  - using the `let` command\n",
    "  - using the `expr` command\n",
    "  - using double parentheses"
   ]
  },
  {
   "cell_type": "markdown",
   "id": "6e468fc4",
   "metadata": {},
   "source": [
    "## Using the `let` command to do math\n",
    "\n",
    "The `let` command performs a basic mathematical evaluations and assign the result to a variable:"
   ]
  },
  {
   "cell_type": "code",
   "execution_count": 16,
   "id": "faac8bff",
   "metadata": {},
   "outputs": [
    {
     "name": "stdout",
     "output_type": "stream",
     "text": [
      "12\n"
     ]
    }
   ],
   "source": [
    "let result=10+2\n",
    "echo $result"
   ]
  },
  {
   "cell_type": "markdown",
   "id": "391c6134",
   "metadata": {},
   "source": [
    "When you use the keyword `let`, Bash expected a arithmetic expression. If you ommit the key word `let` Bash will treat the express as string:"
   ]
  },
  {
   "cell_type": "code",
   "execution_count": 14,
   "id": "96d9f2e2",
   "metadata": {},
   "outputs": [
    {
     "name": "stdout",
     "output_type": "stream",
     "text": [
      "1+4\n"
     ]
    }
   ],
   "source": [
    "I_am_a_string=1+4\n",
    "echo $I_am_a_string"
   ]
  },
  {
   "cell_type": "markdown",
   "id": "4960997e",
   "metadata": {},
   "source": [
    "Note that multiple statements can handily concatenate without the need for the semicolon:"
   ]
  },
  {
   "cell_type": "code",
   "execution_count": 17,
   "id": "c7cb70da",
   "metadata": {
    "vscode": {
     "languageId": "shellscript"
    }
   },
   "outputs": [
    {
     "name": "stdout",
     "output_type": "stream",
     "text": [
      "60\n"
     ]
    }
   ],
   "source": [
    "let a=3 b=2 result=a*b*10\n",
    "echo $result"
   ]
  },
  {
   "cell_type": "markdown",
   "id": "daa5e011",
   "metadata": {},
   "source": [
    "Beware that when doing arithmetic operations, there are no space arround the operator:"
   ]
  },
  {
   "cell_type": "code",
   "execution_count": 18,
   "id": "c2d96e64",
   "metadata": {
    "scrolled": true
   },
   "outputs": [
    {
     "name": "stdout",
     "output_type": "stream",
     "text": [
      "bash: let: +: syntax error: operand expected (error token is \"+\")\n"
     ]
    },
    {
     "ename": "",
     "evalue": "1",
     "output_type": "error",
     "traceback": []
    }
   ],
   "source": [
    "let result=1 + 3"
   ]
  },
  {
   "cell_type": "markdown",
   "id": "9cca1946",
   "metadata": {},
   "source": [
    "The above does not work because spaces are delimenator and as the result, Bash see the operator as a command.\n",
    "\n",
    "If you have to use space, put the expression in double quote:"
   ]
  },
  {
   "cell_type": "code",
   "execution_count": 2,
   "id": "02f792c2",
   "metadata": {},
   "outputs": [
    {
     "name": "stdout",
     "output_type": "stream",
     "text": [
      "4\n"
     ]
    }
   ],
   "source": [
    "let result=\"1 + 3\"\n",
    "echo $result"
   ]
  },
  {
   "cell_type": "code",
   "execution_count": 5,
   "id": "9a527461",
   "metadata": {},
   "outputs": [
    {
     "name": "stdout",
     "output_type": "stream",
     "text": [
      "30\n"
     ]
    }
   ],
   "source": [
    "let \"result = 10 + 20\"\n",
    "echo $result"
   ]
  },
  {
   "cell_type": "markdown",
   "id": "2319ecf5",
   "metadata": {},
   "source": [
    "##  `expr` command\n",
    "\n",
    "`expr` command receives math expression parts as arguments and send the arithmatic result to `STDOUT`: "
   ]
  },
  {
   "cell_type": "code",
   "execution_count": 9,
   "id": "213ae030",
   "metadata": {},
   "outputs": [
    {
     "name": "stdout",
     "output_type": "stream",
     "text": [
      "2\n"
     ]
    }
   ],
   "source": [
    "expr 1 + 1"
   ]
  },
  {
   "cell_type": "markdown",
   "id": "51142c8c",
   "metadata": {},
   "source": [
    "Important thing to remember when using this command is that you have to break your arithematic expression into character and put space in between them. Each character become an argument to the `expr` command and the space are the delimiter of the arguments. In the case above, the command `expr` see three arguments: `1`, `+`, and `1`.\n",
    "\n",
    "Without the space as delimiter, the `expr` command will see your math express as one argument and a string will result:"
   ]
  },
  {
   "cell_type": "code",
   "execution_count": 10,
   "id": "3fe9cfac",
   "metadata": {},
   "outputs": [
    {
     "name": "stdout",
     "output_type": "stream",
     "text": [
      "1+1\n"
     ]
    }
   ],
   "source": [
    "expr 1+1"
   ]
  },
  {
   "cell_type": "markdown",
   "id": "e04965a3",
   "metadata": {},
   "source": [
    "Becareful when your expression contains special character:"
   ]
  },
  {
   "cell_type": "code",
   "execution_count": 14,
   "id": "1944e63f",
   "metadata": {},
   "outputs": [
    {
     "name": "stdout",
     "output_type": "stream",
     "text": [
      "expr: syntax error\n"
     ]
    },
    {
     "ename": "",
     "evalue": "2",
     "output_type": "error",
     "traceback": []
    }
   ],
   "source": [
    "expr 9 * 10"
   ]
  },
  {
   "cell_type": "markdown",
   "id": "9602a454",
   "metadata": {},
   "source": [
    "In the above you need to escape the asterisk character to hide its special meaning.\n",
    "\n",
    "This is because Bash will do shell expansion before sending it to the `expr` command. "
   ]
  },
  {
   "cell_type": "code",
   "execution_count": 19,
   "id": "15bdb7f3",
   "metadata": {},
   "outputs": [
    {
     "name": "stdout",
     "output_type": "stream",
     "text": [
      "90\n"
     ]
    }
   ],
   "source": [
    "expr 9 \\* 10"
   ]
  },
  {
   "cell_type": "markdown",
   "id": "2e09aa40",
   "metadata": {},
   "source": [
    "To capture the result into a variable instead of direct it to `STDOUT` you can use the `$(expression)` syntax:"
   ]
  },
  {
   "cell_type": "code",
   "execution_count": 20,
   "id": "18e7c97a",
   "metadata": {},
   "outputs": [
    {
     "name": "stdout",
     "output_type": "stream",
     "text": [
      "90\n"
     ]
    }
   ],
   "source": [
    "result=$(expr 9 \\* 10)\n",
    "echo $result"
   ]
  },
  {
   "cell_type": "markdown",
   "id": "7b053805",
   "metadata": {},
   "source": [
    "When an argument is quoted, `expr` see it as an string argument:"
   ]
  },
  {
   "cell_type": "code",
   "execution_count": 22,
   "id": "ded8bd89",
   "metadata": {},
   "outputs": [
    {
     "name": "stdout",
     "output_type": "stream",
     "text": [
      "1 + 1\n"
     ]
    }
   ],
   "source": [
    "expr \"1 + 1\""
   ]
  },
  {
   "cell_type": "markdown",
   "id": "0620f991",
   "metadata": {},
   "source": [
    "`expr` command will perform automatic casting if you mixing string and decimal number with math operation:"
   ]
  },
  {
   "cell_type": "code",
   "execution_count": 23,
   "id": "d04e4d7b",
   "metadata": {},
   "outputs": [
    {
     "name": "stdout",
     "output_type": "stream",
     "text": [
      "13\n"
     ]
    }
   ],
   "source": [
    "expr \"12\" + 1"
   ]
  },
  {
   "cell_type": "markdown",
   "id": "081687f5",
   "metadata": {},
   "source": [
    "But the casting will not always possible, the example below show that math operation fail because of type miss match:"
   ]
  },
  {
   "cell_type": "code",
   "execution_count": 24,
   "id": "53d4a451",
   "metadata": {},
   "outputs": [
    {
     "name": "stdout",
     "output_type": "stream",
     "text": [
      "expr: not a decimal number: '1 + 1'\n"
     ]
    },
    {
     "ename": "",
     "evalue": "2",
     "output_type": "error",
     "traceback": []
    }
   ],
   "source": [
    "expr \"1 + 1\" + 1"
   ]
  }
 ],
 "metadata": {
  "kernelspec": {
   "display_name": "Bash",
   "language": "bash",
   "name": "bash"
  },
  "language_info": {
   "codemirror_mode": "shell",
   "file_extension": ".sh",
   "mimetype": "text/x-sh",
   "name": "bash"
  }
 },
 "nbformat": 4,
 "nbformat_minor": 5
}
