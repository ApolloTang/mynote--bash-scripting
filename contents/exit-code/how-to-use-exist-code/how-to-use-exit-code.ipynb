{
 "cells": [
  {
   "cell_type": "markdown",
   "metadata": {},
   "source": [
    "# This note shows you how to use exit code"
   ]
  },
  {
   "cell_type": "markdown",
   "metadata": {},
   "source": [
    "## Setting exit code\n",
    "\n",
    "The following script shows you how to set the exit code of an executable:"
   ]
  },
  {
   "cell_type": "code",
   "execution_count": 1,
   "metadata": {},
   "outputs": [
    {
     "name": "stdout",
     "output_type": "stream",
     "text": [
      "Overwriting check-file-exists-by-name.sh\n"
     ]
    }
   ],
   "source": [
    "%%file check-file-exists-by-name.sh\n",
    "#!/usr/bin/env sh\n",
    "\n",
    "filename=$1\n",
    "\n",
    "if [ ! -f $filename ];\n",
    "then\n",
    "  exit 64\n",
    "fi\n",
    "\n",
    "exit 0"
   ]
  },
  {
   "cell_type": "markdown",
   "metadata": {},
   "source": [
    "The above script takes a filename and checks if it exists in the current directory. </br>\n",
    "If the file exists, the exit code is set to zero to indicate execution was successful. </br>\n",
    "If the file does not exist, the exit code is set to non-zero to indicate execution failure."
   ]
  },
  {
   "cell_type": "code",
   "execution_count": 2,
   "metadata": {},
   "outputs": [],
   "source": [
    "%%bash\n",
    "chmod 744 check-file-exists-by-name.sh"
   ]
  },
  {
   "cell_type": "code",
   "execution_count": 3,
   "metadata": {},
   "outputs": [
    {
     "name": "stdout",
     "output_type": "stream",
     "text": [
      "0\n"
     ]
    }
   ],
   "source": [
    "%%bash\n",
    "./check-file-exists-by-name.sh i-exist.txt\n",
    "echo $?"
   ]
  },
  {
   "cell_type": "code",
   "execution_count": 4,
   "metadata": {},
   "outputs": [
    {
     "name": "stdout",
     "output_type": "stream",
     "text": [
      "64\n"
     ]
    }
   ],
   "source": [
    "%%bash\n",
    "./check-file-exists-by-name.sh i-donot-exist.txt\n",
    "echo $?"
   ]
  },
  {
   "cell_type": "markdown",
   "metadata": {},
   "source": [
    "## Capture an exit code and do something\n",
    "\n",
    "The following script executes an executable, it then captures the exit code to use it to decide what to do next."
   ]
  },
  {
   "cell_type": "code",
   "execution_count": 5,
   "metadata": {},
   "outputs": [
    {
     "name": "stdout",
     "output_type": "stream",
     "text": [
      "Overwriting check-successful-execution-of-a-script.sh\n"
     ]
    }
   ],
   "source": [
    "%%file check-successful-execution-of-a-script.sh\n",
    "#!/usr/bin/env sh\n",
    "\n",
    "./check-file-exists-by-name.sh i-donot-exist.txt\n",
    "EXIT_CODE=$?\n",
    "\n",
    "if [ $EXIT_CODE -eq 0 ];\n",
    "then\n",
    "  echo \"The execution of 'check-file-exists-by-name.sh' was successful, let do A\"\n",
    "else\n",
    "  echo \"The execution of 'check-file-exists-by-name.sh' failed, the error was $EXIT_CODE\"\n",
    "fi"
   ]
  },
  {
   "cell_type": "code",
   "execution_count": 6,
   "metadata": {},
   "outputs": [],
   "source": [
    "%%bash\n",
    "chmod 744 check-successful-execution-of-a-script.sh"
   ]
  },
  {
   "cell_type": "code",
   "execution_count": 7,
   "metadata": {},
   "outputs": [
    {
     "name": "stdout",
     "output_type": "stream",
     "text": [
      "The execution of 'check-file-exists-by-name.sh' failed, the error was 64\n"
     ]
    }
   ],
   "source": [
    "%%bash\n",
    "./check-successful-execution-of-a-script.sh"
   ]
  },
  {
   "cell_type": "markdown",
   "metadata": {},
   "source": [
    "## Refs\n",
    "\n",
    "[How to use Linux shell command exit codes | Enable Sysadmin](https://www.redhat.com/sysadmin/linux-shell-command-exit-codes) "
   ]
  }
 ],
 "metadata": {
  "kernelspec": {
   "display_name": "Python 3 (ipykernel)",
   "language": "python",
   "name": "python3"
  },
  "language_info": {
   "codemirror_mode": {
    "name": "ipython",
    "version": 3
   },
   "file_extension": ".py",
   "mimetype": "text/x-python",
   "name": "python",
   "nbconvert_exporter": "python",
   "pygments_lexer": "ipython3",
   "version": "3.12.2"
  },
  "vscode": {
   "interpreter": {
    "hash": "397704579725e15f5c7cb49fe5f0341eb7531c82d19f2c29d197e8b64ab5776b"
   }
  }
 },
 "nbformat": 4,
 "nbformat_minor": 4
}
