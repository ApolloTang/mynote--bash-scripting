{
 "cells": [
  {
   "cell_type": "markdown",
   "id": "daa5d344-86dd-45ad-b31c-de1d6474db66",
   "metadata": {},
   "source": [
    "**WIP**\n",
    "\n",
    "In Bash, Comma is used in:\n",
    "- brace expansion\n",
    "- filename\n",
    "- separate commands in arithmetic operation\n",
    "- `for` statement\n",
    "- parameter expansion"
   ]
  },
  {
   "cell_type": "code",
   "execution_count": null,
   "id": "70abdac8-fb0a-4122-a692-7457bf765575",
   "metadata": {},
   "outputs": [],
   "source": []
  }
 ],
 "metadata": {
  "kernelspec": {
   "display_name": "Python 3 (ipykernel)",
   "language": "python",
   "name": "python3"
  },
  "language_info": {
   "codemirror_mode": {
    "name": "ipython",
    "version": 3
   },
   "file_extension": ".py",
   "mimetype": "text/x-python",
   "name": "python",
   "nbconvert_exporter": "python",
   "pygments_lexer": "ipython3",
   "version": "3.12.3"
  }
 },
 "nbformat": 4,
 "nbformat_minor": 5
}
