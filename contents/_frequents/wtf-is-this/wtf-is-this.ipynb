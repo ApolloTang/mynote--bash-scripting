{
 "cells": [
  {
   "cell_type": "markdown",
   "id": "05da8332-baf5-4339-9197-a8a4c04d11e4",
   "metadata": {},
   "source": [
    "## `${!n}`"
   ]
  },
  {
   "cell_type": "code",
   "execution_count": 6,
   "id": "90b71748-16cc-4a6c-bbac-be484243d500",
   "metadata": {
    "scrolled": true
   },
   "outputs": [
    {
     "name": "stdout",
     "output_type": "stream",
     "text": [
      "hello\n"
     ]
    }
   ],
   "source": [
    "foo=hello              # The value of the paramter `foo` is `hello`.\n",
    "variableName=foo       # The value of the parameter `variableName` is `foo`.\n",
    "echo ${!variableName}  # `!variableName` will be expanded to `foo`, \n",
    "                       # thus, the command becomes: `echo ${foo}` \n",
    "                       # which expands to `echo hello`."
   ]
  },
  {
   "cell_type": "markdown",
   "id": "b17ebe16-af0c-4f63-be73-eb00a2331492",
   "metadata": {},
   "source": [
    "The above echos the content of a variable whose name is the value of the variable called `variableName`."
   ]
  },
  {
   "cell_type": "code",
   "execution_count": null,
   "id": "68402357-89d5-45a2-be48-deef1c6b74a9",
   "metadata": {},
   "outputs": [],
   "source": []
  }
 ],
 "metadata": {
  "kernelspec": {
   "display_name": "Bash",
   "language": "bash",
   "name": "bash"
  },
  "language_info": {
   "codemirror_mode": "shell",
   "file_extension": ".sh",
   "mimetype": "text/x-sh",
   "name": "bash"
  }
 },
 "nbformat": 4,
 "nbformat_minor": 5
}
