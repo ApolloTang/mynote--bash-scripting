{
 "cells": [
  {
   "cell_type": "markdown",
   "id": "05da8332-baf5-4339-9197-a8a4c04d11e4",
   "metadata": {},
   "source": [
    "## `${!n}`"
   ]
  },
  {
   "cell_type": "code",
   "execution_count": 4,
   "id": "90b71748-16cc-4a6c-bbac-be484243d500",
   "metadata": {
    "scrolled": true
   },
   "outputs": [
    {
     "name": "stdout",
     "output_type": "stream",
     "text": [
      "hello\n"
     ]
    }
   ],
   "source": [
    "foo=hello              # the value of foo is hello\n",
    "variableName=foo       # the value of variable is foo\n",
    "echo ${!variableName}  # will execute as `echo ${foo}` which expand to `echo hello`"
   ]
  },
  {
   "cell_type": "markdown",
   "id": "b17ebe16-af0c-4f63-be73-eb00a2331492",
   "metadata": {},
   "source": [
    "The above is saying echo the content of the variable (do a parameter expansion) whose name is is in the variable `variableName`."
   ]
  }
 ],
 "metadata": {
  "kernelspec": {
   "display_name": "Bash",
   "language": "bash",
   "name": "bash"
  },
  "language_info": {
   "codemirror_mode": "shell",
   "file_extension": ".sh",
   "mimetype": "text/x-sh",
   "name": "bash"
  }
 },
 "nbformat": 4,
 "nbformat_minor": 5
}
