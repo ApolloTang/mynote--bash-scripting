{
 "cells": [
  {
   "cell_type": "markdown",
   "metadata": {},
   "source": [
    "# Scope in a block of code [curly brackets]"
   ]
  },
  {
   "cell_type": "markdown",
   "metadata": {},
   "source": [
    "Also referred to as an inline group.\n",
    "This construct creates a function without a name (an anonymous function):"
   ]
  },
  {
   "cell_type": "code",
   "execution_count": 37,
   "metadata": {},
   "outputs": [
    {
     "name": "stdout",
     "output_type": "stream",
     "text": [
      "123\n"
     ]
    }
   ],
   "source": [
    "%%bash\n",
    "{ a=123; echo $a; }"
   ]
  },
  {
   "cell_type": "markdown",
   "metadata": {},
   "source": [
    "## Bash's code of block has dynamic scope:\n",
    "\n",
    "Like a function, a variable declared inside a block of code leaks to external:"
   ]
  },
  {
   "cell_type": "code",
   "execution_count": 40,
   "metadata": {},
   "outputs": [
    {
     "name": "stdout",
     "output_type": "stream",
     "text": [
      "\n",
      "foo is a value in a function\n",
      "\n",
      "bar is a value in a bash block of code\n"
     ]
    }
   ],
   "source": [
    "%%bash\n",
    "\n",
    "foo() { echo $foo; foo='foo is a value in a function'; };\n",
    "foo\n",
    "echo $foo\n",
    "\n",
    "\n",
    "{ echo $bar; bar='bar is a value in a bash block of code'; }\n",
    "echo $bar"
   ]
  },
  {
   "cell_type": "markdown",
   "metadata": {},
   "source": [
    "## Bash block can not be localized as an isolated scope:\n",
    "\n",
    "In a bash's function you can decorate a variable with keyword 'local' to isolate the variable within function scope."
   ]
  },
  {
   "cell_type": "code",
   "execution_count": 43,
   "metadata": {},
   "outputs": [
    {
     "name": "stdout",
     "output_type": "stream",
     "text": [
      "\n"
     ]
    }
   ],
   "source": [
    "%%bash \n",
    "sand_box() {\n",
    "  local var_local=\"I am inside sand_box\"\n",
    "}\n",
    "sand_box\n",
    "\n",
    "echo $var_local"
   ]
  },
  {
   "cell_type": "markdown",
   "metadata": {},
   "source": [
    "In a bash block of code, the variables inside a code block remain visible to the remainder of the script.\n",
    "You can not use the keyword `local` to isolate the variable within. There is no such thing as *block scope*"
   ]
  },
  {
   "cell_type": "code",
   "execution_count": 47,
   "metadata": {},
   "outputs": [
    {
     "name": "stderr",
     "output_type": "stream",
     "text": [
      "bash: line 2: local: can only be used in a function\n"
     ]
    },
    {
     "name": "stdout",
     "output_type": "stream",
     "text": [
      "\n"
     ]
    }
   ],
   "source": [
    "%%bash \n",
    "{\n",
    "  local var_inBlock=\"I am inside sand_box\"\n",
    "}\n",
    "\n",
    "echo $var_inBlock"
   ]
  },
  {
   "cell_type": "markdown",
   "metadata": {},
   "source": [
    "## References: \n",
    "\n",
    "[tldp.org/LDP/abs/html/special-chars.html#CODEBLOCKREF](https://tldp.org/LDP/abs/html/special-chars.html#CODEBLOCKREF)"
   ]
  },
  {
   "cell_type": "code",
   "execution_count": null,
   "metadata": {},
   "outputs": [],
   "source": []
  }
 ],
 "metadata": {
  "kernelspec": {
   "display_name": "Python 3 (ipykernel)",
   "language": "python",
   "name": "python3"
  },
  "language_info": {
   "codemirror_mode": {
    "name": "ipython",
    "version": 3
   },
   "file_extension": ".py",
   "mimetype": "text/x-python",
   "name": "python",
   "nbconvert_exporter": "python",
   "pygments_lexer": "ipython3",
   "version": "3.12.3"
  },
  "vscode": {
   "interpreter": {
    "hash": "397704579725e15f5c7cb49fe5f0341eb7531c82d19f2c29d197e8b64ab5776b"
   }
  }
 },
 "nbformat": 4,
 "nbformat_minor": 4
}
