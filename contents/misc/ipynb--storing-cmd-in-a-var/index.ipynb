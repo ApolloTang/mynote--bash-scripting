{
 "cells": [
  {
   "cell_type": "code",
   "execution_count": 36,
   "id": "e81266c5-d7d3-40e7-a088-5e153e97322c",
   "metadata": {},
   "outputs": [
    {
     "name": "stdout",
     "output_type": "stream",
     "text": [
      "Exception reporting mode: Minimal\n"
     ]
    }
   ],
   "source": [
    "# minimal output from pythons https://stackoverflow.com/a/78281950/3136861\n",
    "%xmode Minimal  "
   ]
  },
  {
   "cell_type": "markdown",
   "id": "caee8425-0311-4c55-b02b-28dd11f98881",
   "metadata": {},
   "source": [
    "# Store a command in a variable\n",
    "\n",
    "You can store a command in a variable:"
   ]
  },
  {
   "cell_type": "code",
   "execution_count": 37,
   "id": "ef9ca01c-6ddc-4d06-bde3-a1104d7d89fe",
   "metadata": {},
   "outputs": [
    {
     "name": "stdout",
     "output_type": "stream",
     "text": [
      "foo\n",
      "bar foobar\n"
     ]
    }
   ],
   "source": [
    "%%bash\n",
    "myExecutableVar=\"gecho\"\n",
    "\"$myExecutableVar\" -e 'foo\\nbar foobar'"
   ]
  },
  {
   "cell_type": "code",
   "execution_count": 38,
   "id": "2ae3b74b-c51d-4ee2-81d6-966ebae4130a",
   "metadata": {},
   "outputs": [
    {
     "name": "stdout",
     "output_type": "stream",
     "text": [
      "foo\n",
      "bar foobar\n"
     ]
    }
   ],
   "source": [
    "%%bash\n",
    "myExecutableVar=\"/usr/local/bin/gecho\"\n",
    "\"$myExecutableVar\" -e 'foo\\nbar foobar'"
   ]
  },
  {
   "cell_type": "markdown",
   "id": "b159de5e-b84a-4cba-adc5-05d686234492",
   "metadata": {},
   "source": [
    "If you want to store the argument to your command the above does not work:"
   ]
  },
  {
   "cell_type": "code",
   "execution_count": 41,
   "id": "21990c36-9f47-4549-9aab-3b5f5631c8b3",
   "metadata": {},
   "outputs": [
    {
     "name": "stderr",
     "output_type": "stream",
     "text": [
      "bash: line 2: /usr/local/bin/gecho -e 'foo\\nbar foobar': No such file or directory\n"
     ]
    },
    {
     "ename": "CalledProcessError",
     "evalue": "Command 'b'myExecutableVar=\"/usr/local/bin/gecho -e \\'foo\\\\nbar foobar\\'\"\\n\"$myExecutableVar\"\\n'' returned non-zero exit status 127.",
     "output_type": "error",
     "traceback": [
      "\u001b[0;31mCalledProcessError\u001b[0m\u001b[0;31m:\u001b[0m Command 'b'myExecutableVar=\"/usr/local/bin/gecho -e \\'foo\\\\nbar foobar\\'\"\\n\"$myExecutableVar\"\\n'' returned non-zero exit status 127.\n"
     ]
    }
   ],
   "source": [
    "%%bash\n",
    "myExecutableVar=\"/usr/local/bin/gecho -e 'foo\\nbar foobar'\"\n",
    "\"$myExecutableVar\""
   ]
  },
  {
   "cell_type": "markdown",
   "id": "4a18c1b1-32ff-4ed1-b206-be30c265a34a",
   "metadata": {},
   "source": [
    "The above failed because the value stored, `\"gecho=\"/usr/local/bin/gecho -e 'foo\\nbar foobar'\"` is one piece of quoted string. When quoted, the space character loses its function as a delimiter. \n",
    "\n",
    "There are at least three ways to get around this: \n",
    "1. use array\n",
    "2. use the `eval` builtin\n",
    "3. set the positional parameters"
   ]
  },
  {
   "cell_type": "markdown",
   "id": "e79fda8d-6324-4835-bfa4-64906ef7e453",
   "metadata": {},
   "source": [
    "### 1. use array:"
   ]
  },
  {
   "cell_type": "code",
   "execution_count": 35,
   "id": "8c9f4683-bcb6-4253-bcd3-016507a4ea81",
   "metadata": {},
   "outputs": [
    {
     "name": "stdout",
     "output_type": "stream",
     "text": [
      "foo\n",
      "bar foobar\n"
     ]
    }
   ],
   "source": [
    "%%bash\n",
    "myExecutableArray=(/usr/local/bin/gecho -e 'foo\\nbar foobar')\n",
    "\"${myExecutableArray[@]}\""
   ]
  },
  {
   "cell_type": "markdown",
   "id": "1067eb5a-e8a8-45e1-a285-72b8361395eb",
   "metadata": {},
   "source": [
    "### 2. use eval:"
   ]
  },
  {
   "cell_type": "code",
   "execution_count": 42,
   "id": "556155e2-ea43-4ccb-a2bf-4ad1bf1756af",
   "metadata": {},
   "outputs": [
    {
     "name": "stdout",
     "output_type": "stream",
     "text": [
      "foo\n",
      "bar foobar\n"
     ]
    }
   ],
   "source": [
    "%%bash\n",
    "myExecutableVar=\"/usr/local/bin/gecho -e 'foo\\nbar foobar'\"\n",
    "eval \"$myExecutableVar\""
   ]
  },
  {
   "cell_type": "markdown",
   "id": "1923cd52-9b76-4af5-ad3f-37580702282f",
   "metadata": {},
   "source": [
    "### 3. set the positional parameters"
   ]
  },
  {
   "cell_type": "code",
   "execution_count": 45,
   "id": "41e54a11-b05a-4c4c-a049-daa72e24a2f5",
   "metadata": {},
   "outputs": [
    {
     "name": "stdout",
     "output_type": "stream",
     "text": [
      "foo\n",
      "bar foobar\n"
     ]
    }
   ],
   "source": [
    "%%bash\n",
    "set -- /usr/local/bin/gecho -e 'foo\\nbar foobar'\n",
    "\"$@\""
   ]
  },
  {
   "cell_type": "markdown",
   "id": "e3b3afa9-b776-49b4-aeec-464b95ce674e",
   "metadata": {
    "jupyter": {
     "source_hidden": true
    }
   },
   "source": [
    "Reference: [Always use double quotes around variable substitutions and command substitutions: \"$foo\", \"$(foo)\"](https://unix.stackexchange.com/a/131767/62821)"
   ]
  },
  {
   "cell_type": "code",
   "execution_count": null,
   "id": "7c8ebbd8-f8ca-452c-aa07-e60da176f4ee",
   "metadata": {},
   "outputs": [],
   "source": []
  }
 ],
 "metadata": {
  "kernelspec": {
   "display_name": "Python 3 (ipykernel)",
   "language": "python",
   "name": "python3"
  },
  "language_info": {
   "codemirror_mode": {
    "name": "ipython",
    "version": 3
   },
   "file_extension": ".py",
   "mimetype": "text/x-python",
   "name": "python",
   "nbconvert_exporter": "python",
   "pygments_lexer": "ipython3",
   "version": "3.12.3"
  }
 },
 "nbformat": 4,
 "nbformat_minor": 5
}
