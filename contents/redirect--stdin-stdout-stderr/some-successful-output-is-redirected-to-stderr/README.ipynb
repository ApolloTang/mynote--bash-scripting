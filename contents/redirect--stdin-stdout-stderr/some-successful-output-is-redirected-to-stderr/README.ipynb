{
 "cells": [
  {
   "cell_type": "markdown",
   "metadata": {},
   "source": [
    "# Some output of successful execution is redirected to stderr\n",
    "\n",
    "Here is a command that prints java's version:"
   ]
  },
  {
   "cell_type": "code",
   "execution_count": 8,
   "metadata": {},
   "outputs": [
    {
     "name": "stderr",
     "output_type": "stream",
     "text": [
      "java version \"1.8.0_131\"\n",
      "Java(TM) SE Runtime Environment (build 1.8.0_131-b11)\n",
      "Java HotSpot(TM) 64-Bit Server VM (build 25.131-b11, mixed mode)\n"
     ]
    }
   ],
   "source": [
    "%%bash\n",
    "java -version"
   ]
  },
  {
   "cell_type": "markdown",
   "metadata": {},
   "source": [
    "Let's try to save the output of command `java -version` to a file:"
   ]
  },
  {
   "cell_type": "code",
   "execution_count": 9,
   "metadata": {},
   "outputs": [
    {
     "name": "stderr",
     "output_type": "stream",
     "text": [
      "java version \"1.8.0_131\"\n",
      "Java(TM) SE Runtime Environment (build 1.8.0_131-b11)\n",
      "Java HotSpot(TM) 64-Bit Server VM (build 25.131-b11, mixed mode)\n"
     ]
    }
   ],
   "source": [
    "%%bash\n",
    "java -version > java_version-attempt1.txt"
   ]
  },
  {
   "cell_type": "markdown",
   "metadata": {},
   "source": [
    "The output of the command `java—version` is displayed on the terminal. We expected that it should not be displayed but saved to the file.\n",
    "\n",
    "The content of the output file `java_version-attempt1.txt` is empty; "
   ]
  },
  {
   "cell_type": "code",
   "execution_count": 10,
   "metadata": {},
   "outputs": [],
   "source": [
    "%%bash\n",
    "cat ./java_version-attempt1.txt  "
   ]
  },
  {
   "cell_type": "markdown",
   "metadata": {},
   "source": [
    "This is because the output of command `java—version` is direction to `stderr`. \n",
    "\n",
    "Let's fix this by using `2>`:"
   ]
  },
  {
   "cell_type": "code",
   "execution_count": 11,
   "metadata": {},
   "outputs": [],
   "source": [
    "%%bash\n",
    "java -version 2> java_version-attempt2.txt"
   ]
  },
  {
   "cell_type": "markdown",
   "metadata": {},
   "source": [
    "This time the version is not diplay on the terminal but save to the file:"
   ]
  },
  {
   "cell_type": "code",
   "execution_count": 12,
   "metadata": {},
   "outputs": [
    {
     "name": "stdout",
     "output_type": "stream",
     "text": [
      "java version \"1.8.0_131\"\n",
      "Java(TM) SE Runtime Environment (build 1.8.0_131-b11)\n",
      "Java HotSpot(TM) 64-Bit Server VM (build 25.131-b11, mixed mode)\n"
     ]
    }
   ],
   "source": [
    "%%bash\n",
    "cat ./java_version-attempt2.txt"
   ]
  }
 ],
 "metadata": {
  "kernelspec": {
   "display_name": "Python 3 (ipykernel)",
   "language": "python",
   "name": "python3"
  },
  "language_info": {
   "codemirror_mode": {
    "name": "ipython",
    "version": 3
   },
   "file_extension": ".py",
   "mimetype": "text/x-python",
   "name": "python",
   "nbconvert_exporter": "python",
   "pygments_lexer": "ipython3",
   "version": "3.12.2"
  },
  "vscode": {
   "interpreter": {
    "hash": "397704579725e15f5c7cb49fe5f0341eb7531c82d19f2c29d197e8b64ab5776b"
   }
  }
 },
 "nbformat": 4,
 "nbformat_minor": 4
}
