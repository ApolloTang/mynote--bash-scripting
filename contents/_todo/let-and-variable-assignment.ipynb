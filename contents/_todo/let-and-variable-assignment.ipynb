{
 "cells": [
  {
   "cell_type": "markdown",
   "id": "4060ee12",
   "metadata": {},
   "source": [
    "# the `let` Statement and variable assignment \n",
    "\n",
    "Ref: \n",
    "https://www.baeldung.com/linux/bash-let-statement-vs-assignment\n",
    "\n",
    "https://phoenixnap.com/kb/bash-let\n"
   ]
  },
  {
   "cell_type": "code",
   "execution_count": null,
   "id": "f0943472",
   "metadata": {},
   "outputs": [],
   "source": []
  },
  {
   "cell_type": "code",
   "execution_count": null,
   "id": "a6764ece",
   "metadata": {},
   "outputs": [],
   "source": []
  }
 ],
 "metadata": {
  "kernelspec": {
   "display_name": "Bash",
   "language": "bash",
   "name": "bash"
  },
  "language_info": {
   "codemirror_mode": "shell",
   "file_extension": ".sh",
   "mimetype": "text/x-sh",
   "name": "bash"
  }
 },
 "nbformat": 4,
 "nbformat_minor": 5
}
