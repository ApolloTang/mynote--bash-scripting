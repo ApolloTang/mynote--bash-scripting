{
 "cells": [
  {
   "cell_type": "markdown",
   "id": "3aa909d1",
   "metadata": {},
   "source": [
    "## Behaviour of space character in string\n",
    "\n",
    "When passing a string to a command, Bash see the space as argument deliminator:"
   ]
  },
  {
   "cell_type": "code",
   "execution_count": 1,
   "id": "21777985",
   "metadata": {},
   "outputs": [
    {
     "name": "stdout",
     "output_type": "stream",
     "text": [
      "asterisk string-interpolation-with-double-quote.ipynb is a special character\n"
     ]
    }
   ],
   "source": [
    "String_With_Asterisk=\"asterisk * is a special character\"\n",
    "echo $String_With_Asterisk"
   ]
  },
  {
   "cell_type": "markdown",
   "id": "bff7d693",
   "metadata": {},
   "source": [
    "Above is somewhat equivalent to:"
   ]
  },
  {
   "cell_type": "code",
   "execution_count": 10,
   "id": "c45d9e81",
   "metadata": {
    "scrolled": true
   },
   "outputs": [
    {
     "name": "stdout",
     "output_type": "stream",
     "text": [
      "asterisk string-interpolation-with-double-quote.ipynb is a special character\n"
     ]
    }
   ],
   "source": [
    "echo asterisk * is a special character"
   ]
  },
  {
   "cell_type": "markdown",
   "id": "aea7f0d7",
   "metadata": {},
   "source": [
    "Notice that the asterisk undergoes shell expansion:"
   ]
  },
  {
   "cell_type": "code",
   "execution_count": 3,
   "id": "4889155a",
   "metadata": {},
   "outputs": [
    {
     "name": "stdout",
     "output_type": "stream",
     "text": [
      "string-interpolation-with-double-quote.ipynb\n"
     ]
    }
   ],
   "source": [
    "echo *"
   ]
  },
  {
   "cell_type": "markdown",
   "id": "75943fcb",
   "metadata": {},
   "source": [
    "The behaviour is different when asterisk not surround by space:"
   ]
  },
  {
   "cell_type": "code",
   "execution_count": 4,
   "id": "6732fe9a",
   "metadata": {
    "scrolled": true
   },
   "outputs": [
    {
     "name": "stdout",
     "output_type": "stream",
     "text": [
      "asterisk*is a special character\n"
     ]
    }
   ],
   "source": [
    "String_With_Asterisk2=\"asterisk*is a special character\"\n",
    "echo $String_With_Asterisk2"
   ]
  },
  {
   "cell_type": "markdown",
   "id": "22c30ab0",
   "metadata": {},
   "source": [
    "Above is similar to:"
   ]
  },
  {
   "cell_type": "code",
   "execution_count": 4,
   "id": "29e69d24",
   "metadata": {},
   "outputs": [
    {
     "name": "stdout",
     "output_type": "stream",
     "text": [
      "asterisk*is a special character\n"
     ]
    }
   ],
   "source": [
    "echo asterisk*is a special character"
   ]
  },
  {
   "cell_type": "markdown",
   "id": "60602551",
   "metadata": {},
   "source": [
    "## Special character loses it special meaning during string interpolation\n",
    "\n",
    "If we double quote a variable, the value of the variable will be evaluated (or string interpolated); during string interpolation special character loses it special meaning (it will not be expanded):"
   ]
  },
  {
   "cell_type": "code",
   "execution_count": 12,
   "id": "ce4a2d4d",
   "metadata": {},
   "outputs": [
    {
     "name": "stdout",
     "output_type": "stream",
     "text": [
      "asterisk * is a special character\n"
     ]
    }
   ],
   "source": [
    "String_With_Asterisk=\"asterisk * is a special character\"\n",
    "echo \"$String_With_Asterisk\""
   ]
  }
 ],
 "metadata": {
  "kernelspec": {
   "display_name": "Bash",
   "language": "bash",
   "name": "bash"
  },
  "language_info": {
   "codemirror_mode": "shell",
   "file_extension": ".sh",
   "mimetype": "text/x-sh",
   "name": "bash"
  }
 },
 "nbformat": 4,
 "nbformat_minor": 5
}
