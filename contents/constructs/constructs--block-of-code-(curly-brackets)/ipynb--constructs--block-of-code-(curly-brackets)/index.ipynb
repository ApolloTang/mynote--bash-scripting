{
 "cells": [
  {
   "cell_type": "code",
   "execution_count": 36,
   "metadata": {},
   "outputs": [],
   "source": [
    "%%bash\n",
    "# setup playground\n",
    "\n",
    "sh -c \"[[ -d ./tmp ]] && { rm -r ./tmp; mkdir ./tmp;} || { mkdir -p ./tmp; }\"\n",
    "# The above oneliner removes the previous ./tmp/ and its content, then creates a new one with the same name\n",
    "# It is modified after:\n",
    "# stackoverflow.com/questions/73557323/bash-one-liner-check-if-a-directory-exists-if-so-delete-it-then-create-it-an\n",
    "\n",
    "echo '*' > ./tmp/.gitignore  # Above tells git to ignore this directory."
   ]
  },
  {
   "cell_type": "markdown",
   "metadata": {},
   "source": [
    "# Construct: Block of code [curly brackets]"
   ]
  },
  {
   "cell_type": "markdown",
   "metadata": {},
   "source": [
    "Also referred to as an inline group.\n",
    "This construct creates a function without a name (an anonymous function):"
   ]
  },
  {
   "cell_type": "code",
   "execution_count": 37,
   "metadata": {},
   "outputs": [
    {
     "name": "stdout",
     "output_type": "stream",
     "text": [
      "123\n"
     ]
    }
   ],
   "source": [
    "%%bash\n",
    "{ a=123; echo $a; }"
   ]
  },
  {
   "cell_type": "markdown",
   "metadata": {},
   "source": [
    "## Block of code redirection:\n",
    "\n",
    "Like a bash function, you can redirect its output to a file in Linux:"
   ]
  },
  {
   "cell_type": "code",
   "execution_count": 15,
   "metadata": {},
   "outputs": [
    {
     "name": "stdout",
     "output_type": "stream",
     "text": [
      "first line in ./tmp/output-from-a-block-of-code.txt is:\n",
      "I am the output from a block of code\n"
     ]
    }
   ],
   "source": [
    "%%bash\n",
    "\n",
    "# example to show bash function redirect:\n",
    "initialize_a() {\n",
    "  b=\"I am the output from a bash function\"; echo $b;\n",
    "}\n",
    "initialize_a > ./tmp/output-from-a-function.txt\n",
    "\n",
    "\n",
    "# example to show a block of code redirect:\n",
    "File=./tmp/output-from-a-block-of-code.txt\n",
    "{ c=\"I am the output from a block of code\"; echo $c; } > $File\n",
    "\n",
    "# example to show reading a line from file:\n",
    "File=./tmp/output-from-a-block-of-code.txt\n",
    "{ read line1; } < $File\n",
    "echo \"first line in $File is:\"\n",
    "echo \"$line1\""
   ]
  },
  {
   "cell_type": "markdown",
   "metadata": {},
   "source": [
    "## Bash's code of block has dynamic scope:\n",
    "\n",
    "Like a function, a variable declared inside a block of code leaks to external:"
   ]
  },
  {
   "cell_type": "code",
   "execution_count": 40,
   "metadata": {},
   "outputs": [
    {
     "name": "stdout",
     "output_type": "stream",
     "text": [
      "\n",
      "foo is a value in a function\n",
      "\n",
      "bar is a value in a bash block of code\n"
     ]
    }
   ],
   "source": [
    "%%bash\n",
    "\n",
    "foo() { echo $foo; foo='foo is a value in a function'; };\n",
    "foo\n",
    "echo $foo\n",
    "\n",
    "\n",
    "{ echo $bar; bar='bar is a value in a bash block of code'; }\n",
    "echo $bar"
   ]
  },
  {
   "cell_type": "markdown",
   "metadata": {},
   "source": [
    "## References: \n",
    "\n",
    "[tldp.org/LDP/abs/html/special-chars.html#CODEBLOCKREF](https://tldp.org/LDP/abs/html/special-chars.html#CODEBLOCKREF)"
   ]
  }
 ],
 "metadata": {
  "kernelspec": {
   "display_name": "Python 3 (ipykernel)",
   "language": "python",
   "name": "python3"
  },
  "language_info": {
   "codemirror_mode": {
    "name": "ipython",
    "version": 3
   },
   "file_extension": ".py",
   "mimetype": "text/x-python",
   "name": "python",
   "nbconvert_exporter": "python",
   "pygments_lexer": "ipython3",
   "version": "3.12.3"
  },
  "vscode": {
   "interpreter": {
    "hash": "397704579725e15f5c7cb49fe5f0341eb7531c82d19f2c29d197e8b64ab5776b"
   }
  }
 },
 "nbformat": 4,
 "nbformat_minor": 4
}
