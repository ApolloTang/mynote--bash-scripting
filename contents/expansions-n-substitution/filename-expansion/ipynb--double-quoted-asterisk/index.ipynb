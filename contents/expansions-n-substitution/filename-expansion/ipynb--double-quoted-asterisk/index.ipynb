{
 "cells": [
  {
   "cell_type": "markdown",
   "id": "1c47bba0-67cf-48f1-bedb-4b3961820e1d",
   "metadata": {},
   "source": [
    "# Bash only considers the `*` as word patterns if they are not double-quoted."
   ]
  },
  {
   "cell_type": "code",
   "execution_count": 68,
   "id": "9baeb88f-9eab-4e98-a538-d1d95e1a5a3f",
   "metadata": {},
   "outputs": [
    {
     "name": "stdout",
     "output_type": "stream",
     "text": [
      "a0.txt\n",
      "a1.txt\n",
      "b2.txt\n",
      "b3.txt\n",
      "\u001b[35mfoo.sh\u001b[m\u001b[m\n",
      "index.ipynb\n"
     ]
    }
   ],
   "source": [
    "%%bash\n",
    "# setup playground\n",
    "\n",
    "rm ./*.txt\n",
    "touch a{0..1}.txt\n",
    "touch b{2..3}.txt\n",
    "ls\n",
    "echo '*.txt' > .gitignore\n",
    "\n",
    "touch foo.sh && chmod 744 $_"
   ]
  },
  {
   "cell_type": "code",
   "execution_count": 69,
   "id": "44979dc5-1cf1-4cc8-9eab-6f5d421f9101",
   "metadata": {},
   "outputs": [
    {
     "name": "stdout",
     "output_type": "stream",
     "text": [
      "Overwriting foo.sh\n"
     ]
    }
   ],
   "source": [
    "%%file foo.sh\n",
    "#!/usr/bin/env sh\n",
    "\n",
    "echo \"this asterisk is not double-quoted:\" b*.txt\n",
    "echo \"this asterisk is double-quoted: a*.txt\" \n",
    "echo \"this asterisk is double-quoted and preceded with a dollar sign: $*\" "
   ]
  },
  {
   "cell_type": "code",
   "execution_count": 70,
   "id": "69ed34a2-6cb0-4841-86f3-7142d459e33e",
   "metadata": {},
   "outputs": [
    {
     "name": "stdout",
     "output_type": "stream",
     "text": [
      "this asterisk is not double-quoted: b2.txt b3.txt\n",
      "this asterisk is double-quoted: a*.txt\n",
      "this asterisk is double-quoted and preceded with a dollar sign: arg1 arg2 arg3\n"
     ]
    }
   ],
   "source": [
    "%%bash \n",
    "./foo.sh arg1 arg2 arg3"
   ]
  }
 ],
 "metadata": {
  "kernelspec": {
   "display_name": "Python 3 (ipykernel)",
   "language": "python",
   "name": "python3"
  },
  "language_info": {
   "codemirror_mode": {
    "name": "ipython",
    "version": 3
   },
   "file_extension": ".py",
   "mimetype": "text/x-python",
   "name": "python",
   "nbconvert_exporter": "python",
   "pygments_lexer": "ipython3",
   "version": "3.12.3"
  }
 },
 "nbformat": 4,
 "nbformat_minor": 5
}
