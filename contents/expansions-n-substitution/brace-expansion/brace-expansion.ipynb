{
 "cells": [
  {
   "cell_type": "markdown",
   "id": "cf8151ec-53b2-49f7-86ac-81f8f6fb8bbc",
   "metadata": {},
   "source": [
    "Brace expansion is used for generating strings. Syntactically, there are two forms: \n",
    "1. the sequence expressions\n",
    "2. the comma-separated strings expression"
   ]
  },
  {
   "cell_type": "markdown",
   "id": "7f6f5970-b38b-4894-bd3f-ac7d311edf7a",
   "metadata": {},
   "source": [
    "Here are an examples for them respectively:"
   ]
  },
  {
   "cell_type": "code",
   "execution_count": 3,
   "id": "4e5dbf05-12c3-4d3a-9978-5867146d5238",
   "metadata": {},
   "outputs": [
    {
     "name": "stdout",
     "output_type": "stream",
     "text": [
      "file-8.txt file-9.txt file-10.txt file-11.txt file-12.txt\n",
      "hello-world goodbye-world\n"
     ]
    }
   ],
   "source": [
    "echo file-{8..12}.txt       # sequence expressions\n",
    "echo {hello,goodbye}-world  # comma-separated strings expression"
   ]
  },
  {
   "cell_type": "markdown",
   "id": "dac0e505-72ae-40df-ba3d-0def523cdb0d",
   "metadata": {},
   "source": [
    "Note that sequence expression will generate [natural sort order](https://en.wikipedia.org/wiki/Natural_sort_order), while comma-separated strings expression's results are not sorted (left to right order is preserved)"
   ]
  },
  {
   "cell_type": "markdown",
   "id": "cee9dba8-f512-4fc5-8902-b49f1bdcf539",
   "metadata": {},
   "source": [
    "In the sequence expression you can also generate reverse natural sort order:"
   ]
  },
  {
   "cell_type": "code",
   "execution_count": 5,
   "id": "40566df9-205f-4ff9-8312-2c09aab07a5f",
   "metadata": {},
   "outputs": [
    {
     "name": "stdout",
     "output_type": "stream",
     "text": [
      "10 9 8 7\n"
     ]
    }
   ],
   "source": [
    "echo {10..7}"
   ]
  },
  {
   "cell_type": "markdown",
   "id": "d23559b6-4590-4edd-84a7-fba8e4878edd",
   "metadata": {},
   "source": [
    "If one of the integers is prefixed with 0, **Zero-Padded Numeric Strings** is generated. Meaning that the shell attempts to force all generated terms to contain the same number of digits where necessary. The sort order, in this case, will be **Lexicographical Order**:"
   ]
  },
  {
   "cell_type": "code",
   "execution_count": 6,
   "id": "e37490f8-0b31-487f-92fa-fe6f90e2df6e",
   "metadata": {},
   "outputs": [
    {
     "name": "stdout",
     "output_type": "stream",
     "text": [
      "07 08 09 10\n",
      "0010 0009 0008 0007\n"
     ]
    }
   ],
   "source": [
    "echo {07..10}\n",
    "echo {0010..7}"
   ]
  },
  {
   "cell_type": "markdown",
   "id": "1bd80f1b-1478-4bec-a619-3c410b93baca",
   "metadata": {},
   "source": [
    "If the specified range is the alphabet letter, the results are alphabetically ordered:"
   ]
  },
  {
   "cell_type": "code",
   "execution_count": 32,
   "id": "44cab656-ae44-48cc-bc52-7349b948b05e",
   "metadata": {},
   "outputs": [
    {
     "name": "stdout",
     "output_type": "stream",
     "text": [
      "a b c d e f g h i j k l m n o p q r s t u v w x y z\n",
      "z y x w v u t s r q p o n m l k j i h g f e d c b a\n"
     ]
    }
   ],
   "source": [
    "echo {a..z}\n",
    "echo {z..a}"
   ]
  },
  {
   "cell_type": "markdown",
   "id": "2d9413f7-a393-43e5-917e-2c8e0391d5c3",
   "metadata": {},
   "source": [
    "You can extend the alphabetical sequence to include different case:"
   ]
  },
  {
   "cell_type": "code",
   "execution_count": 33,
   "id": "25aa397b-24b0-43b8-ad88-d9fa2a419c95",
   "metadata": {},
   "outputs": [
    {
     "name": "stdout",
     "output_type": "stream",
     "text": [
      "A B C D E F G H I J K L M N O P Q R S T U V W X Y Z [  ] ^ _ ` a b c d e f g h i j k l m n o p q r s t u v w x y z\n",
      "z y x w v u t s r q p o n m l k j i h g f e d c b a ` _ ^ ]  [ Z Y X W V U T S R Q P O N M L K J I H G F E D C B A\n"
     ]
    }
   ],
   "source": [
    "echo {A..z}\n",
    "echo {z..A}"
   ]
  },
  {
   "cell_type": "markdown",
   "id": "2f2f1428-dc37-4264-bf1f-b6d26d207401",
   "metadata": {},
   "source": [
    "It seems that the sequence is expanded following the sequence of [ASCII Table](https://www.cs.cmu.edu/~pattis/15-1XX/common/handouts/ascii.html); however, back slash, `\\`, that should be in between `[` and `]` is missing."
   ]
  },
  {
   "cell_type": "markdown",
   "id": "addf5412-984a-40d7-89c1-7b8cada01d5e",
   "metadata": {},
   "source": [
    "Note the result when you reverse the capitalization:"
   ]
  },
  {
   "cell_type": "code",
   "execution_count": 34,
   "id": "0f97b983-660f-4e06-9f96-6664069bc799",
   "metadata": {},
   "outputs": [
    {
     "name": "stdout",
     "output_type": "stream",
     "text": [
      "a ` _ ^ ]  [ Z\n",
      "Z [  ] ^ _ ` a\n"
     ]
    }
   ],
   "source": [
    "echo {a..Z}\n",
    "echo {Z..a}"
   ]
  },
  {
   "cell_type": "markdown",
   "id": "8e1c6342-e80c-4612-a3a1-0d642a70e557",
   "metadata": {},
   "source": [
    "You should becareful when you intend to generate string contain space, for example, if you want to generate `- 1-` and `- 3-`, this won't work:"
   ]
  },
  {
   "cell_type": "code",
   "execution_count": 10,
   "id": "0ee61f2a-25ab-4123-94d6-f7bfd3b507f2",
   "metadata": {},
   "outputs": [
    {
     "name": "stdout",
     "output_type": "stream",
     "text": [
      "-{ 1, 3}-\n"
     ]
    }
   ],
   "source": [
    "echo -{ 1, 3}-"
   ]
  },
  {
   "cell_type": "markdown",
   "id": "6dc9e06b-eb7e-43d2-a357-3a2f2c0a081d",
   "metadata": {},
   "source": [
    "The above is equivalent to:"
   ]
  },
  {
   "cell_type": "code",
   "execution_count": 19,
   "id": "e01510c7-0d9c-4f00-85df-8955f861639f",
   "metadata": {},
   "outputs": [
    {
     "name": "stdout",
     "output_type": "stream",
     "text": [
      "-{ 1, 3}-\n"
     ]
    }
   ],
   "source": [
    "echo '-{' '1,' '3}-'"
   ]
  },
  {
   "cell_type": "markdown",
   "id": "e0440e5c-9c8b-49dc-9de6-6f5eaf4fd6f9",
   "metadata": {},
   "source": [
    "That is because the spaces in the statement `echo -{ 1, 3}-` has been inteprete as arugument saparator for the echo command."
   ]
  },
  {
   "cell_type": "markdown",
   "id": "a6856aae-de3e-46c7-ab92-3229a422c2d2",
   "metadata": {},
   "source": [
    " To generate `- 1-` and `- 3-` you should type:"
   ]
  },
  {
   "cell_type": "code",
   "execution_count": 18,
   "id": "a6929b65-22a6-4d11-9866-6bf92fa5260c",
   "metadata": {},
   "outputs": [
    {
     "name": "stdout",
     "output_type": "stream",
     "text": [
      "- 1- - 3-\n",
      "- 1- - 3-\n"
     ]
    }
   ],
   "source": [
    "echo -{' 1',' 3'}-\n",
    "echo -{\\ 1,\\ 3}-"
   ]
  },
  {
   "cell_type": "markdown",
   "id": "3eff8a76-fb46-4acd-b9fd-da895386350c",
   "metadata": {},
   "source": [
    "Symbol generation is okay too, but you have to quote or escape them:"
   ]
  },
  {
   "cell_type": "code",
   "execution_count": 36,
   "id": "753bb72c-45ed-4ebc-a764-37f80b5a1adb",
   "metadata": {},
   "outputs": [
    {
     "name": "stdout",
     "output_type": "stream",
     "text": [
      "3 README.md brace-expansion.ipynb\n",
      "3 * *\n"
     ]
    }
   ],
   "source": [
    "echo {3,*}\n",
    "echo {3,\"*\",\\*} "
   ]
  },
  {
   "cell_type": "code",
   "execution_count": 37,
   "id": "495855fa-b5df-4d27-bdd0-0500a6deddf6",
   "metadata": {},
   "outputs": [
    {
     "name": "stdout",
     "output_type": "stream",
     "text": [
      "{@,#,$, •,&,,2}\n",
      "3 README.md brace-expansion.ipynb\n",
      "3 * *\n",
      "3 * * & & / _ , . ' \"\n"
     ]
    }
   ],
   "source": [
    "echo {@,#,$, •,\\&,,2}        # does not work\n",
    "echo {3,*}\n",
    "echo {3,\"*\",\\*}        # does not work\n",
    "echo {3,\"*\",\\*,'&',\\&,/,_,\\,,.,\\',\\\"}    # work!"
   ]
  },
  {
   "cell_type": "markdown",
   "id": "213bac0b-a3f5-4557-8c27-90885534b6c4",
   "metadata": {},
   "source": []
  },
  {
   "cell_type": "markdown",
   "id": "3572448d-8b09-4b11-bf0a-b497701a4abb",
   "metadata": {},
   "source": [
    "You can combine brace expansion"
   ]
  },
  {
   "cell_type": "markdown",
   "id": "bad84edc-8be9-457d-b7a5-0b466c50c722",
   "metadata": {},
   "source": [
    "---"
   ]
  },
  {
   "cell_type": "markdown",
   "id": "4e30fcf0-4f64-431f-adb3-801640ccde99",
   "metadata": {},
   "source": [
    "Combine two or more sequences to create permutation and combination:"
   ]
  },
  {
   "cell_type": "code",
   "execution_count": 19,
   "id": "3d154152-6708-4d6c-8f3e-f76138db1b2b",
   "metadata": {},
   "outputs": [
    {
     "name": "stdout",
     "output_type": "stream",
     "text": [
      "A1 A2 A3 B1 B2 B3 C1 C2 C3\n"
     ]
    }
   ],
   "source": [
    "echo {A,B,C}{1,2,3}"
   ]
  },
  {
   "cell_type": "code",
   "execution_count": 20,
   "id": "2bd2b44e-8727-447a-816f-2553c333bb77",
   "metadata": {},
   "outputs": [
    {
     "name": "stdout",
     "output_type": "stream",
     "text": [
      "A1 A2 A3 B1 B2 B3 C1 C2 C3\n"
     ]
    }
   ],
   "source": [
    "echo {A..C}{1..3}"
   ]
  },
  {
   "cell_type": "markdown",
   "id": "2539ba4e-5598-41bd-b709-c378ac60128c",
   "metadata": {},
   "source": [
    "Below we generate all the binary numbers for an 4-bit register, in ascending order:"
   ]
  },
  {
   "cell_type": "code",
   "execution_count": 25,
   "id": "a2d10d65-1ca6-4ee3-8947-652e617ffcc7",
   "metadata": {},
   "outputs": [
    {
     "name": "stdout",
     "output_type": "stream",
     "text": [
      "0000 0001 0010 0011 0100 0101 0110 0111 1000 1001 1010 1011 1100 1101 1110 1111\n"
     ]
    }
   ],
   "source": [
    "echo {0..1}{0..1}{0..1}{0..1}"
   ]
  },
  {
   "cell_type": "markdown",
   "id": "60b82ea4-6a66-4ea7-a576-d4ca17e27216",
   "metadata": {},
   "source": [
    "---"
   ]
  },
  {
   "cell_type": "markdown",
   "id": "bf76a4d4-728f-447d-a400-b524a824cbfb",
   "metadata": {},
   "source": [
    "Brace expansions can be nested: "
   ]
  },
  {
   "cell_type": "code",
   "execution_count": 27,
   "id": "3c614879-5170-4f57-a526-a9639fdf85da",
   "metadata": {},
   "outputs": [
    {
     "name": "stdout",
     "output_type": "stream",
     "text": [
      "c b z 1 2 3 4 5 6 7 8 9 Z\n"
     ]
    }
   ],
   "source": [
    "echo {{c,b},{z,{1..9},Z}}"
   ]
  }
 ],
 "metadata": {
  "kernelspec": {
   "display_name": "Bash",
   "language": "bash",
   "name": "bash"
  },
  "language_info": {
   "codemirror_mode": "shell",
   "file_extension": ".sh",
   "mimetype": "text/x-sh",
   "name": "bash"
  }
 },
 "nbformat": 4,
 "nbformat_minor": 5
}
