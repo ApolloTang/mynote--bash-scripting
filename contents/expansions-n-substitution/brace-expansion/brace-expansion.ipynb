{
 "cells": [
  {
   "cell_type": "code",
   "execution_count": 87,
   "id": "3d83ffce-eed3-445b-95bb-986a181366cd",
   "metadata": {},
   "outputs": [
    {
     "name": "stdout",
     "output_type": "stream",
     "text": [
      "bash: fg: %%bash: no such job\n",
      "\u001b[01;34m./tmp\u001b[0m\n",
      "├── \u001b[00m.gitignore\u001b[0m\n",
      "├── \u001b[00ma0.txt\u001b[0m\n",
      "├── \u001b[00ma1.txt\u001b[0m\n",
      "├── \u001b[00mb2.txt\u001b[0m\n",
      "└── \u001b[00mb3.txt\u001b[0m\n",
      "\n",
      "1 directory, 5 files\n"
     ]
    }
   ],
   "source": [
    "%%bash\n",
    "# setup playground\n",
    "\n",
    "sh -c \"[[ -d ./tmp ]] && { rm -r ./tmp; mkdir ./tmp;} || { mkdir -p ./tmp; }\"\n",
    "# The above oneliner removes the previous ./tmp/ and its content, then creates a new one with the same name\n",
    "# It is modified after:\n",
    "# stackoverflow.com/questions/73557323/bash-one-liner-check-if-a-directory-exists-if-so-delete-it-then-create-it-an\n",
    "\n",
    "touch ./tmp/a{0..1}.txt\n",
    "touch ./tmp/b{2..3}.txt\n",
    "echo '*' > ./tmp/.gitignore\n",
    "tree -a ./tmp"
   ]
  },
  {
   "cell_type": "markdown",
   "id": "cf8151ec-53b2-49f7-86ac-81f8f6fb8bbc",
   "metadata": {},
   "source": [
    "Brace expansion is used for generating strings. Syntactically, there are two forms: \n",
    "1. the sequence expressions\n",
    "2. the comma-separated strings expression"
   ]
  },
  {
   "cell_type": "markdown",
   "id": "7f6f5970-b38b-4894-bd3f-ac7d311edf7a",
   "metadata": {},
   "source": [
    "Here are examples of them respectively:"
   ]
  },
  {
   "cell_type": "code",
   "execution_count": 88,
   "id": "4e5dbf05-12c3-4d3a-9978-5867146d5238",
   "metadata": {},
   "outputs": [
    {
     "name": "stdout",
     "output_type": "stream",
     "text": [
      "file-8.txt file-9.txt file-10.txt file-11.txt file-12.txt\n",
      "hello-world goodbye-world\n"
     ]
    }
   ],
   "source": [
    "echo file-{8..12}.txt       # sequence expressions\n",
    "echo {hello,goodbye}-world  # comma-separated strings expression"
   ]
  },
  {
   "cell_type": "markdown",
   "id": "dac0e505-72ae-40df-ba3d-0def523cdb0d",
   "metadata": {},
   "source": [
    "As shown above, sequence expressions generate [natural sort order](https://en.wikipedia.org/wiki/Natural_sort_order), while comma-separated string expressions will preserve left to right without altering the order. "
   ]
  },
  {
   "cell_type": "markdown",
   "id": "cee9dba8-f512-4fc5-8902-b49f1bdcf539",
   "metadata": {},
   "source": [
    "In sequence expression, the range can be integer or alphabet letter, and you can reverse them:"
   ]
  },
  {
   "cell_type": "code",
   "execution_count": 89,
   "id": "e6b864be-5311-4745-b0d9-523411883c92",
   "metadata": {},
   "outputs": [
    {
     "name": "stdout",
     "output_type": "stream",
     "text": [
      "-3 -2 -1 0 1 2 3\n",
      "3 2 1 0 -1 -2 -3\n",
      "a b c d e f g h i j k l m n o p q r s t u v w x y z\n",
      "z y x w v u t s r q p o n m l k j i h g f e d c b a\n"
     ]
    }
   ],
   "source": [
    "echo {-3..3}\n",
    "echo {3..-3}\n",
    "echo {a..z}\n",
    "echo {z..a}"
   ]
  },
  {
   "cell_type": "markdown",
   "id": "3f32bfb2-d0ff-4c14-897d-c5dbd67e6863",
   "metadata": {},
   "source": [
    "However, they can only be either integer or alphabet letter, not mixed. If you mix them the expansion will fail silently:"
   ]
  },
  {
   "cell_type": "code",
   "execution_count": 90,
   "id": "4b8b738d-9288-4e6c-8177-c1c0a061e468",
   "metadata": {},
   "outputs": [
    {
     "name": "stdout",
     "output_type": "stream",
     "text": [
      "{-3..z}\n"
     ]
    }
   ],
   "source": [
    "echo {-3..z}"
   ]
  },
  {
   "cell_type": "markdown",
   "id": "d23559b6-4590-4edd-84a7-fba8e4878edd",
   "metadata": {},
   "source": [
    "When using sequence expression of integer range, if one of the integers is prefixed with 0, the result will be **Zero-Padded Numeric Strings**. (The shell attempts to force all generated terms to contain the same number of digits where necessary.) With Zero-Padded Numeric Strings, the sort order will be **Lexicographical Order**:"
   ]
  },
  {
   "cell_type": "code",
   "execution_count": 91,
   "id": "e37490f8-0b31-487f-92fa-fe6f90e2df6e",
   "metadata": {},
   "outputs": [
    {
     "name": "stdout",
     "output_type": "stream",
     "text": [
      "07 08 09 10\n",
      "0010 0009 0008 0007\n"
     ]
    }
   ],
   "source": [
    "echo {07..10}\n",
    "echo {0010..7}"
   ]
  },
  {
   "cell_type": "markdown",
   "id": "2d9413f7-a393-43e5-917e-2c8e0391d5c3",
   "metadata": {},
   "source": [
    "When using sequence expression of alphabet letter as range, You can extend the alphabetical sequence to include different case:"
   ]
  },
  {
   "cell_type": "code",
   "execution_count": 92,
   "id": "25aa397b-24b0-43b8-ad88-d9fa2a419c95",
   "metadata": {},
   "outputs": [
    {
     "name": "stdout",
     "output_type": "stream",
     "text": [
      "A B C D E F G H I J K L M N O P Q R S T U V W X Y Z [  ] ^ _ ` a b c d e f g h i j k l m n o p q r s t u v w x y z\n",
      "z y x w v u t s r q p o n m l k j i h g f e d c b a ` _ ^ ]  [ Z Y X W V U T S R Q P O N M L K J I H G F E D C B A\n"
     ]
    }
   ],
   "source": [
    "echo {A..z}\n",
    "echo {z..A}"
   ]
  },
  {
   "cell_type": "markdown",
   "id": "2f2f1428-dc37-4264-bf1f-b6d26d207401",
   "metadata": {},
   "source": [
    "It seems that the sequence is expanded following the sequence of [ASCII Table](https://www.cs.cmu.edu/~pattis/15-1XX/common/handouts/ascii.html); however, back slash, `\\`, that should be in between `[` and `]` is missing."
   ]
  },
  {
   "cell_type": "markdown",
   "id": "addf5412-984a-40d7-89c1-7b8cada01d5e",
   "metadata": {},
   "source": [
    "Note the following results when you reverse the capitalization:"
   ]
  },
  {
   "cell_type": "code",
   "execution_count": 93,
   "id": "0f97b983-660f-4e06-9f96-6664069bc799",
   "metadata": {},
   "outputs": [
    {
     "name": "stdout",
     "output_type": "stream",
     "text": [
      "a ` _ ^ ]  [ Z\n",
      "Z [  ] ^ _ ` a\n"
     ]
    }
   ],
   "source": [
    "echo {a..Z}\n",
    "echo {Z..a}"
   ]
  },
  {
   "cell_type": "markdown",
   "id": "8e1c6342-e80c-4612-a3a1-0d642a70e557",
   "metadata": {},
   "source": [
    "You should be careful when your intended string generation contains space. For example, if you want to generate `- 1-` and `- 3-`, the following won't work:"
   ]
  },
  {
   "cell_type": "code",
   "execution_count": 94,
   "id": "0ee61f2a-25ab-4123-94d6-f7bfd3b507f2",
   "metadata": {},
   "outputs": [
    {
     "name": "stdout",
     "output_type": "stream",
     "text": [
      "-{ 1, 3}-\n"
     ]
    }
   ],
   "source": [
    "echo -{ 1, 3}-"
   ]
  },
  {
   "cell_type": "markdown",
   "id": "6dc9e06b-eb7e-43d2-a357-3a2f2c0a081d",
   "metadata": {},
   "source": [
    "The above above does not work because it is equivalent to:"
   ]
  },
  {
   "cell_type": "code",
   "execution_count": 95,
   "id": "e01510c7-0d9c-4f00-85df-8955f861639f",
   "metadata": {},
   "outputs": [
    {
     "name": "stdout",
     "output_type": "stream",
     "text": [
      "-{ 1, 3}-\n"
     ]
    }
   ],
   "source": [
    "echo '-{' '1,' '3}-'"
   ]
  },
  {
   "cell_type": "markdown",
   "id": "e0440e5c-9c8b-49dc-9de6-6f5eaf4fd6f9",
   "metadata": {},
   "source": [
    "As you can see, the spaces in the statement `echo -{ 1, 3}-` has been intepreted as arugument saparator for the echo command."
   ]
  },
  {
   "cell_type": "markdown",
   "id": "a6856aae-de3e-46c7-ab92-3229a422c2d2",
   "metadata": {},
   "source": [
    " To generate `- 1-` and `- 3-` you can use either one of the following:"
   ]
  },
  {
   "cell_type": "code",
   "execution_count": 96,
   "id": "a6929b65-22a6-4d11-9866-6bf92fa5260c",
   "metadata": {},
   "outputs": [
    {
     "name": "stdout",
     "output_type": "stream",
     "text": [
      "- 1- - 3-\n",
      "- 1- - 3-\n"
     ]
    }
   ],
   "source": [
    "echo -{' 1',' 3'}-\n",
    "echo -{\\ 1,\\ 3}-"
   ]
  },
  {
   "cell_type": "markdown",
   "id": "3eff8a76-fb46-4acd-b9fd-da895386350c",
   "metadata": {},
   "source": [
    "Symbol generation is okay too, but you have to quote or escape them:"
   ]
  },
  {
   "cell_type": "code",
   "execution_count": 97,
   "id": "753bb72c-45ed-4ebc-a764-37f80b5a1adb",
   "metadata": {},
   "outputs": [
    {
     "name": "stdout",
     "output_type": "stream",
     "text": [
      "* * *\n",
      ", , ,\n",
      "{ { {\n",
      "' '\n",
      "\" \"\n"
     ]
    }
   ],
   "source": [
    "echo {'*',\"*\",\\*}\n",
    "echo {',',\",\",\\,}\n",
    "echo {'{',\"{\",\\{}\n",
    "echo {\\',\"'\"}\n",
    "echo {\\\",'\"'}"
   ]
  },
  {
   "cell_type": "markdown",
   "id": "d039ae02-8cca-421b-a805-e77ba62e8f71",
   "metadata": {},
   "source": [
    "Otherwise the shell will do further expansion on the result of brance expansion if the symbol has special meaning. For example:"
   ]
  },
  {
   "cell_type": "code",
   "execution_count": 100,
   "id": "86568c9c-7de2-4a76-b73a-608b3f436632",
   "metadata": {},
   "outputs": [
    {
     "name": "stdout",
     "output_type": "stream",
     "text": [
      "./tmp/3 ./tmp/a0.txt ./tmp/a1.txt ./tmp/b2.txt ./tmp/b3.txt\n"
     ]
    }
   ],
   "source": [
    "echo ./tmp/{3,*}"
   ]
  },
  {
   "cell_type": "markdown",
   "id": "b2da4db4-b151-4fb0-8774-cbb65f98221a",
   "metadata": {},
   "source": [
    "In the above `{3,*}` expands to `3 *` then the glob `*` is further expand to name of files."
   ]
  },
  {
   "cell_type": "markdown",
   "id": "bad84edc-8be9-457d-b7a5-0b466c50c722",
   "metadata": {},
   "source": [
    "---"
   ]
  },
  {
   "cell_type": "markdown",
   "id": "4e30fcf0-4f64-431f-adb3-801640ccde99",
   "metadata": {},
   "source": [
    "Combine two or more sequences to create permutation and combination:"
   ]
  },
  {
   "cell_type": "code",
   "execution_count": 101,
   "id": "3d154152-6708-4d6c-8f3e-f76138db1b2b",
   "metadata": {},
   "outputs": [
    {
     "name": "stdout",
     "output_type": "stream",
     "text": [
      "A1 A2 A3 B1 B2 B3 C1 C2 C3\n"
     ]
    }
   ],
   "source": [
    "echo {A,B,C}{1,2,3}"
   ]
  },
  {
   "cell_type": "code",
   "execution_count": 102,
   "id": "2bd2b44e-8727-447a-816f-2553c333bb77",
   "metadata": {},
   "outputs": [
    {
     "name": "stdout",
     "output_type": "stream",
     "text": [
      "A1 A2 A3 B1 B2 B3 C1 C2 C3\n"
     ]
    }
   ],
   "source": [
    "echo {A..C}{1..3}"
   ]
  },
  {
   "cell_type": "markdown",
   "id": "2539ba4e-5598-41bd-b709-c378ac60128c",
   "metadata": {},
   "source": [
    "Below we generate all the binary numbers for an 4-bit register, in ascending order:"
   ]
  },
  {
   "cell_type": "code",
   "execution_count": 103,
   "id": "a2d10d65-1ca6-4ee3-8947-652e617ffcc7",
   "metadata": {},
   "outputs": [
    {
     "name": "stdout",
     "output_type": "stream",
     "text": [
      "0000 0001 0010 0011 0100 0101 0110 0111 1000 1001 1010 1011 1100 1101 1110 1111\n"
     ]
    }
   ],
   "source": [
    "echo {0..1}{0..1}{0..1}{0..1}"
   ]
  },
  {
   "cell_type": "markdown",
   "id": "60b82ea4-6a66-4ea7-a576-d4ca17e27216",
   "metadata": {},
   "source": [
    "---"
   ]
  },
  {
   "cell_type": "markdown",
   "id": "bf76a4d4-728f-447d-a400-b524a824cbfb",
   "metadata": {},
   "source": [
    "Brace expansions can be nested: "
   ]
  },
  {
   "cell_type": "code",
   "execution_count": 104,
   "id": "3c614879-5170-4f57-a526-a9639fdf85da",
   "metadata": {},
   "outputs": [
    {
     "name": "stdout",
     "output_type": "stream",
     "text": [
      "c b z 1 2 3 4 5 6 7 8 9 Z\n"
     ]
    }
   ],
   "source": [
    "echo {{c,b},{z,{1..9},Z}}"
   ]
  },
  {
   "cell_type": "markdown",
   "id": "622473a9-f529-46ae-b470-83cae1951c1c",
   "metadata": {},
   "source": [
    "Here is a more complecated example for nesting: "
   ]
  },
  {
   "cell_type": "code",
   "execution_count": 105,
   "id": "ae8978d8-3bca-44ae-a645-4d41ca03914e",
   "metadata": {},
   "outputs": [
    {
     "name": "stdout",
     "output_type": "stream",
     "text": [
      "./tmp/b2.txt ./tmp/b3.txt ./tmp/c?.txt ./tmp/ucb/ex ./tmp/ucb/edit\n"
     ]
    }
   ],
   "source": [
    "echo ./tmp/{{b,c}?.txt,ucb/{ex,edit}}"
   ]
  },
  {
   "cell_type": "markdown",
   "id": "88c40a19-06f2-4de8-89b9-d6bf3973618e",
   "metadata": {},
   "source": [
    "Note that in the above, the part `./tmp/{{b,c}?.txt,...}`, the `?` is expanded to `2` and `3` when it is preceed with `b` because the files exist; however, when preceed with `c` it is left expanded, because the file does not exist."
   ]
  },
  {
   "cell_type": "code",
   "execution_count": null,
   "id": "1dad56fc-2964-4d0a-a17c-1a237bd0d8aa",
   "metadata": {},
   "outputs": [],
   "source": []
  }
 ],
 "metadata": {
  "kernelspec": {
   "display_name": "Bash",
   "language": "bash",
   "name": "bash"
  },
  "language_info": {
   "codemirror_mode": "shell",
   "file_extension": ".sh",
   "mimetype": "text/x-sh",
   "name": "bash"
  }
 },
 "nbformat": 4,
 "nbformat_minor": 5
}
