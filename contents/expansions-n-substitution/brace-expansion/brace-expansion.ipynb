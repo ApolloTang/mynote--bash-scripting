{
 "cells": [
  {
   "cell_type": "markdown",
   "id": "cf8151ec-53b2-49f7-86ac-81f8f6fb8bbc",
   "metadata": {},
   "source": [
    "Brace expansion is used for generating strings. Syntactically, there are two forms: \n",
    "1. the comma-separated strings expression and\n",
    "2. the sequence expressions"
   ]
  },
  {
   "cell_type": "markdown",
   "id": "7f6f5970-b38b-4894-bd3f-ac7d311edf7a",
   "metadata": {},
   "source": [
    "Here are examples for them respective:"
   ]
  },
  {
   "cell_type": "code",
   "execution_count": 103,
   "id": "4e5dbf05-12c3-4d3a-9978-5867146d5238",
   "metadata": {},
   "outputs": [
    {
     "name": "stdout",
     "output_type": "stream",
     "text": [
      "hello-world goodbye-world\n",
      "file-7.txt file-8.txt file-9.txt file-10.txt\n"
     ]
    }
   ],
   "source": [
    "echo {hello,goodbye}-world  # comma-separated strings expression\n",
    "echo file-{7..10}.txt       # sequence expressions"
   ]
  },
  {
   "cell_type": "markdown",
   "id": "dac0e505-72ae-40df-ba3d-0def523cdb0d",
   "metadata": {},
   "source": [
    "Note that when using the comma-separated strings expression, results are not sorted, but left to right order is preserved:"
   ]
  },
  {
   "cell_type": "code",
   "execution_count": 96,
   "id": "295ec24b-bb3d-4a94-b0b0-1456ea20f399",
   "metadata": {},
   "outputs": [
    {
     "name": "stdout",
     "output_type": "stream",
     "text": [
      "a c z n 0 4 2 01\n"
     ]
    }
   ],
   "source": [
    "echo {a,c,z,n,0,4,2,01}"
   ]
  },
  {
   "cell_type": "markdown",
   "id": "cee9dba8-f512-4fc5-8902-b49f1bdcf539",
   "metadata": {},
   "source": [
    "In the sequence expression, the results are numerically ordered if the specified range is integer. You can also generate reverse numerical order:"
   ]
  },
  {
   "cell_type": "code",
   "execution_count": 106,
   "id": "40566df9-205f-4ff9-8312-2c09aab07a5f",
   "metadata": {},
   "outputs": [
    {
     "name": "stdout",
     "output_type": "stream",
     "text": [
      "7 8 9 10\n",
      "10 9 8 7\n"
     ]
    }
   ],
   "source": [
    "echo {7..10}\n",
    "echo {10..7}"
   ]
  },
  {
   "cell_type": "markdown",
   "id": "d23559b6-4590-4edd-84a7-fba8e4878edd",
   "metadata": {},
   "source": [
    "If one of the integer prefixed with 0,  the shell attempts to force all generated terms to contain the same number of digits, zero-padding where necessary:"
   ]
  },
  {
   "cell_type": "code",
   "execution_count": 118,
   "id": "e37490f8-0b31-487f-92fa-fe6f90e2df6e",
   "metadata": {},
   "outputs": [
    {
     "name": "stdout",
     "output_type": "stream",
     "text": [
      "010 009 008 007\n",
      "07 08 09 10\n"
     ]
    }
   ],
   "source": [
    "echo {010..7}\n",
    "echo {07..10}"
   ]
  },
  {
   "cell_type": "markdown",
   "id": "1bd80f1b-1478-4bec-a619-3c410b93baca",
   "metadata": {},
   "source": [
    "If the specified range is the letter, the results are lexicographically ordered. You can also generate reverse order:"
   ]
  },
  {
   "cell_type": "code",
   "execution_count": 114,
   "id": "44cab656-ae44-48cc-bc52-7349b948b05e",
   "metadata": {},
   "outputs": [
    {
     "name": "stdout",
     "output_type": "stream",
     "text": [
      "a b c d e f g h i j k l m n o p q r s t u v w x y z\n",
      "z y x w v u t s r q p o n m l k j i h g f e d c b a\n"
     ]
    }
   ],
   "source": [
    "echo {a..z}\n",
    "echo {z..a}"
   ]
  },
  {
   "cell_type": "code",
   "execution_count": null,
   "id": "0f97b983-660f-4e06-9f96-6664069bc799",
   "metadata": {},
   "outputs": [],
   "source": [
    "The sequence c"
   ]
  },
  {
   "cell_type": "markdown",
   "id": "8e1c6342-e80c-4612-a3a1-0d642a70e557",
   "metadata": {},
   "source": [
    "Note that space "
   ]
  },
  {
   "cell_type": "code",
   "execution_count": 94,
   "id": "e01510c7-0d9c-4f00-85df-8955f861639f",
   "metadata": {},
   "outputs": [
    {
     "name": "stdout",
     "output_type": "stream",
     "text": [
      "{1,  3}\n",
      "{1,  3}\n",
      "1 3\n"
     ]
    }
   ],
   "source": [
    "echo {1,\\  3}\n",
    "echo \"{1, \" \"3}\"\n",
    "echo {1,3}"
   ]
  },
  {
   "cell_type": "markdown",
   "id": "3eff8a76-fb46-4acd-b9fd-da895386350c",
   "metadata": {},
   "source": [
    "Symbol generation is okay too, but you have to quote or escape them:"
   ]
  },
  {
   "cell_type": "code",
   "execution_count": 98,
   "id": "753bb72c-45ed-4ebc-a764-37f80b5a1adb",
   "metadata": {},
   "outputs": [
    {
     "name": "stdout",
     "output_type": "stream",
     "text": [
      "3 Untitled.ipynb\n",
      "3 * *\n"
     ]
    }
   ],
   "source": [
    "echo {3,*}\n",
    "echo {3,\"*\",\\*} "
   ]
  },
  {
   "cell_type": "code",
   "execution_count": 91,
   "id": "495855fa-b5df-4d27-bdd0-0500a6deddf6",
   "metadata": {},
   "outputs": [
    {
     "name": "stdout",
     "output_type": "stream",
     "text": [
      "{@,#,$, •,&,,2}\n",
      "3 Untitled.ipynb\n",
      "3 * *\n",
      "3 * * & & / _ , . ' \"\n"
     ]
    }
   ],
   "source": [
    "echo {@,#,$, •,\\&,,2}        # does not work\n",
    "echo {3,*}\n",
    "echo {3,\"*\",\\*}        # does not work\n",
    "echo {3,\"*\",\\*,'&',\\&,/,_,\\,,.,\\',\\\"}    # work!"
   ]
  },
  {
   "cell_type": "markdown",
   "id": "213bac0b-a3f5-4557-8c27-90885534b6c4",
   "metadata": {},
   "source": []
  },
  {
   "cell_type": "markdown",
   "id": "3572448d-8b09-4b11-bf0a-b497701a4abb",
   "metadata": {},
   "source": [
    "You can combine brace expansion"
   ]
  },
  {
   "cell_type": "markdown",
   "id": "74fe4a06-396b-483c-8a2c-e9df88e24569",
   "metadata": {},
   "source": [
    "Here is an example of sequence expressions  strings syntax:"
   ]
  },
  {
   "cell_type": "code",
   "execution_count": 50,
   "id": "eb2a6541-57c6-4eca-ba56-79637516b6bd",
   "metadata": {},
   "outputs": [
    {
     "name": "stdout",
     "output_type": "stream",
     "text": [
      "file-5.txt file-6.txt file-7.txt file-8.txt file-9.txt file-10.txt\n"
     ]
    }
   ],
   "source": [
    "echo file-{5..10}.txt"
   ]
  },
  {
   "cell_type": "code",
   "execution_count": null,
   "id": "a35d6a08-0d93-4cd5-b72b-7e6e36b3c0c9",
   "metadata": {},
   "outputs": [],
   "source": []
  }
 ],
 "metadata": {
  "kernelspec": {
   "display_name": "Bash",
   "language": "bash",
   "name": "bash"
  },
  "language_info": {
   "codemirror_mode": "shell",
   "file_extension": ".sh",
   "mimetype": "text/x-sh",
   "name": "bash"
  }
 },
 "nbformat": 4,
 "nbformat_minor": 5
}
