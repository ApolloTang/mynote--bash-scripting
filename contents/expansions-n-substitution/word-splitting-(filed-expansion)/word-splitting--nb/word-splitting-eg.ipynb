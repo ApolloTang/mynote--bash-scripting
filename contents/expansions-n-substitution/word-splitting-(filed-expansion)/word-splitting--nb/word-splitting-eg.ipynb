{
 "cells": [
  {
   "cell_type": "markdown",
   "id": "37f2bf67-dcc2-4c42-ab58-6e2238cfd95e",
   "metadata": {},
   "source": [
    "# Word splitting example:\n",
    "\n",
    "**Always put double quotes around variable and command substitutions**Without the double quotes, the shell performs field splitting (i.e. it splits the content of the variable or the output from the command into separate words) and then treats each word as a separate argument for a command. [Ref: [StackOverflow](https://stackoverflow.com/a/11065196/3136861)]"
   ]
  },
  {
   "cell_type": "code",
   "execution_count": 7,
   "id": "faf69116-4852-43e2-94dc-1f0afa6e0e09",
   "metadata": {},
   "outputs": [
    {
     "name": "stdout",
     "output_type": "stream",
     "text": [
      "my\n",
      "content\n"
     ]
    }
   ],
   "source": [
    "myVariable=\"my content\"\n",
    "printf \"%s\\n\" $myVariable"
   ]
  },
  {
   "cell_type": "markdown",
   "id": "3a60ce36-1749-4f1c-b69d-77d0ca4fa3b9",
   "metadata": {},
   "source": [
    "After parameter expansion, bash will perform a word splitting, so the above is equavilent to: "
   ]
  },
  {
   "cell_type": "code",
   "execution_count": 8,
   "id": "d6e26eb0-b94d-47d0-9752-3895ba68cac0",
   "metadata": {},
   "outputs": [
    {
     "name": "stdout",
     "output_type": "stream",
     "text": [
      "my\n",
      "content\n"
     ]
    }
   ],
   "source": [
    "printf \"%s\\n\" my content"
   ]
  },
  {
   "cell_type": "markdown",
   "id": "d8ead902-4549-4963-a8e5-300fd2253959",
   "metadata": {},
   "source": [
    "Where the string 'my' is sent to printf's placeholder `%s`. If you want to send all the content of `myVariable` to `printf`'s placeholder, you need to double-quote the parameter expansion:"
   ]
  },
  {
   "cell_type": "code",
   "execution_count": 4,
   "id": "6a2283af-c749-4d0a-9f5a-06d9f3bfc886",
   "metadata": {},
   "outputs": [
    {
     "name": "stdout",
     "output_type": "stream",
     "text": [
      "my content\n"
     ]
    }
   ],
   "source": [
    "myVariable=\"my content\"\n",
    "printf \"%s\\n\" \"$myVariable\""
   ]
  },
  {
   "cell_type": "markdown",
   "id": "b2d4a57a-7e7a-4583-86fa-e61167d59e13",
   "metadata": {},
   "source": [
    "Ref: \n",
    "[opensource.com/article/17/6/bash-parameter-expansion](https://opensource.com/article/17/6/bash-parameter-expansion)"
   ]
  }
 ],
 "metadata": {
  "kernelspec": {
   "display_name": "Bash",
   "language": "bash",
   "name": "bash"
  },
  "language_info": {
   "codemirror_mode": "shell",
   "file_extension": ".sh",
   "mimetype": "text/x-sh",
   "name": "bash"
  }
 },
 "nbformat": 4,
 "nbformat_minor": 5
}
