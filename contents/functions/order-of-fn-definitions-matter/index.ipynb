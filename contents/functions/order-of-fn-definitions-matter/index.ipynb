{
 "cells": [
  {
   "cell_type": "code",
   "execution_count": 7,
   "id": "680c4b51-7b23-44ec-95b9-ccc63bcb8b3c",
   "metadata": {},
   "outputs": [],
   "source": [
    "%%bash\n",
    "\n",
    "touch foo.sh && chmod 744 $_\n",
    "touch foo_fixed.sh && chmod 744 $_"
   ]
  },
  {
   "cell_type": "markdown",
   "id": "72d883ef-0193-4ba4-ae86-52772b246ed4",
   "metadata": {},
   "source": [
    "# Order of function definitions matter:"
   ]
  },
  {
   "cell_type": "code",
   "execution_count": 8,
   "id": "7462cad6-7726-44bd-84a3-7ebeec3d4be7",
   "metadata": {},
   "outputs": [
    {
     "name": "stdout",
     "output_type": "stream",
     "text": [
      "Overwriting foo.sh\n"
     ]
    }
   ],
   "source": [
    "%%file foo.sh\n",
    "#!/usr/bin/env sh\n",
    "\n",
    "fn_start (){ fun1; }\n",
    "fn_start \n",
    "fun1 (){ echo 'fun1 executed'; }  "
   ]
  },
  {
   "cell_type": "code",
   "execution_count": 9,
   "id": "536f6b1c-9004-4b35-ab6e-19d9d1130202",
   "metadata": {
    "scrolled": true
   },
   "outputs": [
    {
     "name": "stderr",
     "output_type": "stream",
     "text": [
      "./foo.sh: line 3: fun1: command not found\n"
     ]
    }
   ],
   "source": [
    "%%bash\n",
    "./foo.sh"
   ]
  },
  {
   "cell_type": "markdown",
   "id": "c9441dbd-4b91-445b-b5d7-be9b27b341f4",
   "metadata": {},
   "source": [
    "Error because the callee `fun1` is defined after the caller `fun_start` is executed."
   ]
  },
  {
   "cell_type": "markdown",
   "id": "3e18d029-7e44-465f-97a4-1fb681f112c9",
   "metadata": {},
   "source": [
    "### Fixed"
   ]
  },
  {
   "cell_type": "code",
   "execution_count": 10,
   "id": "2f11eb6b-7a08-4558-8bcb-dc3406f1d19f",
   "metadata": {},
   "outputs": [
    {
     "name": "stdout",
     "output_type": "stream",
     "text": [
      "Overwriting foo_fixed.sh\n"
     ]
    }
   ],
   "source": [
    "%%file foo_fixed.sh\n",
    "#!/usr/bin/env sh\n",
    "\n",
    "fn_start (){ fun1; }\n",
    "fun1 (){ echo 'fun1 executed'; } \n",
    "fn_start "
   ]
  },
  {
   "cell_type": "code",
   "execution_count": 11,
   "id": "23f96f5e-b2b3-4aa9-8181-b0534d15396f",
   "metadata": {},
   "outputs": [
    {
     "name": "stdout",
     "output_type": "stream",
     "text": [
      "fun1 executed\n"
     ]
    }
   ],
   "source": [
    "%%bash\n",
    "./foo_fixed.sh"
   ]
  }
 ],
 "metadata": {
  "kernelspec": {
   "display_name": "Python 3 (ipykernel)",
   "language": "python",
   "name": "python3"
  },
  "language_info": {
   "codemirror_mode": {
    "name": "ipython",
    "version": 3
   },
   "file_extension": ".py",
   "mimetype": "text/x-python",
   "name": "python",
   "nbconvert_exporter": "python",
   "pygments_lexer": "ipython3",
   "version": "3.12.2"
  }
 },
 "nbformat": 4,
 "nbformat_minor": 5
}
