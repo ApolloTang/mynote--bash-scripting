{
 "cells": [
  {
   "cell_type": "code",
   "execution_count": 13,
   "id": "fff91999-a9fb-49d1-8dda-117abf6cd9bd",
   "metadata": {},
   "outputs": [],
   "source": [
    "%%bash\n",
    "touch bar.sh && chmod 744 $_"
   ]
  },
  {
   "cell_type": "markdown",
   "id": "1ca24862-c65b-4e95-a3b2-9d8401a79a1a",
   "metadata": {},
   "source": [
    "# How to return data from a bash function:\n",
    "\n",
    "In most programming languages, a function's return is used to output data from the function. The bash function's return is not for this purpose.  The bash function is actually a command; its returns are used to set an execution's exit code. "
   ]
  },
  {
   "cell_type": "markdown",
   "id": "f5830db9-2782-4309-b7fd-019f6b35acc2",
   "metadata": {},
   "source": [
    "## capturing the exit code as the return value\n",
    "If the data returned by your function is an integer ranging from 0 to 255. You could use execution's exit code as a return:"
   ]
  },
  {
   "cell_type": "code",
   "execution_count": 14,
   "id": "2ba32248-7bb8-4fae-b645-af1cff157c72",
   "metadata": {},
   "outputs": [
    {
     "name": "stdout",
     "output_type": "stream",
     "text": [
      "Overwriting bar.sh\n"
     ]
    }
   ],
   "source": [
    "%%file bar.sh\n",
    "#!/usr/bin/env sh\n",
    "\n",
    "function callee() {\n",
    "    return 30\n",
    "}\n",
    "\n",
    "function caller() {\n",
    "    callee\n",
    "    local result=$?\n",
    "    echo $result\n",
    "}\n",
    "\n",
    "caller"
   ]
  },
  {
   "cell_type": "code",
   "execution_count": 15,
   "id": "0e0699f5-acb4-4b40-ba4b-a8e93b801502",
   "metadata": {},
   "outputs": [
    {
     "name": "stdout",
     "output_type": "stream",
     "text": [
      "30\n"
     ]
    }
   ],
   "source": [
    "%%bash\n",
    "./bar.sh"
   ]
  },
  {
   "cell_type": "markdown",
   "id": "c5f8ab95-3eb2-46bd-96c7-7e94c81ca38c",
   "metadata": {},
   "source": [
    "This way of captureing the exit code as the return value is a hack, and thus non-ideal. This method limit to only returning integer ranging from `0` to `255`. "
   ]
  },
  {
   "cell_type": "markdown",
   "id": "83246dda-cd4e-4fe7-95c8-333b2a9e6bf8",
   "metadata": {},
   "source": [
    "## Capture return value from `stdout` or `stderr`\n",
    "\n",
    "A better way to capture the return value is to treat the function as what it is supposed to be, namely, a command. When a bash command is executed, its output is made available at `stdout` or `stderr` via `echo` command:"
   ]
  },
  {
   "cell_type": "code",
   "execution_count": 16,
   "id": "759857b5-a518-4ff3-84f0-b260f26796b3",
   "metadata": {},
   "outputs": [
    {
     "name": "stdout",
     "output_type": "stream",
     "text": [
      "Overwriting bar.sh\n"
     ]
    }
   ],
   "source": [
    "%%file bar.sh\n",
    "#!/usr/bin/env sh\n",
    "\n",
    "function callee() {\n",
    "    echo thirty\n",
    "}\n",
    "\n",
    "function caller() {\n",
    "    local result=$(callee)\n",
    "    echo $result\n",
    "}\n",
    "\n",
    "caller"
   ]
  },
  {
   "cell_type": "code",
   "execution_count": 17,
   "id": "f701e688-5707-4053-b049-6227a055f3cf",
   "metadata": {},
   "outputs": [
    {
     "name": "stdout",
     "output_type": "stream",
     "text": [
      "thirty\n"
     ]
    }
   ],
   "source": [
    "%%bash\n",
    "./bar.sh"
   ]
  },
  {
   "cell_type": "markdown",
   "id": "657ee21a-e943-4d9a-8b91-4f2f52be7fa0",
   "metadata": {},
   "source": [
    "Using `echo` as the function's return means your function cannot output diagnostic information. To work around this, you can use `eval` to modify the input arguments (Positional Parameters)."
   ]
  },
  {
   "cell_type": "markdown",
   "id": "48eaf69e-3b68-4282-9bfd-74c449e72bd6",
   "metadata": {},
   "source": [
    "## Use `eval` to modifies the input arguments (Positional Parameters)"
   ]
  },
  {
   "cell_type": "code",
   "execution_count": 75,
   "id": "55b3033e-c297-4a17-8e2c-bc8c692068ac",
   "metadata": {},
   "outputs": [
    {
     "name": "stdout",
     "output_type": "stream",
     "text": [
      "Overwriting bar.sh\n"
     ]
    }
   ],
   "source": [
    "%%file bar.sh\n",
    "#!/usr/bin/env sh\n",
    "\n",
    "function callee() {\n",
    "    local callee_in=$1\n",
    "    local callee_return=thirty\n",
    "    eval $2=\"$callee_return\"\n",
    "    echo \"[callee diagnostic info] callee_in, callee_out: $callee_in, $callee_return\"\n",
    "}\n",
    "\n",
    "function caller() {\n",
    "    local foo=hello \n",
    "    local data_out\n",
    "\n",
    "    callee \"$foo\" data_out\n",
    "    local result=$data_out\n",
    "    echo \"[caller diagnostic info] result: $result\"\n",
    "}\n",
    "\n",
    "caller"
   ]
  },
  {
   "cell_type": "code",
   "execution_count": 76,
   "id": "d750f368-e5b0-4a97-9033-d293b5b47ca8",
   "metadata": {},
   "outputs": [
    {
     "name": "stdout",
     "output_type": "stream",
     "text": [
      "[callee diagnostic info] callee_in, callee_out: hello, thirty\n",
      "[caller diagnostic info] result: thirty\n"
     ]
    }
   ],
   "source": [
    "%%bash\n",
    "./bar.sh"
   ]
  },
  {
   "cell_type": "markdown",
   "id": "beeb1a1d-f6f2-4292-85a6-a10bb536b55c",
   "metadata": {},
   "source": [
    "This is still a hack but at lease you did not hijack the `echo` in the function from outputing diagnostic information."
   ]
  },
  {
   "cell_type": "markdown",
   "id": "c7a1d6c0-2782-4f02-8ad4-c3134dc6cc40",
   "metadata": {},
   "source": [
    "## Reference:\n",
    "- [Return value in a Bash function | stack overflow](https://stackoverflow.com/questions/17336915/return-value-in-a-bash-function)"
   ]
  }
 ],
 "metadata": {
  "kernelspec": {
   "display_name": "Python 3 (ipykernel)",
   "language": "python",
   "name": "python3"
  },
  "language_info": {
   "codemirror_mode": {
    "name": "ipython",
    "version": 3
   },
   "file_extension": ".py",
   "mimetype": "text/x-python",
   "name": "python",
   "nbconvert_exporter": "python",
   "pygments_lexer": "ipython3",
   "version": "3.12.2"
  }
 },
 "nbformat": 4,
 "nbformat_minor": 5
}
