{
 "cells": [
  {
   "cell_type": "code",
   "execution_count": 4,
   "id": "da21e04d",
   "metadata": {},
   "outputs": [
    {
     "name": "stdout",
     "output_type": "stream",
     "text": [
      "3\n",
      "4\n"
     ]
    }
   ],
   "source": [
    "function show_fruits(){\n",
    "    echo \"${2-1}\"\n",
    "}\n",
    "show_fruits 3  3\n",
    "show_fruits 3  4"
   ]
  },
  {
   "cell_type": "code",
   "execution_count": 5,
   "id": "3275fa81",
   "metadata": {},
   "outputs": [
    {
     "name": "stdout",
     "output_type": "stream",
     "text": [
      "3\n"
     ]
    }
   ],
   "source": [
    "show_fruits 3  3"
   ]
  }
 ],
 "metadata": {
  "kernelspec": {
   "display_name": "Bash",
   "language": "bash",
   "name": "bash"
  },
  "language_info": {
   "codemirror_mode": "shell",
   "file_extension": ".sh",
   "mimetype": "text/x-sh",
   "name": "bash"
  }
 },
 "nbformat": 4,
 "nbformat_minor": 5
}
