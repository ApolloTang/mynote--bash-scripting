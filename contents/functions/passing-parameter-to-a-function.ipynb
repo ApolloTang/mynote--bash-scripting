{
 "cells": [
  {
   "cell_type": "markdown",
   "id": "73399252",
   "metadata": {},
   "source": [
    "# Passing parameters to a function"
   ]
  },
  {
   "cell_type": "code",
   "execution_count": 8,
   "id": "da21e04d",
   "metadata": {},
   "outputs": [
    {
     "name": "stdout",
     "output_type": "stream",
     "text": [
      "$0: /usr/local/bin/bash\n",
      "$1: a\n",
      "$2: b\n",
      "${2-1}: b\n"
     ]
    }
   ],
   "source": [
    "function show_fruits(){\n",
    "    echo \"\\$0: $0\"\n",
    "    echo \"\\$1: $1\"\n",
    "    echo \"\\$2: $2\"\n",
    "    echo \"\\${2-1}: ${2-1}\"\n",
    "}\n",
    "show_fruits a b\n"
   ]
  },
  {
   "cell_type": "code",
   "execution_count": 9,
   "id": "3275fa81",
   "metadata": {},
   "outputs": [
    {
     "name": "stdout",
     "output_type": "stream",
     "text": [
      "$0: /usr/local/bin/bash\n",
      "$1: c\n",
      "$2: d\n",
      "${2-1}: d\n"
     ]
    }
   ],
   "source": [
    "show_fruits c d"
   ]
  },
  {
   "cell_type": "code",
   "execution_count": null,
   "id": "d4069a9a",
   "metadata": {},
   "outputs": [],
   "source": []
  }
 ],
 "metadata": {
  "kernelspec": {
   "display_name": "Bash",
   "language": "bash",
   "name": "bash"
  },
  "language_info": {
   "codemirror_mode": "shell",
   "file_extension": ".sh",
   "mimetype": "text/x-sh",
   "name": "bash"
  }
 },
 "nbformat": 4,
 "nbformat_minor": 5
}
